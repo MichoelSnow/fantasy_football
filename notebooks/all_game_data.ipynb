{
 "cells": [
  {
   "cell_type": "markdown",
   "metadata": {},
   "source": [
    "# Imports and Paths"
   ]
  },
  {
   "cell_type": "code",
   "execution_count": 176,
   "metadata": {
    "ExecuteTime": {
     "end_time": "2018-09-09T19:25:10.190219Z",
     "start_time": "2018-09-09T19:25:10.182379Z"
    }
   },
   "outputs": [],
   "source": [
    "import urllib\n",
    "from bs4 import BeautifulSoup, Comment\n",
    "import os\n",
    "import pandas as pd\n",
    "from plotnine import *\n",
    "import plotnine\n",
    "import time\n",
    "import json\n",
    "from datetime import datetime as dt\n",
    "from datetime import timedelta as td\n",
    "import numpy as np\n",
    "\n",
    "plotnine.options.figure_size = (12, 8)\n",
    "from pandas.api.types import is_string_dtype\n",
    "pd.options.display.max_columns=150\n",
    "pd.options.display.max_rows=100"
   ]
  },
  {
   "cell_type": "code",
   "execution_count": 2,
   "metadata": {
    "ExecuteTime": {
     "end_time": "2018-09-09T17:05:02.388564Z",
     "start_time": "2018-09-09T17:05:02.380685Z"
    }
   },
   "outputs": [],
   "source": [
    "PATH = '/data/msnow/football/'"
   ]
  },
  {
   "cell_type": "markdown",
   "metadata": {},
   "source": [
    "# Functions"
   ]
  },
  {
   "cell_type": "code",
   "execution_count": 3,
   "metadata": {
    "ExecuteTime": {
     "end_time": "2018-09-09T17:05:36.460803Z",
     "start_time": "2018-09-09T17:05:36.449832Z"
    }
   },
   "outputs": [],
   "source": [
    "def game_urls(yr,wk):\n",
    "    bs_pg = 'https://www.pro-football-reference.com/years/'\n",
    "    pg_url = f'{bs_pg}{yr}/week_{wk}.htm'\n",
    "    pg = urllib.request.urlopen(pg_url)\n",
    "    soup = BeautifulSoup(pg, 'html.parser')\n",
    "    summ = soup.find('div',{'class':'game_summaries'})\n",
    "    links = summ.find_all('td',{'class':'gamelink'})\n",
    "    game_urls = []\n",
    "    game_urls_bs = 'https://www.pro-football-reference.com/'\n",
    "    for game in links:\n",
    "        game_str = game.a['href']\n",
    "        game_urls.append(f'{game_urls_bs}{game_str}')\n",
    "    return game_urls"
   ]
  },
  {
   "cell_type": "code",
   "execution_count": 256,
   "metadata": {
    "ExecuteTime": {
     "end_time": "2018-09-09T20:05:35.986094Z",
     "start_time": "2018-09-09T20:05:35.968842Z"
    }
   },
   "outputs": [],
   "source": [
    "def scorebox(soup):\n",
    "    scrbox_dict = {}\n",
    "    scrbox_div = soup.find('div', {'class':'scorebox'})\n",
    "    scrbox = scrbox_div.find_all('div', recursive=False)\n",
    "    team_str = ['home', 'away']\n",
    "    for idx, team in enumerate(team_str):\n",
    "        team_name = scrbox[idx].find('a',{'itemprop':'name'})\n",
    "        coach_name = scrbox[idx].find('div', {'class':'datapoint'}).find('a')\n",
    "        score = scrbox[idx].find('div', {'class':'score'})\n",
    "        record = score.findNextSibling().string.split('-')\n",
    "        scrbox_dict[team + '_team_pg'] = team_name['href']\n",
    "        scrbox_dict[team + '_team_id'] = team_name['href'].split('/')[-2]\n",
    "        scrbox_dict[team + '_team_name'] = team_name.string\n",
    "        scrbox_dict[team + '_team_score'] = int(score.string)\n",
    "        scrbox_dict[team + '_team_coach_pg'] = coach_name['href']\n",
    "        scrbox_dict[team + '_team_coach_id'] = coach_name['href'].split('/')[-1].split('.')[0]\n",
    "        scrbox_dict[team + '_team_coach_name'] = coach_name.string\n",
    "        scrbox_dict[team + '_team_wins'] = int(record[0])\n",
    "        scrbox_dict[team + '_team_losses'] = int(record[1])\n",
    "        if len(record) == 3:\n",
    "            scrbox_dict[team + '_team_ties'] = int(record[2])\n",
    "        else:\n",
    "            scrbox_dict[team + '_team_ties'] = 0\n",
    "    if scrbox_dict['home_team_score'] > scrbox_dict['away_team_score']:\n",
    "        scrbox_dict['home_team_wins'] = scrbox_dict['home_team_wins'] - 1\n",
    "        scrbox_dict['away_team_losses'] = scrbox_dict['away_team_losses'] - 1\n",
    "    elif scrbox_dict['home_team_score'] < scrbox_dict['away_team_score']:\n",
    "        scrbox_dict['away_team_wins'] = scrbox_dict['away_team_wins'] - 1\n",
    "        scrbox_dict['home_team_losses'] = scrbox_dict['home_team_losses'] - 1\n",
    "    else:\n",
    "        scrbox_dict['away_team_ties'] = scrbox_dict['away_team_ties'] - 1\n",
    "        scrbox_dict['home_team_ties'] = scrbox_dict['home_team_ties'] - 1\n",
    "\n",
    "    scrbox_meta = scrbox[2].find_all('div')\n",
    "    game_datetime = scrbox_meta[0].string + scrbox_meta[1].contents[1][1:]\n",
    "    scrbox_dict['datetime'] = dt.strptime(game_datetime, '%A %b %d, %Y %H:%M%p')\n",
    "    for meta in scrbox_meta:\n",
    "        if meta.contents[0].string =='Stadium':\n",
    "            scrbox_dict['stadium_pg'] = meta.a['href']\n",
    "            scrbox_dict['stadium_name'] = meta.a.string\n",
    "            scrbox_dict['stadium_id'] = meta.a['href'].split('/')[-1].split('.')[0]\n",
    "    scrbox_dict['game_id'] = scrbox_dict['datetime'].strftime('%Y%m%d') + '0' + scrbox_dict['home_team_id']\n",
    "    return scrbox_dict"
   ]
  },
  {
   "cell_type": "code",
   "execution_count": 351,
   "metadata": {
    "ExecuteTime": {
     "end_time": "2018-09-09T22:10:09.348847Z",
     "start_time": "2018-09-09T22:10:09.340206Z"
    }
   },
   "outputs": [],
   "source": [
    "def team_lookup(team_string, scrbox_dict):\n",
    "    if scrbox_dict['home_team_name'].find(team_string) > -1 or scrbox_dict['home_team_id'].find(team_string) > -1:\n",
    "        tm_name = scrbox_dict['home_team_name']\n",
    "        tm_id = scrbox_dict['home_team_id']\n",
    "        tm_loc = 'home'\n",
    "    elif scrbox_dict['away_team_name'].find(team_string) > -1 or scrbox_dict['away_team_id'].find(team_string) > -1:\n",
    "        tm_name = scrbox_dict['away_team_name']\n",
    "        tm_id = scrbox_dict['away_team_id']\n",
    "        tm_loc = 'away'\n",
    "    else:\n",
    "        raise KeyError('Team Not Found')\n",
    "    return tm_name, tm_id, tm_loc"
   ]
  },
  {
   "cell_type": "code",
   "execution_count": 677,
   "metadata": {
    "ExecuteTime": {
     "end_time": "2018-09-10T14:21:15.431139Z",
     "start_time": "2018-09-10T14:21:14.111093Z"
    }
   },
   "outputs": [],
   "source": [
    "def scoring(soup, scrbox_dict):\n",
    "    scoring_list = []\n",
    "    scoring_div = soup.find('div', {'id':'all_scoring'})\n",
    "    rows = scoring_div.find_all('tr')\n",
    "    quarter = 1\n",
    "    for row in rows[1:]:\n",
    "        tmp_dict = {}\n",
    "        for cell in row.contents:\n",
    "            cell_str = cell.string\n",
    "            if cell['data-stat'] =='quarter' and cell_str is not None:\n",
    "                quarter = int(cell_str)\n",
    "            tmp_dict['quarter'] = quarter\n",
    "            if cell['data-stat'] =='time':\n",
    "                if cell_str is not None:\n",
    "                    str_split = cell_str.split(':')\n",
    "                    tmp_dict['sec_left_in_quarter'] = int(str_split[0])*60 + int(str_split[1])\n",
    "                    tmp_dict['sec_into_quarter'] = 15*60 - (int(str_split[0])*60 + int(str_split[1]))\n",
    "                    tmp_dict['sec_left_in_game'] = int(str_split[0])*60 + int(str_split[1]) + (4-tmp_dict['quarter'])*15*60\n",
    "                    tmp_dict['sec_into_game'] = 4*15*60 - (int(str_split[0])*60 + int(str_split[1]) + (4-tmp_dict['quarter'])*15*60)\n",
    "                else:\n",
    "                    tmp_dict['sec_left_in_quarter'] = np.NAN\n",
    "                    tmp_dict['sec_into_quarter'] = np.NAN\n",
    "                    tmp_dict['sec_left_in_game'] = np.NAN\n",
    "                    tmp_dict['sec_into_game'] = np.NAN\n",
    "            elif cell['data-stat'] =='team':\n",
    "                tm_name, tm_id, tm_loc = team_lookup(cell_str, scrbox_dict)\n",
    "                tmp_dict['scoring_team_name'] = tm_name\n",
    "                tmp_dict['scoring_team_id'] = tm_id\n",
    "                tmp_dict['scoring_team_loc'] = tm_loc\n",
    "            elif cell['data-stat'] =='vis_team_score':\n",
    "                tmp_dict['away_team_score'] = int(cell_str)\n",
    "            elif cell['data-stat'] =='home_team_score':\n",
    "                tmp_dict['home_team_score'] = int(cell_str)\n",
    "            elif cell['data-stat'] =='description':\n",
    "                cont = cell.contents\n",
    "                if cont[1].find('field') > -1:\n",
    "                    tmp_dict['score_type'] = 'field_goal'\n",
    "                    tmp_dict['kicker_id'] = cont[0]['href'].split('/')[-1].split('.')[0]\n",
    "                    tmp_dict['kicker_name'] = cont[0].string\n",
    "                    tmp_dict['kick_success'] = 1\n",
    "                    tmp_dict['pass_from_id'] = -999\n",
    "                    tmp_dict['pass_from_name'] = -999\n",
    "                    tmp_dict['rec_by_id'] = -999\n",
    "                    tmp_dict['rec_by_name'] = -999\n",
    "                    tmp_dict['rush_by_id'] = -999\n",
    "                    tmp_dict['rush_by_name'] = -999\n",
    "                    tmp_dict['yards'] = int(cont[1].split(' ')[1])\n",
    "                elif cont[1].find('pass') > -1:\n",
    "                    tmp_dict['score_type'] = 'pass'\n",
    "                    tmp_dict['pass_from_id'] = cont[0]['href'].split('/')[-1].split('.')[0]\n",
    "                    tmp_dict['pass_from_name'] = cont[0].string\n",
    "                    tmp_dict['rec_by_id'] = cont[2]['href'].split('/')[-1].split('.')[0]\n",
    "                    tmp_dict['rec_by_name'] = cont[2].string\n",
    "                    tmp_dict['rush_by_id'] = -999\n",
    "                    tmp_dict['rush_by_name'] = -999\n",
    "                    tmp_dict['yards'] = int(cont[1].split(' ')[1])\n",
    "                    tmp_dict['kicker_id'] = cont[-2]['href'].split('/')[-1].split('.')[0]\n",
    "                    tmp_dict['kicker_name'] = cont[-2].string\n",
    "                    tmp_dict['kick_success'] = 1 if cont[-1].find('failed') == -1 else 0\n",
    "                elif cont[1].find('rush') > -1:\n",
    "                    tmp_dict['score_type'] = 'rush'\n",
    "                    tmp_dict['pass_from_id'] = -999\n",
    "                    tmp_dict['pass_from_name'] = -999\n",
    "                    tmp_dict['rec_by_id'] = -999\n",
    "                    tmp_dict['rec_by_name'] = -999\n",
    "                    tmp_dict['rush_by_id'] = cont[0]['href'].split('/')[-1].split('.')[0]\n",
    "                    tmp_dict['rush_by_name'] = cont[0].string\n",
    "                    tmp_dict['yards'] = int(cont[1].split(' ')[1])\n",
    "                    tmp_dict['kicker_id'] = cont[-2]['href'].split('/')[-1].split('.')[0]\n",
    "                    tmp_dict['kicker_name'] = cont[-2].string\n",
    "                    tmp_dict['kick_success'] = 1 if cont[-1].find('failed') == -1 else 0\n",
    "                else:\n",
    "                    raise KeyError('Play Not Found')\n",
    "                tmp_dict['play_desc'] = ' '.join(x.string.strip() for x in cont)\n",
    "            tmp_dict['game_id'] = scrbox_dict['game_id']\n",
    "        scoring_list.append(tmp_dict)\n",
    "    return scoring_list"
   ]
  },
  {
   "cell_type": "code",
   "execution_count": 393,
   "metadata": {
    "ExecuteTime": {
     "end_time": "2018-09-09T22:27:24.014175Z",
     "start_time": "2018-09-09T22:27:24.006941Z"
    }
   },
   "outputs": [],
   "source": [
    "def game_info(soup, scrbox_dict):\n",
    "    ginfo_dict = {}\n",
    "    ginfo_div = soup.find('div', {'id':'all_game_info'})\n",
    "    comments=ginfo_div.find_all(string=lambda text:isinstance(text,Comment))\n",
    "    table = BeautifulSoup(str(comments), 'lxml')\n",
    "    rows = table.find_all('tr')\n",
    "    for row in rows[1:]:\n",
    "        row_lbl = row.contents[0].contents[0]\n",
    "        row_val = row.contents[1].contents[0]\n",
    "        if row_lbl not in ['Vegas Line', 'Over/Under']:\n",
    "            ginfo_dict[row_lbl] = row_val\n",
    "    ginfo_dict['game_id'] = scrbox_dict['game_id']   \n",
    "    return ginfo_dict"
   ]
  },
  {
   "cell_type": "code",
   "execution_count": 394,
   "metadata": {
    "ExecuteTime": {
     "end_time": "2018-09-09T22:27:24.896781Z",
     "start_time": "2018-09-09T22:27:24.888307Z"
    }
   },
   "outputs": [],
   "source": [
    "def officials(soup, scrbox_dict):\n",
    "    off_list = []\n",
    "    off_div = soup.find('div', {'id':'all_officials'})\n",
    "    comments=off_div.find_all(string=lambda text:isinstance(text,Comment))\n",
    "    table = BeautifulSoup(str(comments), 'lxml')\n",
    "    rows = table.find_all('tr')\n",
    "    for row in rows[1:]:\n",
    "        off_dict = {}\n",
    "        off_dict['ref_title'] = row.contents[0].string\n",
    "        off_dict['ref_pg'] = row.contents[1].a['href']\n",
    "        off_dict['ref_id'] = off_dict['ref_pg'].split('/')[-1].split('.')[0]\n",
    "        off_dict['ref_name'] = row.contents[1].string\n",
    "        off_dict['game_id'] = scrbox_dict['game_id']\n",
    "        off_list.append(off_dict)\n",
    "    return off_list"
   ]
  },
  {
   "cell_type": "code",
   "execution_count": 395,
   "metadata": {
    "ExecuteTime": {
     "end_time": "2018-09-09T22:27:25.928486Z",
     "start_time": "2018-09-09T22:27:25.914125Z"
    }
   },
   "outputs": [],
   "source": [
    "def game_summ(soup, scrbox_dict):\n",
    "    summ_dict = {}\n",
    "    summ_div = soup.find('div', {'id':'all_team_stats'})\n",
    "    comments= summ_div.find_all(string=lambda text:isinstance(text,Comment))\n",
    "    table = BeautifulSoup(str(comments), 'lxml')\n",
    "    rows = table.find_all('tr')[1:]\n",
    "    for row in rows:\n",
    "        cont = row.contents\n",
    "        row_lbl = cont[0].string\n",
    "        summ_dict['home_' + row_lbl] = row.find('td',{'data-stat':'home_stat'}).string\n",
    "        summ_dict['away_' + row_lbl] = row.find('td',{'data-stat':'vis_stat'}).string\n",
    "    summ_dict['home_team_name'] = scrbox_dict['home_team_name']\n",
    "    summ_dict['home_team_id'] = scrbox_dict['home_team_id']\n",
    "    summ_dict['away_team_name'] = scrbox_dict['away_team_name']\n",
    "    summ_dict['away_team_id'] = scrbox_dict['away_team_id']\n",
    "    summ_dict['game_id'] = scrbox_dict['game_id']\n",
    "    return summ_dict"
   ]
  },
  {
   "cell_type": "code",
   "execution_count": 575,
   "metadata": {
    "ExecuteTime": {
     "end_time": "2018-09-10T01:50:38.004107Z",
     "start_time": "2018-09-10T01:50:37.989823Z"
    }
   },
   "outputs": [],
   "source": [
    "def stats_table(soup, scrbox_dict, div_id):\n",
    "    \"\"\"\n",
    "    works for the following tables and associated divs:\n",
    "    Passing, Rushing and Receiving - all_player_offense\n",
    "    Defense - all_player_defense\n",
    "    Kick/Punt Returns - all_returns\n",
    "    kicking and Punting - all_kicking\n",
    "    \"\"\"\n",
    "    stat_list = []\n",
    "    stat_div = soup.find('div', {'id':div_id})\n",
    "    comments= stat_div.find_all(string=lambda text:isinstance(text,Comment))\n",
    "    table = BeautifulSoup(str(comments), 'lxml')\n",
    "    rows = table.find_all('tr')[2:]\n",
    "    for row in rows:\n",
    "        cells = row.contents\n",
    "        if cells[0].name is not None:\n",
    "            stat_dict = {}\n",
    "            for cell in cells:\n",
    "                lbl = cell['data-stat']\n",
    "                cell_str = cell.string\n",
    "                if cell_str is None:\n",
    "                    stat_dict[cell['data-stat']] = 0\n",
    "                elif lbl =='player':\n",
    "                    stat_dict['player_id'] = cell['data-append-csv']\n",
    "                    stat_dict['player_name'] = cell_str\n",
    "                elif lbl =='team':\n",
    "                    stat_dict[cell['data-stat']] = cell_str.lower()\n",
    "                elif lbl =='pos':\n",
    "                    stat_dict[cell['data-stat']] = cell_str.lower()\n",
    "                else:\n",
    "                    stat_dict[cell['data-stat']] = float(cell_str.replace('%',''))\n",
    "            stat_dict['game_id'] = scrbox_dict['game_id']\n",
    "            stat_list.append(stat_dict)       \n",
    "    return stat_list"
   ]
  },
  {
   "cell_type": "code",
   "execution_count": 569,
   "metadata": {
    "ExecuteTime": {
     "end_time": "2018-09-10T01:47:21.171615Z",
     "start_time": "2018-09-10T01:47:21.161005Z"
    }
   },
   "outputs": [],
   "source": [
    "def starters(soup, scrbox_dict, loc):\n",
    "    \"\"\"\n",
    "    loc is either home or away\n",
    "    \"\"\"\n",
    "    loc_html = 'vis' if loc == 'away' else 'home'\n",
    "    start_list = []\n",
    "    start_div = soup.find('div', {'id':'all_' + loc_html + '_starters'})\n",
    "    comments= start_div.find_all(string=lambda text:isinstance(text,Comment))\n",
    "    table = BeautifulSoup(str(comments), 'lxml')\n",
    "    rows = table.find_all('tr')[1:]\n",
    "    for row in rows:\n",
    "        cells = row.contents\n",
    "        start_dict = {}\n",
    "        start_dict['player_id'] = cells[0]['data-append-csv']\n",
    "        start_dict['player_name'] = cells[0].string\n",
    "        start_dict['pos'] = cells[1].string.lower()\n",
    "        start_dict['game_id'] = scrbox_dict['game_id']\n",
    "        start_dict['team_name'] = scrbox_dict[loc + '_team_name']\n",
    "        start_dict['team_id'] = scrbox_dict[loc + '_team_id']\n",
    "        start_list.append(start_dict)\n",
    "    return start_list"
   ]
  },
  {
   "cell_type": "code",
   "execution_count": 661,
   "metadata": {
    "ExecuteTime": {
     "end_time": "2018-09-10T02:28:04.067848Z",
     "start_time": "2018-09-10T02:28:04.043513Z"
    }
   },
   "outputs": [],
   "source": [
    "def drives(soup, scrbox_dict, loc):\n",
    "    \"\"\"\n",
    "    loc is either home or away\n",
    "    \"\"\"\n",
    "    loc_html = 'vis' if loc == 'away' else 'home'\n",
    "    drive_list = []\n",
    "    drive_div = soup.find('div', {'id':'all_' + loc_html + '_drives'})\n",
    "    comments= drive_div.find_all(string=lambda text:isinstance(text,Comment))\n",
    "    table = BeautifulSoup(str(comments), 'lxml')\n",
    "    rows = table.find_all('tr')[1:]\n",
    "    for row in rows:\n",
    "        cells = row.contents\n",
    "        drive_dict = {}\n",
    "        drive_dict['game_id'] = scrbox_dict['game_id']\n",
    "        drive_dict['team_name'] = scrbox_dict[loc + '_team_name']\n",
    "        drive_dict['team_id'] = scrbox_dict[loc + '_team_id']\n",
    "        for cell in cells:\n",
    "            cell_data = cell['data-stat']\n",
    "            cell_str = cell.string\n",
    "            if cell_data in ['drive_num', 'quarter', 'net_yds']:\n",
    "                drive_dict[cell_data] = int(cell_str)\n",
    "            elif cell_data == 'time_start':\n",
    "                str_split = cell_str.split(':')\n",
    "                drive_dict['sec_left_in_quarter'] = int(str_split[0])*60 + int(str_split[1])\n",
    "                drive_dict['sec_into_quarter'] = 15*60 - (int(str_split[0])*60 + int(str_split[1]))\n",
    "                drive_dict['sec_left_in_game'] = int(str_split[0])*60 + int(str_split[1]) + (4-drive_dict['quarter'])*15*60\n",
    "                drive_dict['sec_into_game'] = 4*15*60 - (int(str_split[0])*60 + int(str_split[1]) + (4-drive_dict['quarter'])*15*60)\n",
    "            elif cell_data == 'start_at':\n",
    "                str_split = cell_str.split(' ')\n",
    "                start_yd = int(str_split[1].lower())\n",
    "                drive_dict['start_yrd'] = start_yd\n",
    "                drive_dict['start_side'] = str_split[0].lower()\n",
    "                if drive_dict['start_side'] == drive_dict['team_id']:\n",
    "                    start_yd = 100 - start_yd\n",
    "                drive_dict['yds_to_td'] = start_yd\n",
    "            elif cell_data == 'play_count_tip':\n",
    "                drive_dict['total_plays'] = int(cell_str)\n",
    "                plays = cell.span['tip'].split(',')\n",
    "                for i in plays:\n",
    "                    play_sub = i.strip().split(' ')\n",
    "                    drive_dict[play_sub[1] + '_plays'] = int(play_sub[0])\n",
    "            elif cell_data == 'time_total':\n",
    "                str_split = cell_str.split(':')\n",
    "                drive_dict['drive_sec'] = int(str_split[0])*60 + int(str_split[1])\n",
    "            elif cell_data == 'end_event':\n",
    "                drive_dict[cell_data] = cell_str\n",
    "            else:\n",
    "                raise KeyError('Column Not Found')\n",
    "        drive_list.append(drive_dict)    \n",
    "    return drive_list"
   ]
  },
  {
   "cell_type": "code",
   "execution_count": 960,
   "metadata": {
    "ExecuteTime": {
     "end_time": "2018-09-10T18:11:45.807443Z",
     "start_time": "2018-09-10T18:11:45.801968Z"
    }
   },
   "outputs": [],
   "source": [
    "def name_extract(cell):\n",
    "    cell_id = cell['href'].split('/')[-1].split('.')[0]\n",
    "    cell_name = cell.string\n",
    "    return cell_id, cell_name"
   ]
  },
  {
   "cell_type": "code",
   "execution_count": 1109,
   "metadata": {
    "ExecuteTime": {
     "end_time": "2018-09-10T20:38:24.988133Z",
     "start_time": "2018-09-10T20:38:24.935918Z"
    }
   },
   "outputs": [],
   "source": [
    "def play_by_play(soup, scrbox_dict):\n",
    "    pbp_list = []\n",
    "    pbp_div = soup.find('div', {'id':'all_pbp'})\n",
    "    comments= pbp_div.find_all(string=lambda text:isinstance(text,Comment))\n",
    "    table = BeautifulSoup(str(comments), 'lxml')\n",
    "    rows = table.find_all('tr')[2:]\n",
    "    row_ct = 0\n",
    "    for row_idx,row in enumerate(rows):\n",
    "        cells = row.contents\n",
    "        pbp_dict = {}\n",
    "        if cells[0].name is not None and len(cells)==10 and cells[5].string is None:\n",
    "            pbp_dict['game_id'] = scrbox_dict['game_id']\n",
    "            row_ct += 1\n",
    "            for cell in cells:\n",
    "                cell_str = cell.string\n",
    "                cell_data = cell['data-stat']\n",
    "                if cell_data in ['quarter', 'down', 'yds_to_go', 'pbp_score_aw', 'pbp_score_hm']:\n",
    "                    if cell_str is None:\n",
    "                        pbp_dict[cell_data] = -99\n",
    "                    else:\n",
    "                        pbp_dict[cell_data] = int(cell_str)\n",
    "                elif cell_data == 'qtr_time_remain':\n",
    "                    if cell_str is not None:\n",
    "                        str_split = cell_str.split(':')\n",
    "                        pbp_dict['sec_left_in_quarter'] = int(str_split[0])*60 + int(str_split[1])\n",
    "                        pbp_dict['sec_into_quarter'] = 15*60 - (int(str_split[0])*60 + int(str_split[1]))\n",
    "                        pbp_dict['sec_left_in_game'] = int(str_split[0])*60 + int(str_split[1]) + (4-pbp_dict['quarter'])*15*60\n",
    "                        pbp_dict['sec_into_game'] = 4*15*60 - (int(str_split[0])*60 + int(str_split[1]) + (4-pbp_dict['quarter'])*15*60)\n",
    "                    else:\n",
    "                        pbp_dict['sec_left_in_quarter'] = np.NAN\n",
    "                        pbp_dict['sec_into_quarter'] = np.NAN\n",
    "                        pbp_dict['sec_left_in_game'] = np.NAN\n",
    "                        pbp_dict['sec_into_game'] = np.NAN\n",
    "                elif cell_data == 'location':\n",
    "                    if cell_str is None:\n",
    "                        pbp_dict['loc_yrd'] = -999\n",
    "                        pbp_dict['loc_side'] = -999\n",
    "                    else:\n",
    "                        str_split = cell_str.strip().split(' ')\n",
    "                        if len(str_split) == 1:\n",
    "                            pbp_dict['loc_yrd'] = int(str_split[0])\n",
    "                            pbp_dict['loc_side'] = -999\n",
    "                        else:\n",
    "                            pbp_dict['loc_yrd'] = int(str_split[1])\n",
    "                            pbp_dict['loc_side'] = str_split[0].lower()\n",
    "                elif cell_data == 'detail':\n",
    "                    cont = cell.contents\n",
    "                    play_str = ''.join(x.string for x in cont if x.string is not None)\n",
    "                    pbp_dict['play_str'] = play_str\n",
    "                    pbp_dict['play_count'] = cont[0]['name'].split('_')[-1]\n",
    "                    if play_str.find('Timeout') >-1:\n",
    "                        cont_str = cont[1].split(' ')\n",
    "                        pbp_dict['play_type'] = 'timeout'\n",
    "                        pbp_dict['timeout_num'] = int(cont_str[1][1:])\n",
    "                        pbp_dict['timeout_by'] = ' '.join(cont_str[3:])\n",
    "                    elif cont[1].name is None:\n",
    "                        pbp_dict['play_type'] = 'penalty'                    \n",
    "                    else:\n",
    "                        action = cont[2].strip().split(' ')\n",
    "                        if action[0] in ['kicks', 'punts'] or action[0].isnumeric():\n",
    "                            pbp_dict['play_type'] = 'kick'\n",
    "                            player_id, player_name = name_extract(cont[1])\n",
    "                            pbp_dict['kicker_id'] = player_id\n",
    "                            pbp_dict['kicker_name'] = player_name\n",
    "                            if action[1] == 'off':\n",
    "                                pbp_dict['play_subtype'] = 'kickoff'\n",
    "                                kick_str = cont[2].strip().split(' ')\n",
    "                                pbp_dict['play_yds'] = kick_str[2]\n",
    "                                if kick_str[4] == 'touchback':\n",
    "                                    pbp_dict['play_res'] = 'touchback'\n",
    "                                else:\n",
    "                                    kick_ret_str = cont[4].strip().split(' ')\n",
    "                                    player_id, player_name = name_extract(cont[3])\n",
    "                                    pbp_dict['kick_ret_id'] = player_id\n",
    "                                    pbp_dict['kick_ret_name'] = player_name\n",
    "                                    pbp_dict['kick_ret_yds'] = int(kick_ret_str[1])\n",
    "                            elif action[0] == 'punts':\n",
    "                                pbp_dict['play_subtype'] = 'punt'\n",
    "                            elif action[1] == 'extra':\n",
    "                                pbp_dict['play_subtype'] = 'xp'\n",
    "                                if play_str.find('no good') > -1:\n",
    "                                    pbp_dict['play_res'] = 'no_good'\n",
    "                                else:\n",
    "                                    pbp_dict['play_res'] = 'good'\n",
    "                            elif action[0].isnumeric():\n",
    "                                pbp_dict['play_subtype'] = 'field_goal'\n",
    "                                if play_str.find('no good') > -1:\n",
    "                                    pbp_dict['play_res'] = 'no_good'\n",
    "                                else:\n",
    "                                    pbp_dict['play_res'] = 'good'\n",
    "                            else:\n",
    "                                raise KeyError('Kicking Play Not Found')\n",
    "                    for idx, srch in enumerate(cont):\n",
    "                        str_srch = srch.string\n",
    "                        if str_srch is not None:\n",
    "                            str_srch = str_srch.lower()\n",
    "                            if str_srch.find('tackle by') > -1:\n",
    "                                tackle_id, tackle_name = name_extract(cont[idx+1])\n",
    "                                pbp_dict['tackled_by_id'] = tackle_id\n",
    "                                pbp_dict['tackled_by_name'] = tackle_name\n",
    "                                if len(cont) >= idx+3 and cont[idx+2].find('and') > -1:\n",
    "                                    tackle_asst_id, tackle_asst_name = name_extract(cont[idx+3])\n",
    "                                    pbp_dict['tackle_asst_id'] = tackle_asst_id\n",
    "                                    pbp_dict['tackle_asst_name'] = tackle_asst_name\n",
    "                            if str_srch.find('sacked by') > -1:\n",
    "                                sack_id, sack_name = name_extract(cont[idx+1])\n",
    "                                pbp_dict['sacked_by_id'] = sack_id\n",
    "                                pbp_dict['sacked_by_name'] = sack_name\n",
    "                                pbp_dict['play_type'] = 'sack'\n",
    "                            elif str_srch.find('pass') > -1 and str_srch.find('pass') < 5:\n",
    "                                pbp_dict['play_type'] = 'pass'\n",
    "                                passer_id, passer_name = name_extract(cont[idx-1])\n",
    "                                pbp_dict['passer_id'] = passer_id\n",
    "                                pbp_dict['passer_name'] = passer_name\n",
    "                                try:\n",
    "                                    rec_id, rec_name = name_extract(cont[idx+1])\n",
    "                                    pbp_dict['rec_id'] = rec_id\n",
    "                                    pbp_dict['rec_name'] = rec_name\n",
    "                                except:\n",
    "                                    pass\n",
    "                                if str_srch.find('incomplete') > -1:\n",
    "                                    pbp_dict['play_res'] = 'incomplete'\n",
    "                                    pbp_dict['play_yds'] = 0\n",
    "                                else:\n",
    "                                    pbp_dict['play_res'] = 'complete'\n",
    "                                    pbp_dict['play_yds'] = int(cont[idx+2].strip().split()[1])\n",
    "                            elif max(str_srch.find(x) for x in ['right', 'middle', 'left']) > -1: \n",
    "                                pbp_dict['play_type'] = 'rush'\n",
    "                                rush_id, rush_name = name_extract(cont[idx-1])\n",
    "                                pbp_dict['rush_id'] = rush_id\n",
    "                                pbp_dict['rush_name'] = rush_name\n",
    "                                rush_splt = str_srch.split('for')\n",
    "                                if str_srch.find('no gain') > -1:\n",
    "                                    pbp_dict['play_yds'] = 0\n",
    "                                else:\n",
    "                                    pbp_dict['play_yds'] = int(rush_splt[-1].split('yard')[0].strip())\n",
    "                                pbp_dict['play_subtype'] = rush_splt[0].strip()\n",
    "                            elif str_srch.find('kneels') > -1:\n",
    "                                pbp_dict['play_type'] = 'kneel'\n",
    "                                kneel_id, kneel_name = name_extract(cont[idx-1])\n",
    "                                pbp_dict['kneel_id'] = kneel_id\n",
    "                                pbp_dict['kneel_name'] = kneel_name\n",
    "                                if str_srch.find('no gain') > -1:\n",
    "                                    pbp_dict['play_yds'] = 0\n",
    "                                else:\n",
    "                                    pbp_dict['play_yds'] = int(str_srch.split('for')[-1].split('yard')[0].strip())\n",
    "                            if str_srch.find('fumble') > -1:\n",
    "                                fmbl_id, fmbl_name = name_extract(cont[idx-1])\n",
    "                                pbp_dict['fmbl_id'] = fmbl_id\n",
    "                                pbp_dict['fmbl_name'] = fmbl_name\n",
    "                                if str_srch.find('forced') > -1:\n",
    "                                    fmbl_forc_by_id, fmbl_forc_by_name = name_extract(cont[idx+1])\n",
    "                                    pbp_dict['fmbl_forc_by_id'] = fmbl_forc_by_id\n",
    "                                    pbp_dict['fmbl_forc_by_name'] = fmbl_forc_by_name\n",
    "                            if str_srch.find('recover') > -1:\n",
    "                                recover_id, recover_name = name_extract(cont[idx+1])\n",
    "                                pbp_dict['recover_id'] = recover_id\n",
    "                                pbp_dict['recover_name'] = recover_name\n",
    "                            if str_srch.find('intercept') > -1:\n",
    "                                int_id, int_name = name_extract(cont[idx+1])\n",
    "                                pbp_dict['int_id'] = int_id\n",
    "                                pbp_dict['int_name'] = int_name\n",
    "                                pbp_dict['play_yds'] = int(cont[idx+4].string.split('for')[-1].split('yard')[0].strip())\n",
    "                                pbp_dict['play_res'] = 'interception'\n",
    "                            if str_srch.find('penalty') > -1:\n",
    "                                pen_on_id, pen_on_name = name_extract(cont[idx+1])\n",
    "                                if 'pen_on_id' in pbp_dict:\n",
    "                                    pen_sfx = '_2'\n",
    "                                else:\n",
    "                                    pen_sfx = ''\n",
    "                                pbp_dict['pen_on_id' + pen_sfx] = pen_on_id\n",
    "                                pbp_dict['pen_on_name' + pen_sfx] = pen_on_name\n",
    "                                pen_res_str = cont[idx+2].string.lower()\n",
    "                                if pen_res_str.find('yard') > -1:\n",
    "                                    pen_res = pen_res_str.split(':')[-1].split(', ')\n",
    "                                    pbp_dict['pen_cause' + pen_sfx] = pen_res[0]                            \n",
    "                                    pbp_dict['pen_res' + pen_sfx] = pen_res[1]\n",
    "                                else:\n",
    "                                    pen_res = pen_res_str.split(':')[-1].split('penalty')\n",
    "                                    pbp_dict['pen_cause' + pen_sfx] = pen_res[0]                            \n",
    "                                    pbp_dict['pen_res' + pen_sfx] = -999\n",
    "                            if str_srch.find('touchdown') > -1:\n",
    "                                pbp_dict['play_res'] = 'touchdown'\n",
    "                    if play_str.find('no play') > -1:\n",
    "                        pbp_dict['play_res'] = 'no_play'\n",
    "                    for field in ['play_type', 'play_subtype', 'timeout_num', 'timeout_by', 'kicker_id', 'kicker_name', 'play_yds',\n",
    "                                 'kick_ret_id', 'kick_ret_name', 'kick_ret_yds', 'play_res', 'tackled_by_id', 'tackled_by_name',\n",
    "                                 'sacked_by_name', 'sacked_by_id', 'passer_id', 'passer_name', 'rec_id', 'rec_name', 'rush_id',\n",
    "                                 'rush_name', 'kneel_id', 'kneel_name', 'fmbl_id', 'fmbl_name', 'fmbl_forc_by_id', \n",
    "                                  'fmbl_forc_by_name', 'recover_id', 'recover_name', 'tackle_asst_id', 'tackle_asst_name', \n",
    "                                 'int_name', 'int_id', 'pen_on_id', 'pen_on_name', 'pen_cause', 'pen_res']:\n",
    "                        if field not in pbp_dict:\n",
    "                            pbp_dict[field] = -999\n",
    "            pbp_list.append(pbp_dict)\n",
    "        return pbp_list"
   ]
  },
  {
   "cell_type": "code",
   "execution_count": 542,
   "metadata": {
    "ExecuteTime": {
     "end_time": "2018-09-10T01:36:37.989028Z",
     "start_time": "2018-09-10T01:36:36.396865Z"
    }
   },
   "outputs": [],
   "source": [
    "yr = 2017\n",
    "wk = 1\n",
    "gurls = game_urls(yr, wk)\n",
    "pg = urllib.request.urlopen(gurls[0])\n",
    "soup = BeautifulSoup(pg, 'html.parser')"
   ]
  },
  {
   "cell_type": "code",
   "execution_count": 666,
   "metadata": {
    "ExecuteTime": {
     "end_time": "2018-09-10T02:29:08.078112Z",
     "start_time": "2018-09-10T02:29:03.905475Z"
    }
   },
   "outputs": [
    {
     "name": "stdout",
     "output_type": "stream",
     "text": [
      "503 ms ± 19.6 ms per loop (mean ± std. dev. of 7 runs, 1 loop each)\n"
     ]
    }
   ],
   "source": [
    "# scrbox_dict = scorebox(soup)\n",
    "# scoring_list = scoring(soup, scrbox_dict)\n",
    "# ginfo_dict = game_info(soup, scrbox_dict)\n",
    "# off_list = officials(soup, scrbox_dict)\n",
    "# summ_dict = game_summ(soup, scrbox_dict)\n",
    "# prr_list = stats_table(soup, scrbox_dict, 'all_player_offense')\n",
    "# def_list = stats_table(soup, scrbox_dict, 'all_player_defense')\n",
    "# kp_ret_list = stats_table(soup, scrbox_dict, 'all_returns')\n",
    "# kp_list = stats_table(soup, scrbox_dict, 'all_kicking')\n",
    "# home_starters_list = starters(soup, scrbox_dict, 'home')\n",
    "# away_starters_list = starters(soup, scrbox_dict, 'away')\n",
    "# home_snaps_list = stats_table(soup, scrbox_dict, 'all_home_snap_counts')\n",
    "# away_snaps_list = stats_table(soup, scrbox_dict, 'all_vis_snap_counts')\n",
    "# pass_tgts_list = stats_table(soup, scrbox_dict, 'all_targets_directions')\n",
    "# rush_dir_list = stats_table(soup, scrbox_dict, 'all_rush_directions')\n",
    "# pass_tckl_list = stats_table(soup, scrbox_dict, 'all_pass_tackles')\n",
    "# rush_tckl_list = stats_table(soup, scrbox_dict, 'all_rush_tackles')\n",
    "# home_drives_list = drives(soup, scrbox_dict, 'home')\n",
    "# away_drives_list = drives(soup, scrbox_dict, 'away')\n"
   ]
  },
  {
   "cell_type": "code",
   "execution_count": 663,
   "metadata": {
    "ExecuteTime": {
     "end_time": "2018-09-10T02:28:07.800564Z",
     "start_time": "2018-09-10T02:28:07.779811Z"
    }
   },
   "outputs": [
    {
     "data": {
      "text/plain": [
       "[{'game_id': '201709070nwe',\n",
       "  'team_name': 'Kansas City Chiefs',\n",
       "  'team_id': 'kan',\n",
       "  'drive_num': 1,\n",
       "  'quarter': 1,\n",
       "  'sec_left_in_quarter': 728,\n",
       "  'sec_into_quarter': 172,\n",
       "  'sec_left_in_game': 3428,\n",
       "  'sec_into_game': 172,\n",
       "  'start_yrd': 25,\n",
       "  'start_side': 'kan',\n",
       "  'yds_to_td': 75,\n",
       "  'total_plays': 1,\n",
       "  'Pass_plays': 0,\n",
       "  'Rush_plays': 1,\n",
       "  'Penalty_plays': 0,\n",
       "  'drive_sec': 8,\n",
       "  'net_yds': 7,\n",
       "  'end_event': 'Fumble'},\n",
       " {'game_id': '201709070nwe',\n",
       "  'team_name': 'Kansas City Chiefs',\n",
       "  'team_id': 'kan',\n",
       "  'drive_num': 2,\n",
       "  'quarter': 1,\n",
       "  'sec_left_in_quarter': 565,\n",
       "  'sec_into_quarter': 335,\n",
       "  'sec_left_in_game': 3265,\n",
       "  'sec_into_game': 335,\n",
       "  'start_yrd': 10,\n",
       "  'start_side': 'kan',\n",
       "  'yds_to_td': 90,\n",
       "  'total_plays': 12,\n",
       "  'Pass_plays': 8,\n",
       "  'Rush_plays': 4,\n",
       "  'Penalty_plays': 0,\n",
       "  'drive_sec': 382,\n",
       "  'net_yds': 90,\n",
       "  'end_event': 'Touchdown'},\n",
       " {'game_id': '201709070nwe',\n",
       "  'team_name': 'Kansas City Chiefs',\n",
       "  'team_id': 'kan',\n",
       "  'drive_num': 3,\n",
       "  'quarter': 2,\n",
       "  'sec_left_in_quarter': 896,\n",
       "  'sec_into_quarter': 4,\n",
       "  'sec_left_in_game': 2696,\n",
       "  'sec_into_game': 904,\n",
       "  'start_yrd': 45,\n",
       "  'start_side': 'kan',\n",
       "  'yds_to_td': 55,\n",
       "  'total_plays': 3,\n",
       "  'Pass_plays': 2,\n",
       "  'Rush_plays': 1,\n",
       "  'Penalty_plays': 0,\n",
       "  'drive_sec': 99,\n",
       "  'net_yds': 1,\n",
       "  'end_event': 'Punt'},\n",
       " {'game_id': '201709070nwe',\n",
       "  'team_name': 'Kansas City Chiefs',\n",
       "  'team_id': 'kan',\n",
       "  'drive_num': 4,\n",
       "  'quarter': 2,\n",
       "  'sec_left_in_quarter': 447,\n",
       "  'sec_into_quarter': 453,\n",
       "  'sec_left_in_game': 2247,\n",
       "  'sec_into_game': 1353,\n",
       "  'start_yrd': 23,\n",
       "  'start_side': 'kan',\n",
       "  'yds_to_td': 77,\n",
       "  'total_plays': 5,\n",
       "  'Pass_plays': 1,\n",
       "  'Rush_plays': 4,\n",
       "  'Penalty_plays': 0,\n",
       "  'drive_sec': 223,\n",
       "  'net_yds': 6,\n",
       "  'end_event': 'Punt'},\n",
       " {'game_id': '201709070nwe',\n",
       "  'team_name': 'Kansas City Chiefs',\n",
       "  'team_id': 'kan',\n",
       "  'drive_num': 5,\n",
       "  'quarter': 2,\n",
       "  'sec_left_in_quarter': 167,\n",
       "  'sec_into_quarter': 733,\n",
       "  'sec_left_in_game': 1967,\n",
       "  'sec_into_game': 1633,\n",
       "  'start_yrd': 8,\n",
       "  'start_side': 'kan',\n",
       "  'yds_to_td': 92,\n",
       "  'total_plays': 12,\n",
       "  'Pass_plays': 10,\n",
       "  'Rush_plays': 2,\n",
       "  'Penalty_plays': 2,\n",
       "  'drive_sec': 154,\n",
       "  'net_yds': 92,\n",
       "  'end_event': 'Touchdown'},\n",
       " {'game_id': '201709070nwe',\n",
       "  'team_name': 'Kansas City Chiefs',\n",
       "  'team_id': 'kan',\n",
       "  'drive_num': 6,\n",
       "  'quarter': 3,\n",
       "  'sec_left_in_quarter': 900,\n",
       "  'sec_into_quarter': 0,\n",
       "  'sec_left_in_game': 1800,\n",
       "  'sec_into_game': 1800,\n",
       "  'start_yrd': 25,\n",
       "  'start_side': 'kan',\n",
       "  'yds_to_td': 75,\n",
       "  'total_plays': 5,\n",
       "  'Pass_plays': 3,\n",
       "  'Rush_plays': 2,\n",
       "  'Penalty_plays': 1,\n",
       "  'drive_sec': 187,\n",
       "  'net_yds': 19,\n",
       "  'end_event': 'Punt'},\n",
       " {'game_id': '201709070nwe',\n",
       "  'team_name': 'Kansas City Chiefs',\n",
       "  'team_id': 'kan',\n",
       "  'drive_num': 7,\n",
       "  'quarter': 3,\n",
       "  'sec_left_in_quarter': 568,\n",
       "  'sec_into_quarter': 332,\n",
       "  'sec_left_in_game': 1468,\n",
       "  'sec_into_game': 2132,\n",
       "  'start_yrd': 25,\n",
       "  'start_side': 'kan',\n",
       "  'yds_to_td': 75,\n",
       "  'total_plays': 1,\n",
       "  'Pass_plays': 1,\n",
       "  'Rush_plays': 0,\n",
       "  'Penalty_plays': 0,\n",
       "  'drive_sec': 9,\n",
       "  'net_yds': 75,\n",
       "  'end_event': 'Touchdown'},\n",
       " {'game_id': '201709070nwe',\n",
       "  'team_name': 'Kansas City Chiefs',\n",
       "  'team_id': 'kan',\n",
       "  'drive_num': 8,\n",
       "  'quarter': 3,\n",
       "  'sec_left_in_quarter': 428,\n",
       "  'sec_into_quarter': 472,\n",
       "  'sec_left_in_game': 1328,\n",
       "  'sec_into_game': 2272,\n",
       "  'start_yrd': 14,\n",
       "  'start_side': 'kan',\n",
       "  'yds_to_td': 86,\n",
       "  'total_plays': 3,\n",
       "  'Pass_plays': 2,\n",
       "  'Rush_plays': 1,\n",
       "  'Penalty_plays': 0,\n",
       "  'drive_sec': 46,\n",
       "  'net_yds': 1,\n",
       "  'end_event': 'Punt'},\n",
       " {'game_id': '201709070nwe',\n",
       "  'team_name': 'Kansas City Chiefs',\n",
       "  'team_id': 'kan',\n",
       "  'drive_num': 9,\n",
       "  'quarter': 3,\n",
       "  'sec_left_in_quarter': 301,\n",
       "  'sec_into_quarter': 599,\n",
       "  'sec_left_in_game': 1201,\n",
       "  'sec_into_game': 2399,\n",
       "  'start_yrd': 13,\n",
       "  'start_side': 'kan',\n",
       "  'yds_to_td': 87,\n",
       "  'total_plays': 3,\n",
       "  'Pass_plays': 2,\n",
       "  'Rush_plays': 1,\n",
       "  'Penalty_plays': 2,\n",
       "  'drive_sec': 131,\n",
       "  'net_yds': 8,\n",
       "  'end_event': 'Punt'},\n",
       " {'game_id': '201709070nwe',\n",
       "  'team_name': 'Kansas City Chiefs',\n",
       "  'team_id': 'kan',\n",
       "  'drive_num': 10,\n",
       "  'quarter': 3,\n",
       "  'sec_left_in_quarter': 9,\n",
       "  'sec_into_quarter': 891,\n",
       "  'sec_left_in_game': 909,\n",
       "  'sec_into_game': 2691,\n",
       "  'start_yrd': 10,\n",
       "  'start_side': 'kan',\n",
       "  'yds_to_td': 90,\n",
       "  'total_plays': 3,\n",
       "  'Pass_plays': 0,\n",
       "  'Rush_plays': 0,\n",
       "  'Penalty_plays': 0,\n",
       "  'drive_sec': 62,\n",
       "  'net_yds': 90,\n",
       "  'end_event': 'Touchdown'},\n",
       " {'game_id': '201709070nwe',\n",
       "  'team_name': 'Kansas City Chiefs',\n",
       "  'team_id': 'kan',\n",
       "  'drive_num': 11,\n",
       "  'quarter': 4,\n",
       "  'sec_left_in_quarter': 741,\n",
       "  'sec_into_quarter': 159,\n",
       "  'sec_left_in_game': 741,\n",
       "  'sec_into_game': 2859,\n",
       "  'start_yrd': 40,\n",
       "  'start_side': 'kan',\n",
       "  'yds_to_td': 60,\n",
       "  'total_plays': 3,\n",
       "  'Pass_plays': 2,\n",
       "  'Rush_plays': 1,\n",
       "  'Penalty_plays': 1,\n",
       "  'drive_sec': 113,\n",
       "  'net_yds': 4,\n",
       "  'end_event': 'Punt'},\n",
       " {'game_id': '201709070nwe',\n",
       "  'team_name': 'Kansas City Chiefs',\n",
       "  'team_id': 'kan',\n",
       "  'drive_num': 12,\n",
       "  'quarter': 4,\n",
       "  'sec_left_in_quarter': 535,\n",
       "  'sec_into_quarter': 365,\n",
       "  'sec_left_in_game': 535,\n",
       "  'sec_into_game': 3065,\n",
       "  'start_yrd': 40,\n",
       "  'start_side': 'kan',\n",
       "  'yds_to_td': 60,\n",
       "  'total_plays': 7,\n",
       "  'Pass_plays': 5,\n",
       "  'Rush_plays': 2,\n",
       "  'Penalty_plays': 0,\n",
       "  'drive_sec': 221,\n",
       "  'net_yds': 60,\n",
       "  'end_event': 'Touchdown'},\n",
       " {'game_id': '201709070nwe',\n",
       "  'team_name': 'Kansas City Chiefs',\n",
       "  'team_id': 'kan',\n",
       "  'drive_num': 13,\n",
       "  'quarter': 4,\n",
       "  'sec_left_in_quarter': 255,\n",
       "  'sec_into_quarter': 645,\n",
       "  'sec_left_in_game': 255,\n",
       "  'sec_into_game': 3345,\n",
       "  'start_yrd': 21,\n",
       "  'start_side': 'kan',\n",
       "  'yds_to_td': 79,\n",
       "  'total_plays': 2,\n",
       "  'Pass_plays': 0,\n",
       "  'Rush_plays': 2,\n",
       "  'Penalty_plays': 0,\n",
       "  'drive_sec': 15,\n",
       "  'net_yds': 79,\n",
       "  'end_event': 'Touchdown'},\n",
       " {'game_id': '201709070nwe',\n",
       "  'team_name': 'Kansas City Chiefs',\n",
       "  'team_id': 'kan',\n",
       "  'drive_num': 14,\n",
       "  'quarter': 4,\n",
       "  'sec_left_in_quarter': 164,\n",
       "  'sec_into_quarter': 736,\n",
       "  'sec_left_in_game': 164,\n",
       "  'sec_into_game': 3436,\n",
       "  'start_yrd': 42,\n",
       "  'start_side': 'nwe',\n",
       "  'yds_to_td': 42,\n",
       "  'total_plays': 6,\n",
       "  'Pass_plays': 0,\n",
       "  'Rush_plays': 6,\n",
       "  'Penalty_plays': 1,\n",
       "  'drive_sec': 164,\n",
       "  'net_yds': 6,\n",
       "  'end_event': 'End of Game'}]"
      ]
     },
     "execution_count": 663,
     "metadata": {},
     "output_type": "execute_result"
    }
   ],
   "source": [
    "away_drives_list"
   ]
  },
  {
   "cell_type": "code",
   "execution_count": 370,
   "metadata": {
    "ExecuteTime": {
     "end_time": "2018-09-09T22:18:33.683262Z",
     "start_time": "2018-09-09T22:18:33.662437Z"
    }
   },
   "outputs": [
    {
     "data": {
      "text/html": [
       "<div>\n",
       "<style scoped>\n",
       "    .dataframe tbody tr th:only-of-type {\n",
       "        vertical-align: middle;\n",
       "    }\n",
       "\n",
       "    .dataframe tbody tr th {\n",
       "        vertical-align: top;\n",
       "    }\n",
       "\n",
       "    .dataframe thead th {\n",
       "        text-align: right;\n",
       "    }\n",
       "</style>\n",
       "<table border=\"1\" class=\"dataframe\">\n",
       "  <thead>\n",
       "    <tr style=\"text-align: right;\">\n",
       "      <th></th>\n",
       "      <th>Roof</th>\n",
       "      <th>Surface</th>\n",
       "      <th>Weather</th>\n",
       "      <th>Won Toss</th>\n",
       "      <th>game_id</th>\n",
       "    </tr>\n",
       "  </thead>\n",
       "  <tbody>\n",
       "    <tr>\n",
       "      <th>0</th>\n",
       "      <td>outdoors</td>\n",
       "      <td>fieldturf</td>\n",
       "      <td>63 degrees, wind 8 mph</td>\n",
       "      <td>Chiefs (deferred)</td>\n",
       "      <td>201709070nwe</td>\n",
       "    </tr>\n",
       "  </tbody>\n",
       "</table>\n",
       "</div>"
      ],
      "text/plain": [
       "       Roof     Surface                 Weather           Won Toss  \\\n",
       "0  outdoors  fieldturf   63 degrees, wind 8 mph  Chiefs (deferred)   \n",
       "\n",
       "        game_id  \n",
       "0  201709070nwe  "
      ]
     },
     "execution_count": 370,
     "metadata": {},
     "output_type": "execute_result"
    }
   ],
   "source": [
    "pd.DataFrame([ginfo_dict])"
   ]
  },
  {
   "cell_type": "code",
   "execution_count": 290,
   "metadata": {
    "ExecuteTime": {
     "end_time": "2018-09-09T20:19:39.096401Z",
     "start_time": "2018-09-09T20:19:39.088773Z"
    }
   },
   "outputs": [
    {
     "data": {
      "text/plain": [
       "'Stephen Gostkowski 25 yard field goal'"
      ]
     },
     "execution_count": 290,
     "metadata": {},
     "output_type": "execute_result"
    }
   ],
   "source": [
    "df.play_desc[2]"
   ]
  },
  {
   "cell_type": "markdown",
   "metadata": {},
   "source": [
    "# Code"
   ]
  },
  {
   "cell_type": "code",
   "execution_count": 8,
   "metadata": {
    "ExecuteTime": {
     "end_time": "2018-09-09T17:06:20.464197Z",
     "start_time": "2018-09-09T17:06:19.726298Z"
    }
   },
   "outputs": [],
   "source": [
    "yr = 2017\n",
    "wk = 1\n",
    "gurls = game_urls(yr, wk)\n",
    "pg = urllib.request.urlopen(gurls[0])\n",
    "soup = BeautifulSoup(pg, 'html.parser')"
   ]
  },
  {
   "cell_type": "markdown",
   "metadata": {
    "heading_collapsed": true
   },
   "source": [
    "## scorebox"
   ]
  },
  {
   "cell_type": "code",
   "execution_count": 127,
   "metadata": {
    "ExecuteTime": {
     "end_time": "2018-09-09T18:05:17.370383Z",
     "start_time": "2018-09-09T18:05:17.347554Z"
    },
    "hidden": true
   },
   "outputs": [],
   "source": [
    "scrbox_dict = {}\n",
    "scrbox_div = soup.find('div', {'class':'scorebox'})\n",
    "scrbox = scrbox_div.find_all('div', recursive=False)\n",
    "team_str = ['home', 'away']\n",
    "for idx, team in enumerate(team_str):\n",
    "    team_name = scrbox[idx].find('a',{'itemprop':'name'})\n",
    "    coach_name = scrbox[idx].find('div', {'class':'datapoint'}).find('a')\n",
    "    score = scrbox[idx].find('div', {'class':'score'})\n",
    "    record = score.findNextSibling().string.split('-')\n",
    "    scrbox_dict[team + '_team_pg'] = team_name['href']\n",
    "    scrbox_dict[team + '_team_id'] = team_name['href'].split('/')[-2]\n",
    "    scrbox_dict[team + '_team_name'] = team_name.string\n",
    "    scrbox_dict[team + '_team_score'] = int(score.string)\n",
    "    scrbox_dict[team + '_team_coach_pg'] = coach_name['href']\n",
    "    scrbox_dict[team + '_team_coach_id'] = coach_name['href'].split('/')[-1].split('.')[0]\n",
    "    scrbox_dict[team + '_team_coach_name'] = coach_name.string\n",
    "    scrbox_dict[team + '_team_wins'] = int(record[0])\n",
    "    scrbox_dict[team + '_team_losses'] = int(record[1])\n",
    "    if len(record) == 3:\n",
    "        scrbox_dict[team + '_team_ties'] = int(record[2])\n",
    "    else:\n",
    "        scrbox_dict[team + '_team_ties'] = 0\n",
    "if scrbox_dict['home_team_score'] > scrbox_dict['away_team_score']:\n",
    "    scrbox_dict['home_team_wins'] = scrbox_dict['home_team_wins'] - 1\n",
    "    scrbox_dict['away_team_losses'] = scrbox_dict['away_team_losses'] - 1\n",
    "elif scrbox_dict['home_team_score'] < scrbox_dict['away_team_score']:\n",
    "    scrbox_dict['away_team_wins'] = scrbox_dict['away_team_wins'] - 1\n",
    "    scrbox_dict['home_team_losses'] = scrbox_dict['home_team_losses'] - 1\n",
    "else:\n",
    "    scrbox_dict['away_team_ties'] = scrbox_dict['away_team_ties'] - 1\n",
    "    scrbox_dict['home_team_ties'] = scrbox_dict['home_team_ties'] - 1\n",
    "\n",
    "scrbox_meta = scrbox[2].find_all('div')\n",
    "game_datetime = scrbox_meta[0].string + scrbox_meta[1].contents[1][1:]\n",
    "scrbox_dict['datetime'] = dt.strptime(game_datetime, '%A %b %d, %Y %H:%M%p')\n",
    "for meta in scrbox_meta:\n",
    "    if meta.contents[0].string =='Stadium':\n",
    "        scrbox_dict['stadium_pg'] = meta.a['href']\n",
    "        scrbox_dict['stadium_name'] = meta.a.string\n",
    "        scrbox_dict['stadium_id'] = meta.a['href'].split('/')[-1].split('.')[0]\n",
    "# team_dict\n"
   ]
  },
  {
   "cell_type": "code",
   "execution_count": 173,
   "metadata": {
    "ExecuteTime": {
     "end_time": "2018-09-09T19:22:36.631390Z",
     "start_time": "2018-09-09T19:22:36.622969Z"
    },
    "hidden": true
   },
   "outputs": [
    {
     "data": {
      "text/plain": [
       "<module 'time' (built-in)>"
      ]
     },
     "execution_count": 173,
     "metadata": {},
     "output_type": "execute_result"
    }
   ],
   "source": [
    "time.strptime()"
   ]
  },
  {
   "cell_type": "markdown",
   "metadata": {
    "heading_collapsed": true
   },
   "source": [
    "## scoring"
   ]
  },
  {
   "cell_type": "code",
   "execution_count": 284,
   "metadata": {
    "ExecuteTime": {
     "end_time": "2018-09-09T20:18:34.665148Z",
     "start_time": "2018-09-09T20:18:34.628914Z"
    },
    "hidden": true
   },
   "outputs": [],
   "source": [
    "scoring_list = []\n",
    "scoring_div = soup.find('div', {'id':'all_scoring'})\n",
    "rows = scoring_div.find_all('tr')\n",
    "quarter = 1\n",
    "for row in rows[1:]:\n",
    "    tmp_dict = {}\n",
    "    for cell in row.contents:\n",
    "        cell_str = cell.string\n",
    "        if cell['data-stat'] =='quarter' and cell_str is not None:\n",
    "            quarter = int(cell_str)\n",
    "        tmp_dict['quarter'] = quarter\n",
    "        if cell['data-stat'] =='time':\n",
    "            if cell_str is not None:\n",
    "                str_split = cell_str.split(':')\n",
    "                tmp_dict['sec_left_in_quarter'] = int(str_split[0])*60 + int(str_split[1])\n",
    "                tmp_dict['sec_in_quarter'] = 15*60 - (int(str_split[0])*60 + int(str_split[1]))\n",
    "                tmp_dict['sec_left_in_game'] = int(str_split[0])*60 + int(str_split[1]) + (4-tmp_dict['quarter'])*15*60\n",
    "                tmp_dict['sec_in_game'] = 4*15*60 - (int(str_split[0])*60 + int(str_split[1]) + (4-tmp_dict['quarter'])*15*60)\n",
    "            else:\n",
    "                tmp_dict['sec_left_in_quarter'] = np.NAN\n",
    "                tmp_dict['sec_in_quarter'] = np.NAN\n",
    "                tmp_dict['sec_left_in_game'] = np.NAN\n",
    "                tmp_dict['sec_in_game'] = np.NAN\n",
    "        elif cell['data-stat'] =='team':\n",
    "            if scrbox_dict['home_team_name'].find(cell_str) > -1:\n",
    "                tmp_dict['scoring_team_name'] = scrbox_dict['home_team_name']\n",
    "                tmp_dict['scoring_team_id'] = scrbox_dict['home_team_id']\n",
    "                tmp_dict['scoring_team_loc'] = 'home'\n",
    "            elif scrbox_dict['away_team_name'].find(cell_str) > -1:\n",
    "                tmp_dict['scoring_team_name'] = scrbox_dict['away_team_name']\n",
    "                tmp_dict['scoring_team_id'] = scrbox_dict['away_team_id']\n",
    "                tmp_dict['scoring_team_loc'] = 'away'\n",
    "            else:\n",
    "                raise KeyError('Team Not Found')\n",
    "        elif cell['data-stat'] =='vis_team_score':\n",
    "            tmp_dict['away_team_score'] = int(cell_str)\n",
    "        elif cell['data-stat'] =='home_team_score':\n",
    "            tmp_dict['home_team_score'] = int(cell_str)\n",
    "        elif cell['data-stat'] =='description':\n",
    "            cont = cell.contents\n",
    "            if cont[1].find('field') > -1:\n",
    "                tmp_dict['score_type'] = 'field_goal'\n",
    "                tmp_dict['kicker_id'] = cont[0]['href'].split('/')[-1].split('.')[0]\n",
    "                tmp_dict['kicker_name'] = cont[0].string\n",
    "                tmp_dict['kick_success'] = 1\n",
    "                tmp_dict['pass_from_id'] = -1\n",
    "                tmp_dict['pass_from_name'] = -1\n",
    "                tmp_dict['rec_by_id'] = -1\n",
    "                tmp_dict['rec_by_name'] = -1\n",
    "                tmp_dict['rush_by_id'] = -1\n",
    "                tmp_dict['rush_by_name'] = -1\n",
    "                tmp_dict['yards'] = int(cont[1].split(' ')[1])\n",
    "            elif cont[1].find('pass') > -1:\n",
    "                tmp_dict['score_type'] = 'pass'\n",
    "                tmp_dict['pass_from_id'] = cont[0]['href'].split('/')[-1].split('.')[0]\n",
    "                tmp_dict['pass_from_name'] = cont[0].string\n",
    "                tmp_dict['rec_by_id'] = cont[2]['href'].split('/')[-1].split('.')[0]\n",
    "                tmp_dict['rec_by_name'] = cont[2].string\n",
    "                tmp_dict['rush_by_id'] = -1\n",
    "                tmp_dict['rush_by_name'] = -1\n",
    "                tmp_dict['yards'] = int(cont[1].split(' ')[1])\n",
    "                tmp_dict['kicker_id'] = cont[-2]['href'].split('/')[-1].split('.')[0]\n",
    "                tmp_dict['kicker_name'] = cont[-2].string\n",
    "                tmp_dict['kick_success'] = 1 if cont[-1].find('failed') == -1 else 0\n",
    "            elif cont[1].find('rush') > -1:\n",
    "                tmp_dict['score_type'] = 'rush'\n",
    "                tmp_dict['pass_from_id'] = -1\n",
    "                tmp_dict['pass_from_name'] = -1\n",
    "                tmp_dict['rec_by_id'] = -1\n",
    "                tmp_dict['rec_by_name'] = -1\n",
    "                tmp_dict['rush_by_id'] = cont[0]['href'].split('/')[-1].split('.')[0]\n",
    "                tmp_dict['rush_by_name'] = cont[0].string\n",
    "                tmp_dict['yards'] = int(cont[1].split(' ')[1])\n",
    "                tmp_dict['kicker_id'] = cont[-2]['href'].split('/')[-1].split('.')[0]\n",
    "                tmp_dict['kicker_name'] = cont[-2].string\n",
    "                tmp_dict['kick_success'] = 1 if cont[-1].find('failed') == -1 else 0\n",
    "            else:\n",
    "                raise KeyError('Play Not Found')\n",
    "            tmp_dict['description'] = ' '.join(x.string.strip() for x in cont)\n",
    "        tmp_dict['game_id'] = scrbox_dict['game_id']\n",
    "    scoring_list.append(tmp_dict)\n",
    "            \n",
    "    \n",
    "    "
   ]
  },
  {
   "cell_type": "markdown",
   "metadata": {
    "heading_collapsed": true
   },
   "source": [
    "## Game Info"
   ]
  },
  {
   "cell_type": "code",
   "execution_count": 300,
   "metadata": {
    "ExecuteTime": {
     "end_time": "2018-09-09T21:48:44.299881Z",
     "start_time": "2018-09-09T21:48:43.932077Z"
    },
    "hidden": true
   },
   "outputs": [],
   "source": [
    "ginfo_dict = {}\n",
    "ginfo_div = soup.find('div', {'id':'all_game_info'})\n",
    "comments=ginfo_div.find_all(string=lambda text:isinstance(text,Comment))\n",
    "table = BeautifulSoup(str(comments), 'lxml')\n",
    "rows = table.find_all('tr')\n",
    "for row in rows[1:]:\n",
    "    row_lbl = row.contents[0].contents[0]\n",
    "    row_val = row.contents[1].contents[0]\n",
    "    if row_lbl not in ['Vegas Line', 'Over/Under']:\n",
    "        ginfo_dict[row_lbl] = row_val\n",
    "ginfo_dict['game_id'] = scrbox_dict['game_id']"
   ]
  },
  {
   "cell_type": "markdown",
   "metadata": {
    "heading_collapsed": true
   },
   "source": [
    "## Officials"
   ]
  },
  {
   "cell_type": "code",
   "execution_count": 335,
   "metadata": {
    "ExecuteTime": {
     "end_time": "2018-09-09T22:00:58.599663Z",
     "start_time": "2018-09-09T22:00:58.578802Z"
    },
    "hidden": true
   },
   "outputs": [],
   "source": [
    "off_list = []\n",
    "off_div = soup.find('div', {'id':'all_officials'})\n",
    "comments=off_div.find_all(string=lambda text:isinstance(text,Comment))\n",
    "table = BeautifulSoup(str(comments), 'lxml')\n",
    "rows = table.find_all('tr')\n",
    "for row in rows[1:]:\n",
    "    off_dict = {}\n",
    "    off_dict['ref_title'] = row.contents[0].string\n",
    "    off_dict['ref_pg'] = row.contents[1].a['href']\n",
    "    off_dict['ref_id'] = off_dict['ref_pg'].split('/')[-1].split('.')[0]\n",
    "    off_dict['ref_name'] = row.contents[1].string\n",
    "    off_dict['game_id'] = scrbox_dict['game_id']\n",
    "    off_list.append(off_dict)"
   ]
  },
  {
   "cell_type": "markdown",
   "metadata": {
    "heading_collapsed": true
   },
   "source": [
    "## Game Summary Stats"
   ]
  },
  {
   "cell_type": "code",
   "execution_count": 390,
   "metadata": {
    "ExecuteTime": {
     "end_time": "2018-09-09T22:26:22.659995Z",
     "start_time": "2018-09-09T22:26:22.606665Z"
    },
    "hidden": true
   },
   "outputs": [],
   "source": [
    "summ_dict = {}\n",
    "summ_div = soup.find('div', {'id':'all_team_stats'})\n",
    "comments= summ_div.find_all(string=lambda text:isinstance(text,Comment))\n",
    "table = BeautifulSoup(str(comments), 'lxml')\n",
    "rows = table.find_all('tr')[1:]\n",
    "for row in rows:\n",
    "    cont = row.contents\n",
    "    row_lbl = cont[0].string\n",
    "    summ_dict['home_' + row_lbl] = row.find('td',{'data-stat':'home_stat'}).string\n",
    "    summ_dict['away_' + row_lbl] = row.find('td',{'data-stat':'vis_stat'}).string\n",
    "summ_dict['home_team_name'] = scrbox_dict['home_team_name']\n",
    "summ_dict['home_team_id'] = scrbox_dict['home_team_id']\n",
    "summ_dict['away_team_name'] = scrbox_dict['away_team_name']\n",
    "summ_dict['away_team_id'] = scrbox_dict['away_team_id']\n",
    "summ_dict['game_id'] = scrbox_dict['game_id']"
   ]
  },
  {
   "cell_type": "markdown",
   "metadata": {
    "heading_collapsed": true
   },
   "source": [
    "## Passing, Rushing and Receiving & Defense"
   ]
  },
  {
   "cell_type": "code",
   "execution_count": 517,
   "metadata": {
    "ExecuteTime": {
     "end_time": "2018-09-09T23:05:55.478694Z",
     "start_time": "2018-09-09T23:05:55.414442Z"
    },
    "hidden": true
   },
   "outputs": [],
   "source": [
    "prr_list = []\n",
    "prr_div = soup.find('div', {'id':'all_player_offense'})\n",
    "comments= prr_div.find_all(string=lambda text:isinstance(text,Comment))\n",
    "table = BeautifulSoup(str(comments), 'lxml')\n",
    "rows = table.find_all('tr')[2:]\n",
    "for row in rows:\n",
    "    cells = row.contents\n",
    "    if cells[0].name is not None:\n",
    "        prr_dict = {}\n",
    "        for cell in cells:\n",
    "            lbl = cell['data-stat']\n",
    "            cell_str = cell.string\n",
    "            if cell_str is None:\n",
    "                prr_dict[cell['data-stat']] = 0\n",
    "            elif lbl =='player':\n",
    "                prr_dict['player_id'] = cell['data-append-csv']\n",
    "                prr_dict['player_name'] = cell_str\n",
    "            elif lbl =='team':\n",
    "                prr_dict[cell['data-stat']] = cell_str.lower()\n",
    "            else:\n",
    "                prr_dict[cell['data-stat']] = float(cell_str)\n",
    "        prr_dict['game_id'] = scrbox_dict['game_id']\n",
    "        prr_list.append(prr_dict)        "
   ]
  },
  {
   "cell_type": "markdown",
   "metadata": {
    "heading_collapsed": true
   },
   "source": [
    "## Starters"
   ]
  },
  {
   "cell_type": "code",
   "execution_count": 559,
   "metadata": {
    "ExecuteTime": {
     "end_time": "2018-09-10T01:43:27.495335Z",
     "start_time": "2018-09-10T01:43:27.464057Z"
    },
    "hidden": true
   },
   "outputs": [],
   "source": [
    "loc = 'home'\n",
    "start_list = []\n",
    "start_div = soup.find('div', {'id':'all_' + loc + '_starters'})\n",
    "comments= start_div.find_all(string=lambda text:isinstance(text,Comment))\n",
    "table = BeautifulSoup(str(comments), 'lxml')\n",
    "rows = table.find_all('tr')[1:]\n",
    "for row in rows:\n",
    "    cells = row.contents\n",
    "    start_dict = {}\n",
    "    start_dict['player_id'] = cells[0]['data-append-csv']\n",
    "    start_dict['player_name'] = cells[0].string\n",
    "    start_dict['pos'] = cells[1].string.lower()\n",
    "    start_dict['game_id'] = scrbox_dict['game_id']\n",
    "    start_dict['team_name'] = scrbox_dict[loc + '_team_name']\n",
    "    start_dict['team_id'] = scrbox_dict[loc + '_team_id']\n",
    "    start_list.append(start_dict)  "
   ]
  },
  {
   "cell_type": "markdown",
   "metadata": {
    "ExecuteTime": {
     "end_time": "2018-09-10T01:43:30.357986Z",
     "start_time": "2018-09-10T01:43:30.345008Z"
    },
    "heading_collapsed": true
   },
   "source": [
    "## Drives"
   ]
  },
  {
   "cell_type": "code",
   "execution_count": 654,
   "metadata": {
    "ExecuteTime": {
     "end_time": "2018-09-10T02:24:48.761784Z",
     "start_time": "2018-09-10T02:24:48.720166Z"
    },
    "hidden": true
   },
   "outputs": [],
   "source": [
    "\"\"\"\n",
    "loc is either home or away\n",
    "\"\"\"\n",
    "loc = 'home'\n",
    "loc_html = 'vis' if loc == 'away' else 'home'\n",
    "drive_list = []\n",
    "drive_div = soup.find('div', {'id':'all_' + loc_html + '_drives'})\n",
    "comments= drive_div.find_all(string=lambda text:isinstance(text,Comment))\n",
    "table = BeautifulSoup(str(comments), 'lxml')\n",
    "rows = table.find_all('tr')[1:]\n",
    "for row in rows:\n",
    "    cells = row.contents\n",
    "    drive_dict = {}\n",
    "    drive_dict['game_id'] = scrbox_dict['game_id']\n",
    "    drive_dict['team_name'] = scrbox_dict[loc + '_team_name']\n",
    "    drive_dict['team_id'] = scrbox_dict[loc + '_team_id']\n",
    "    for cell in cells:\n",
    "        cell_data = cell['data-stat']\n",
    "        cell_str = cell.string\n",
    "        if cell_data in ['drive_num', 'quarter', 'net_yds']:\n",
    "            drive_dict[cell_data] = int(cell_str)\n",
    "        elif cell_data == 'time_start':\n",
    "            str_split = cell_str.split(':')\n",
    "            drive_dict['sec_left_in_quarter'] = int(str_split[0])*60 + int(str_split[1])\n",
    "            drive_dict['sec_into_quarter'] = 15*60 - (int(str_split[0])*60 + int(str_split[1]))\n",
    "            drive_dict['sec_left_in_game'] = int(str_split[0])*60 + int(str_split[1]) + (4-drive_dict['quarter'])*15*60\n",
    "            drive_dict['sec_into_game'] = 4*15*60 - (int(str_split[0])*60 + int(str_split[1]) + (4-drive_dict['quarter'])*15*60)\n",
    "        elif cell_data == 'start_at':\n",
    "            str_split = cell_str.split(' ')\n",
    "            start_yd = int(str_split[1].lower())\n",
    "            drive_dict['start_yrd'] = start_yd\n",
    "            drive_dict['start_side'] = str_split[0].lower()\n",
    "            if drive_dict['start_side'] == drive_dict['team_id']:\n",
    "                start_yd = 100 - start_yd\n",
    "            drive_dict['yds_to_td'] = start_yd\n",
    "        elif cell_data == 'play_count_tip':\n",
    "            drive_dict['total_plays'] = int(cell_str)\n",
    "            plays = cell.span['tip'].split(',')\n",
    "            for i in plays:\n",
    "                play_sub = i.strip().split(' ')\n",
    "                drive_dict[play_sub[1] + '_plays'] = int(play_sub[0])\n",
    "        elif cell_data == 'time_total':\n",
    "            str_split = cell_str.split(':')\n",
    "            drive_dict['drive_sec'] = int(str_split[0])*60 + int(str_split[1])\n",
    "        elif cell_data == 'end_event':\n",
    "            drive_dict[cell_data] = cell_str\n",
    "        else:\n",
    "            raise KeyError('Column Not Found')\n",
    "    drive_list.append(drive_dict)"
   ]
  },
  {
   "cell_type": "markdown",
   "metadata": {},
   "source": [
    "## Play by Play"
   ]
  },
  {
   "cell_type": "code",
   "execution_count": 1100,
   "metadata": {
    "ExecuteTime": {
     "end_time": "2018-09-10T20:32:45.029808Z",
     "start_time": "2018-09-10T20:32:44.702121Z"
    }
   },
   "outputs": [
    {
     "name": "stdout",
     "output_type": "stream",
     "text": [
      "195\n"
     ]
    }
   ],
   "source": [
    "pbp_list = []\n",
    "pbp_div = soup.find('div', {'id':'all_pbp'})\n",
    "comments= pbp_div.find_all(string=lambda text:isinstance(text,Comment))\n",
    "table = BeautifulSoup(str(comments), 'lxml')\n",
    "rows = table.find_all('tr')[2:]\n",
    "row_ct = 0\n",
    "for row_idx,row in enumerate(rows):\n",
    "    cells = row.contents\n",
    "    pbp_dict = {}\n",
    "    if cells[0].name is not None and len(cells)==10 and cells[5].string is None:\n",
    "        pbp_dict['game_id'] = scrbox_dict['game_id']\n",
    "        row_ct += 1\n",
    "        for cell in cells:\n",
    "            cell_str = cell.string\n",
    "            cell_data = cell['data-stat']\n",
    "            if cell_data in ['quarter', 'down', 'yds_to_go', 'pbp_score_aw', 'pbp_score_hm']:\n",
    "                if cell_str is None:\n",
    "                    pbp_dict[cell_data] = -99\n",
    "                else:\n",
    "                    pbp_dict[cell_data] = int(cell_str)\n",
    "            elif cell_data == 'qtr_time_remain':\n",
    "                if cell_str is not None:\n",
    "                    str_split = cell_str.split(':')\n",
    "                    pbp_dict['sec_left_in_quarter'] = int(str_split[0])*60 + int(str_split[1])\n",
    "                    pbp_dict['sec_into_quarter'] = 15*60 - (int(str_split[0])*60 + int(str_split[1]))\n",
    "                    pbp_dict['sec_left_in_game'] = int(str_split[0])*60 + int(str_split[1]) + (4-pbp_dict['quarter'])*15*60\n",
    "                    pbp_dict['sec_into_game'] = 4*15*60 - (int(str_split[0])*60 + int(str_split[1]) + (4-pbp_dict['quarter'])*15*60)\n",
    "                else:\n",
    "                    pbp_dict['sec_left_in_quarter'] = np.NAN\n",
    "                    pbp_dict['sec_into_quarter'] = np.NAN\n",
    "                    pbp_dict['sec_left_in_game'] = np.NAN\n",
    "                    pbp_dict['sec_into_game'] = np.NAN\n",
    "            elif cell_data == 'location':\n",
    "                if cell_str is None:\n",
    "                    pbp_dict['loc_yrd'] = -999\n",
    "                    pbp_dict['loc_side'] = -999\n",
    "                else:\n",
    "                    str_split = cell_str.strip().split(' ')\n",
    "                    if len(str_split) == 1:\n",
    "                        pbp_dict['loc_yrd'] = int(str_split[0])\n",
    "                        pbp_dict['loc_side'] = -999\n",
    "                    else:\n",
    "                        pbp_dict['loc_yrd'] = int(str_split[1])\n",
    "                        pbp_dict['loc_side'] = str_split[0].lower()\n",
    "            elif cell_data == 'detail':\n",
    "                cont = cell.contents\n",
    "                play_str = ''.join(x.string for x in cont if x.string is not None)\n",
    "                pbp_dict['play_str'] = play_str\n",
    "                pbp_dict['play_count'] = cont[0]['name'].split('_')[-1]\n",
    "                if play_str.find('Timeout') >-1:\n",
    "                    cont_str = cont[1].split(' ')\n",
    "                    pbp_dict['play_type'] = 'timeout'\n",
    "                    pbp_dict['timeout_num'] = int(cont_str[1][1:])\n",
    "                    pbp_dict['timeout_by'] = ' '.join(cont_str[3:])\n",
    "                elif cont[1].name is None:\n",
    "                    pbp_dict['play_type'] = 'penalty'                    \n",
    "                else:\n",
    "                    action = cont[2].strip().split(' ')\n",
    "                    if action[0] in ['kicks', 'punts'] or action[0].isnumeric():\n",
    "                        pbp_dict['play_type'] = 'kick'\n",
    "                        player_id, player_name = name_extract(cont[1])\n",
    "                        pbp_dict['kicker_id'] = player_id\n",
    "                        pbp_dict['kicker_name'] = player_name\n",
    "                        if action[1] == 'off':\n",
    "                            pbp_dict['play_subtype'] = 'kickoff'\n",
    "                            kick_str = cont[2].strip().split(' ')\n",
    "                            pbp_dict['play_yds'] = kick_str[2]\n",
    "                            if kick_str[4] == 'touchback':\n",
    "                                pbp_dict['play_res'] = 'touchback'\n",
    "                            else:\n",
    "                                kick_ret_str = cont[4].strip().split(' ')\n",
    "                                player_id, player_name = name_extract(cont[3])\n",
    "                                pbp_dict['kick_ret_id'] = player_id\n",
    "                                pbp_dict['kick_ret_name'] = player_name\n",
    "                                pbp_dict['kick_ret_yds'] = int(kick_ret_str[1])\n",
    "                        elif action[0] == 'punts':\n",
    "                            pbp_dict['play_subtype'] = 'punt'\n",
    "                        elif action[1] == 'extra':\n",
    "                            pbp_dict['play_subtype'] = 'xp'\n",
    "                            if play_str.find('no good') > -1:\n",
    "                                pbp_dict['play_res'] = 'no_good'\n",
    "                            else:\n",
    "                                pbp_dict['play_res'] = 'good'\n",
    "                        elif action[0].isnumeric():\n",
    "                            pbp_dict['play_subtype'] = 'field_goal'\n",
    "                            if play_str.find('no good') > -1:\n",
    "                                pbp_dict['play_res'] = 'no_good'\n",
    "                            else:\n",
    "                                pbp_dict['play_res'] = 'good'\n",
    "                        else:\n",
    "                            raise KeyError('Kicking Play Not Found')\n",
    "                for idx, srch in enumerate(cont):\n",
    "                    str_srch = srch.string\n",
    "                    if str_srch is not None:\n",
    "                        str_srch = str_srch.lower()\n",
    "                        if str_srch.find('tackle by') > -1:\n",
    "                            tackle_id, tackle_name = name_extract(cont[idx+1])\n",
    "                            pbp_dict['tackled_by_id'] = tackle_id\n",
    "                            pbp_dict['tackled_by_name'] = tackle_name\n",
    "                            if len(cont) >= idx+3 and cont[idx+2].find('and') > -1:\n",
    "                                tackle_asst_id, tackle_asst_name = name_extract(cont[idx+3])\n",
    "                                pbp_dict['tackle_asst_id'] = tackle_asst_id\n",
    "                                pbp_dict['tackle_asst_name'] = tackle_asst_name\n",
    "                        if str_srch.find('sacked by') > -1:\n",
    "                            sack_id, sack_name = name_extract(cont[idx+1])\n",
    "                            pbp_dict['sacked_by_id'] = sack_id\n",
    "                            pbp_dict['sacked_by_name'] = sack_name\n",
    "                            pbp_dict['play_type'] = 'sack'\n",
    "                        elif str_srch.find('pass') > -1 and str_srch.find('pass') < 5:\n",
    "                            pbp_dict['play_type'] = 'pass'\n",
    "                            passer_id, passer_name = name_extract(cont[idx-1])\n",
    "                            pbp_dict['passer_id'] = passer_id\n",
    "                            pbp_dict['passer_name'] = passer_name\n",
    "                            try:\n",
    "                                rec_id, rec_name = name_extract(cont[idx+1])\n",
    "                                pbp_dict['rec_id'] = rec_id\n",
    "                                pbp_dict['rec_name'] = rec_name\n",
    "                            except:\n",
    "                                pass\n",
    "                            if str_srch.find('incomplete') > -1:\n",
    "                                pbp_dict['play_res'] = 'incomplete'\n",
    "                                pbp_dict['play_yds'] = 0\n",
    "                            else:\n",
    "                                pbp_dict['play_res'] = 'complete'\n",
    "                                pbp_dict['play_yds'] = int(cont[idx+2].strip().split()[1])\n",
    "                        elif max(str_srch.find(x) for x in ['right', 'middle', 'left']) > -1: \n",
    "                            pbp_dict['play_type'] = 'rush'\n",
    "                            rush_id, rush_name = name_extract(cont[idx-1])\n",
    "                            pbp_dict['rush_id'] = rush_id\n",
    "                            pbp_dict['rush_name'] = rush_name\n",
    "                            rush_splt = str_srch.split('for')\n",
    "                            if str_srch.find('no gain') > -1:\n",
    "                                pbp_dict['play_yds'] = 0\n",
    "                            else:\n",
    "                                pbp_dict['play_yds'] = int(rush_splt[-1].split('yard')[0].strip())\n",
    "                            pbp_dict['play_subtype'] = rush_splt[0].strip()\n",
    "                        elif str_srch.find('kneels') > -1:\n",
    "                            pbp_dict['play_type'] = 'kneel'\n",
    "                            kneel_id, kneel_name = name_extract(cont[idx-1])\n",
    "                            pbp_dict['kneel_id'] = kneel_id\n",
    "                            pbp_dict['kneel_name'] = kneel_name\n",
    "                            if str_srch.find('no gain') > -1:\n",
    "                                pbp_dict['play_yds'] = 0\n",
    "                            else:\n",
    "                                pbp_dict['play_yds'] = int(str_srch.split('for')[-1].split('yard')[0].strip())\n",
    "                        if str_srch.find('fumble') > -1:\n",
    "                            fmbl_id, fmbl_name = name_extract(cont[idx-1])\n",
    "                            pbp_dict['fmbl_id'] = fmbl_id\n",
    "                            pbp_dict['fmbl_name'] = fmbl_name\n",
    "                            if str_srch.find('forced') > -1:\n",
    "                                fmbl_forc_by_id, fmbl_forc_by_name = name_extract(cont[idx+1])\n",
    "                                pbp_dict['fmbl_forc_by_id'] = fmbl_forc_by_id\n",
    "                                pbp_dict['fmbl_forc_by_name'] = fmbl_forc_by_name\n",
    "                        if str_srch.find('recover') > -1:\n",
    "                            recover_id, recover_name = name_extract(cont[idx+1])\n",
    "                            pbp_dict['recover_id'] = recover_id\n",
    "                            pbp_dict['recover_name'] = recover_name\n",
    "                        if str_srch.find('intercept') > -1:\n",
    "                            int_id, int_name = name_extract(cont[idx+1])\n",
    "                            pbp_dict['int_id'] = int_id\n",
    "                            pbp_dict['int_name'] = int_name\n",
    "                            pbp_dict['play_yds'] = int(cont[idx+4].string.split('for')[-1].split('yard')[0].strip())\n",
    "                            pbp_dict['play_res'] = 'interception'\n",
    "                        if str_srch.find('penalty') > -1:\n",
    "                            pen_on_id, pen_on_name = name_extract(cont[idx+1])\n",
    "                            if 'pen_on_id' in pbp_dict:\n",
    "                                pen_sfx = '_2'\n",
    "                            else:\n",
    "                                pen_sfx = ''\n",
    "                            pbp_dict['pen_on_id' + pen_sfx] = pen_on_id\n",
    "                            pbp_dict['pen_on_name' + pen_sfx] = pen_on_name\n",
    "                            pen_res_str = cont[idx+2].string.lower()\n",
    "                            if pen_res_str.find('yard') > -1:\n",
    "                                pen_res = pen_res_str.split(':')[-1].split(', ')\n",
    "                                pbp_dict['pen_cause' + pen_sfx] = pen_res[0]                            \n",
    "                                pbp_dict['pen_res' + pen_sfx] = pen_res[1]\n",
    "                            else:\n",
    "                                pen_res = pen_res_str.split(':')[-1].split('penalty')\n",
    "                                pbp_dict['pen_cause' + pen_sfx] = pen_res[0]                            \n",
    "                                pbp_dict['pen_res' + pen_sfx] = -999\n",
    "                        if str_srch.find('touchdown') > -1:\n",
    "                            pbp_dict['play_res'] = 'touchdown'\n",
    "                if play_str.find('no play') > -1:\n",
    "                    pbp_dict['play_res'] = 'no_play'\n",
    "                for field in ['play_type', 'play_subtype', 'timeout_num', 'timeout_by', 'kicker_id', 'kicker_name', 'play_yds',\n",
    "                             'kick_ret_id', 'kick_ret_name', 'kick_ret_yds', 'play_res', 'tackled_by_id', 'tackled_by_name',\n",
    "                             'sacked_by_name', 'sacked_by_id', 'passer_id', 'passer_name', 'rec_id', 'rec_name', 'rush_id',\n",
    "                             'rush_name', 'kneel_id', 'kneel_name', 'fmbl_id', 'fmbl_name', 'fmbl_forc_by_id', \n",
    "                              'fmbl_forc_by_name', 'recover_id', 'recover_name', 'tackle_asst_id', 'tackle_asst_name', \n",
    "                             'int_name', 'int_id', 'pen_on_id', 'pen_on_name', 'pen_cause', 'pen_res']:\n",
    "                    if field not in pbp_dict:\n",
    "                        pbp_dict[field] = -999\n",
    "        pbp_list.append(pbp_dict)\n",
    "print(row_ct)        \n",
    "                "
   ]
  },
  {
   "cell_type": "code",
   "execution_count": 1098,
   "metadata": {
    "ExecuteTime": {
     "end_time": "2018-09-10T20:31:03.988179Z",
     "start_time": "2018-09-10T20:31:03.981240Z"
    }
   },
   "outputs": [
    {
     "data": {
      "text/plain": [
       "'abcd'"
      ]
     },
     "execution_count": 1098,
     "metadata": {},
     "output_type": "execute_result"
    }
   ],
   "source": [
    "'abcd' + ''"
   ]
  },
  {
   "cell_type": "code",
   "execution_count": 1089,
   "metadata": {
    "ExecuteTime": {
     "end_time": "2018-09-10T20:22:17.364059Z",
     "start_time": "2018-09-10T20:22:17.357372Z"
    }
   },
   "outputs": [
    {
     "data": {
      "text/plain": [
       "'Mike Gillislee right tackle for 2 yards. Penalty on Nate Solder: Offensive Holding (Offsetting), Penalty on Allen Bailey: Defensive Holding (Offsetting) (no play)'"
      ]
     },
     "execution_count": 1089,
     "metadata": {},
     "output_type": "execute_result"
    }
   ],
   "source": [
    "play_str"
   ]
  },
  {
   "cell_type": "code",
   "execution_count": 1091,
   "metadata": {
    "ExecuteTime": {
     "end_time": "2018-09-10T20:24:16.483026Z",
     "start_time": "2018-09-10T20:24:16.469001Z"
    }
   },
   "outputs": [
    {
     "data": {
      "text/plain": [
       "['abcd']"
      ]
     },
     "execution_count": 1091,
     "metadata": {},
     "output_type": "execute_result"
    }
   ],
   "source": [
    "'abcd'.split(',')"
   ]
  },
  {
   "cell_type": "code",
   "execution_count": 1090,
   "metadata": {
    "ExecuteTime": {
     "end_time": "2018-09-10T20:23:17.645395Z",
     "start_time": "2018-09-10T20:23:17.637526Z"
    }
   },
   "outputs": [
    {
     "data": {
      "text/plain": [
       "[' Defensive Holding (Offsetting) (no play)']"
      ]
     },
     "execution_count": 1090,
     "metadata": {},
     "output_type": "execute_result"
    }
   ],
   "source": [
    "pen_res"
   ]
  },
  {
   "cell_type": "code",
   "execution_count": 1084,
   "metadata": {
    "ExecuteTime": {
     "end_time": "2018-09-10T20:21:04.418958Z",
     "start_time": "2018-09-10T20:21:04.410780Z"
    }
   },
   "outputs": [
    {
     "data": {
      "text/plain": [
       "': defensive pass interference, 12 yards (no play)'"
      ]
     },
     "execution_count": 1084,
     "metadata": {},
     "output_type": "execute_result"
    }
   ],
   "source": [
    "str_srch"
   ]
  },
  {
   "cell_type": "code",
   "execution_count": 1085,
   "metadata": {
    "ExecuteTime": {
     "end_time": "2018-09-10T20:21:27.180590Z",
     "start_time": "2018-09-10T20:21:27.172984Z"
    }
   },
   "outputs": [
    {
     "data": {
      "text/plain": [
       "[<a name=\"pbp_9\"></a>,\n",
       " <a href=\"/players/B/BradTo00.htm\">Tom Brady</a>,\n",
       " ' pass incomplete short left intended for ',\n",
       " <a href=\"/players/C/CookBr00.htm\">Brandin Cooks</a>,\n",
       " '. Penalty on ',\n",
       " <a href=\"/players/M/MitcTe00.htm\">Terrance Mitchell</a>,\n",
       " ': Defensive Pass Interference, 12 yards (no play)']"
      ]
     },
     "execution_count": 1085,
     "metadata": {},
     "output_type": "execute_result"
    }
   ],
   "source": [
    "cont"
   ]
  },
  {
   "cell_type": "code",
   "execution_count": 1087,
   "metadata": {
    "ExecuteTime": {
     "end_time": "2018-09-10T20:21:41.966617Z",
     "start_time": "2018-09-10T20:21:41.959396Z"
    }
   },
   "outputs": [
    {
     "data": {
      "text/plain": [
       "1"
      ]
     },
     "execution_count": 1087,
     "metadata": {},
     "output_type": "execute_result"
    }
   ],
   "source": [
    "cont[2].string.find('pass')"
   ]
  },
  {
   "cell_type": "code",
   "execution_count": 984,
   "metadata": {
    "ExecuteTime": {
     "end_time": "2018-09-10T18:27:59.072881Z",
     "start_time": "2018-09-10T18:27:59.063540Z"
    }
   },
   "outputs": [
    {
     "name": "stdout",
     "output_type": "stream",
     "text": [
      "None\n",
      "James White\n",
      " left guard for 8 yards (tackle by \n",
      "Ron Parker\n",
      " and \n",
      "Derrick Johnson\n",
      ")\n"
     ]
    }
   ],
   "source": [
    "for i in rows[3].contents[5].contents:\n",
    "    print(i.string)"
   ]
  },
  {
   "cell_type": "code",
   "execution_count": 902,
   "metadata": {
    "ExecuteTime": {
     "end_time": "2018-09-10T17:44:35.659453Z",
     "start_time": "2018-09-10T17:44:35.650029Z"
    }
   },
   "outputs": [],
   "source": [
    "play_string = []\n",
    "for i in rows:\n",
    "    try:\n",
    "        play_string.append(''.join(x.string for x in i.contents[5].contents if x.string is not None))\n",
    "    except:\n",
    "        pass"
   ]
  },
  {
   "cell_type": "code",
   "execution_count": 903,
   "metadata": {
    "ExecuteTime": {
     "end_time": "2018-09-10T17:44:38.767836Z",
     "start_time": "2018-09-10T17:44:38.755309Z"
    }
   },
   "outputs": [
    {
     "data": {
      "text/plain": [
       "['Cairo Santos kicks off 64 yards, returned by Dion Lewis for 26 yards (tackle by Kevin Pierre-Louis)',\n",
       " 'Tom Brady pass incomplete deep left intended for Dwayne Allen',\n",
       " 'Tom Brady pass complete short right to Rex Burkhead for 8 yards (tackle by Ron Parker)',\n",
       " 'James White left guard for 8 yards (tackle by Ron Parker and Derrick Johnson)',\n",
       " 'James White middle for 3 yards (tackle by Eric Berry)',\n",
       " 'Tom Brady pass complete deep left to Brandin Cooks for 19 yards (tackle by Phillip Gaines)',\n",
       " 'James White left tackle for 5 yards (tackle by Dee Ford and Derrick Johnson)',\n",
       " 'Tom Brady pass complete short left to Danny Amendola for 16 yards (tackle by Phillip Gaines)',\n",
       " 'Tom Brady pass incomplete short left intended for Brandin Cooks. Penalty on Terrance Mitchell: Defensive Pass Interference, 12 yards (no play)',\n",
       " 'Mike Gillislee right tackle for 2 yards. Penalty on Nate Solder: Offensive Holding (Offsetting), Penalty on Allen Bailey: Defensive Holding (Offsetting) (no play)',\n",
       " 'Tom Brady pass incomplete short right intended for Rob Gronkowski',\n",
       " 'Mike Gillislee middle for 2 yards, touchdown',\n",
       " 'Stephen Gostkowski kicks extra point good',\n",
       " 'Stephen Gostkowski kicks off 65 yards, touchback',\n",
       " 'Kareem Hunt right tackle for 7 yards (tackle by Jordan Richards). Kareem Hunt fumbles (forced by Jordan Richards), recovered by Devin McCourty at KAN-32 (tackle by Chris Conley)',\n",
       " 'Tom Brady pass incomplete deep left intended for Rob Gronkowski',\n",
       " 'Tom Brady pass complete short left to James White for 3 yards (tackle by Ron Parker)',\n",
       " 'James White right guard for 10 yards (tackle by Ron Parker)',\n",
       " 'Tom Brady pass incomplete deep left intended for Rob Gronkowski',\n",
       " 'Rex Burkhead left guard for -1 yards (tackle by Eric Berry and Bennie Logan)',\n",
       " 'Tom Brady pass incomplete deep middle intended for Rob Gronkowski. Penalty on Dee Ford: Defensive Offside, 5 yards (no play)',\n",
       " 'Tom Brady pass complete short middle to Danny Amendola for 5 yards (tackle by Ron Parker)',\n",
       " 'Mike Gillislee middle for no gain (tackle by Allen Bailey and Bennie Logan)',\n",
       " 'Kareem Hunt right guard for 9 yards (tackle by Jordan Richards and Stephon Gilmore)',\n",
       " 'Travis Kelce middle for 4 yards (tackle by Jordan Richards and Malcom Brown)',\n",
       " 'Alex Smith pass complete short left to Tyreek Hill for 14 yards',\n",
       " 'Alex Smith pass complete short left to Demetrius Harris for 8 yards (tackle by Devin McCourty)',\n",
       " 'Alex Smith pass complete short left to Kareem Hunt for 5 yards (tackle by Malcolm Butler)',\n",
       " 'Kareem Hunt right tackle for 9 yards (tackle by Stephon Gilmore)',\n",
       " 'Alex Smith pass complete short middle to Albert Wilson for 3 yards (tackle by Malcom Brown)',\n",
       " 'Alex Smith pass complete short middle to Tyreek Hill for 11 yards (tackle by Patrick Chung)',\n",
       " 'Alex Smith pass complete short right to Chris Conley for 18 yards',\n",
       " 'Alex Smith pass incomplete',\n",
       " 'Kareem Hunt middle for 2 yards',\n",
       " 'Alex Smith pass complete short right to Demetrius Harris for 7 yards, touchdown',\n",
       " 'Cairo Santos kicks extra point good',\n",
       " 'Cairo Santos kicks off 65 yards, touchback',\n",
       " 'Mike Gillislee left guard for 3 yards (tackle by Ron Parker)',\n",
       " 'Tom Brady pass complete deep middle to Danny Amendola for 27 yards (tackle by Ron Parker and Eric Berry)',\n",
       " 'Tom Brady pass complete short middle to Brandin Cooks for 15 yards',\n",
       " 'Chris Hogan left end for 13 yards (tackle by Phillip Gaines)',\n",
       " 'Mike Gillislee left end for 3 yards (tackle by Roy Miller). Penalty on Daniel Sorensen: Defensive 12 On-field, 5 yards (no play)',\n",
       " 'Tom Brady pass incomplete short right intended for Rex Burkhead (defended by Derrick Johnson)',\n",
       " 'James White left end for 4 yards (tackle by Terrance Mitchell)',\n",
       " 'James White middle for no gain (tackle by Derrick Johnson and Ron Parker)',\n",
       " 'Down',\n",
       " 'Stephen Gostkowski 25 yard field goal good',\n",
       " \"Stephen Gostkowski kicks off 66 yards, returned by De\\\\'Anthony Thomas for 31 yards (tackle by Patrick Chung). Penalty on Brandon King: Unnecessary Roughness, 15 yards\",\n",
       " 'Alex Smith pass incomplete deep right intended for Ross Travis (defended by Devin McCourty)',\n",
       " 'Tyreek Hill right end for 4 yards (tackle by Devin McCourty)',\n",
       " 'Alex Smith sacked by Trey Flowers for -3 yards',\n",
       " 'Dustin Colquitt punts 36 yards, fair catch by Danny Amendola',\n",
       " 'Chris Hogan right end for 4 yards (tackle by Justin Houston and Eric Berry)',\n",
       " 'Mike Gillislee right end for 4 yards (tackle by Allen Bailey)',\n",
       " 'Tom Brady pass complete short left to Danny Amendola for 22 yards (tackle by Terrance Mitchell)',\n",
       " 'Tom Brady pass incomplete deep left intended for Rex Burkhead',\n",
       " 'Chris Hogan right end for no gain (tackle by Justin Houston)',\n",
       " 'Tom Brady pass complete short right to Rob Gronkowski for 16 yards (tackle by Eric Berry)',\n",
       " 'Mike Gillislee left tackle for 16 yards (tackle by Ron Parker and Marcus Peters)',\n",
       " 'Mike Gillislee left end for 9 yards (tackle by Terrance Mitchell and Roy Miller)',\n",
       " 'Mike Gillislee left guard for 4 yards (tackle by Derrick Johnson)',\n",
       " 'Mike Gillislee right tackle for 2 yards (tackle by Dee Ford and Bennie Logan)',\n",
       " 'Tom Brady pass incomplete short left intended for Chris Hogan. Penalty on Terrance Mitchell: Defensive Holding, 3 yards (no play)',\n",
       " 'Mike Gillislee left guard for 2 yards, touchdown',\n",
       " 'Stephen Gostkowski kicks extra point good',\n",
       " \"Stephen Gostkowski kicks off 71 yards, returned by De\\\\'Anthony Thomas for 29 yards (tackle by Jordan Richards)\",\n",
       " 'Kareem Hunt right end for 3 yards',\n",
       " 'Kareem Hunt right end for 10 yards',\n",
       " 'Tyreek Hill left guard for 1 yard (tackle by Alan Branch and Trey Flowers)',\n",
       " \"De\\\\'Anthony Thomas right tackle for 4 yards (tackle by Lawrence Guy and Dont\\\\'a Hightower)\",\n",
       " 'Alex Smith sacked by Deatrich Wise Jr. for -12 yards',\n",
       " \"Dustin Colquitt punts 46 yards. Penalty on De\\\\'Anthony Thomas: Interference with Opportunity to, 15 yards\",\n",
       " 'Dion Lewis middle for 4 yards (tackle by Dee Ford)',\n",
       " 'Tom Brady pass incomplete deep right intended for Chris Hogan',\n",
       " 'Tom Brady pass incomplete short left intended for Brandin Cooks',\n",
       " 'Ryan Allen punts 39 yards. Penalty on Frank Zombo: Offensive Holding, 9 yards',\n",
       " 'Kareem Hunt left end for 14 yards (tackle by Jordan Richards). Penalty on Eric Fisher: Offensive Holding, 4 yards (no play)',\n",
       " 'Kareem Hunt right end for 7 yards (tackle by Cassius Marsh)',\n",
       " 'Timeout #1 by New England Patriots',\n",
       " 'Alex Smith pass complete short middle to Albert Wilson for 9 yards (tackle by Adam Butler and Cassius Marsh)',\n",
       " 'Alex Smith pass complete short left to Travis Kelce for 14 yards (tackle by Devin McCourty)',\n",
       " 'Alex Smith pass complete short right to Albert Wilson for 13 yards (tackle by Eric Rowe)',\n",
       " 'Alex Smith middle for 7 yards (tackle by Malcom Brown)',\n",
       " 'Alex Smith pass incomplete deep right intended for Chris Conley',\n",
       " 'Alex Smith pass complete short middle to Tyreek Hill for 12 yards (tackle by Devin McCourty)',\n",
       " 'Timeout #1 by Kansas City Chiefs',\n",
       " \"Alex Smith pass complete short right to Charcandrick West for 4 yards (tackle by Dont\\\\'a Hightower)\",\n",
       " 'Alex Smith pass complete short right to Albert Wilson for 1 yard (tackle by Malcolm Butler)',\n",
       " 'Alex Smith pass complete short right to Tyreek Hill for 8 yards',\n",
       " 'Alex Smith pass incomplete deep left intended for Demarcus Robinson. Penalty on Malcolm Butler: Defensive Pass Interference, 20 yards (no play)',\n",
       " \"Alex Smith pass complete short right to De\\\\'Anthony Thomas for -2 yards (tackle by Devin McCourty)\",\n",
       " 'Timeout #2 by Kansas City Chiefs',\n",
       " 'Alex Smith pass complete short left to Kareem Hunt for 3 yards, touchdown',\n",
       " 'Cairo Santos kicks extra point good',\n",
       " 'Cairo Santos kicks off 57 yards, returned by Dion Lewis for 10 yards (tackle by Daniel Sorensen)',\n",
       " 'Tom Brady kneels for -1 yards',\n",
       " 'Down',\n",
       " 'Stephen Gostkowski kicks off 65 yards, touchback',\n",
       " 'Kareem Hunt middle for 10 yards (tackle by Trey Flowers)',\n",
       " 'Kareem Hunt right end for 20 yards (tackle by Devin McCourty). Penalty on Bryan Witzmann: Offensive Holding, 10 yards (no play)',\n",
       " ' -- ',\n",
       " 'Alex Smith pass complete short middle to Travis Kelce for 7 yards (tackle by Devin McCourty)',\n",
       " 'Alex Smith pass complete short right to Kareem Hunt for 8 yards (tackle by Stephon Gilmore and Devin McCourty)',\n",
       " 'Alex Smith pass complete short right to Tyreek Hill for 4 yards (tackle by Malcolm Butler)',\n",
       " 'Dustin Colquitt punts 39 yards, fair catch by Danny Amendola',\n",
       " 'Tom Brady pass incomplete deep left intended for Dwayne Allen',\n",
       " 'Tom Brady pass complete short left to Danny Amendola for 8 yards (tackle by Dee Ford). Danny Amendola fumbles (forced by Dee Ford), recovered by David Andrews at NWE-28',\n",
       " 'Mike Gillislee left tackle for 2 yards (tackle by Allen Bailey)',\n",
       " 'Mike Gillislee right tackle for -4 yards (tackle by Derrick Johnson)',\n",
       " 'Tom Brady pass incomplete deep left intended for Chris Hogan',\n",
       " 'Ryan Allen punts 35 yards, muffed catch by Tyreek Hill, recovered by Tyreek Hill and returned for no gain. Penalty on Daniel Sorensen: Unnecessary Roughness, 15 yards',\n",
       " 'Alex Smith pass complete deep right to Tyreek Hill for 75 yards, touchdown',\n",
       " 'Cairo Santos kicks extra point good',\n",
       " 'Cairo Santos kicks off 65 yards, touchback',\n",
       " 'Tom Brady pass incomplete deep right intended for Chris Hogan',\n",
       " 'Mike Gillislee middle for 4 yards (tackle by Bennie Logan)',\n",
       " 'Tom Brady pass complete short left to Rob Gronkowski for 17 yards (tackle by Eric Berry)',\n",
       " 'Tom Brady pass incomplete short middle intended for James White',\n",
       " 'Dion Lewis middle for 5 yards (tackle by Daniel Sorensen)',\n",
       " 'Tom Brady pass incomplete short right intended for Danny Amendola',\n",
       " 'Ryan Allen punts 35 yards, out of bounds',\n",
       " 'Kareem Hunt middle for 1 yard (tackle by Trey Flowers and David Harris)',\n",
       " 'Alex Smith pass incomplete deep left intended for Travis Kelce (defended by Devin McCourty)',\n",
       " 'Alex Smith pass incomplete short right intended for Chris Conley (defended by Stephon Gilmore)',\n",
       " 'Dustin Colquitt punts 39 yards, fair catch by Danny Amendola',\n",
       " 'Tom Brady pass incomplete short left intended for Rob Gronkowski. Penalty on Terrance Mitchell: Defensive Holding, 5 yards (no play)',\n",
       " 'Tom Brady pass complete short left to Danny Amendola for 22 yards (tackle by Phillip Gaines)',\n",
       " 'Tom Brady pass incomplete deep left intended for Brandin Cooks. Penalty on Terrance Mitchell: Defensive Pass Interference, 26 yards (no play)',\n",
       " 'Mike Gillislee right guard for no gain (tackle by Allen Bailey and Roy Miller)',\n",
       " 'Mike Gillislee right guard for 1 yard, touchdown',\n",
       " 'Stephen Gostkowski kicks extra point good',\n",
       " \"Stephen Gostkowski kicks off 66 yards, returned by De\\\\'Anthony Thomas for 14 yards (tackle by Jonathan Jones)\",\n",
       " 'Alex Smith pass complete short middle to Travis Kelce for 8 yards (tackle by Lawrence Guy). Penalty on Travis Kelce: Taunting, 10 yards',\n",
       " 'Kareem Hunt middle for 1 yard (tackle by Malcom Brown)',\n",
       " 'Alex Smith sacked by Trey Flowers for -1 yards. Penalty on Laurent Duvernay-Tardif: Offensive Holding (Declined)',\n",
       " 'Dustin Colquitt punts 36 yards, returned by Danny Amendola for 3 yards (tackle by Terrance Smith). Penalty on Brandon Bolden: Running Into the Kicker, 5 yards (no play)',\n",
       " 'Dustin Colquitt punts 49 yards, returned by Danny Amendola for 2 yards (tackle by Jehu Chesson). Penalty on Cassius Marsh: Running Into the Kicker, 5 yards (no play)',\n",
       " 'Dustin Colquitt punts 59 yards, returned by Danny Amendola for 8 yards',\n",
       " 'Tom Brady pass complete deep left to Brandin Cooks for 54 yards (tackle by Terrance Mitchell). Penalty on Phillip Gaines: Defensive Holding (Declined)',\n",
       " 'James White left tackle for 7 yards (tackle by Daniel Sorensen)',\n",
       " 'James White left guard for 4 yards (tackle by Derrick Johnson)',\n",
       " 'James White left tackle for 3 yards (tackle by Allen Bailey)',\n",
       " 'James White left end for -6 yards (tackle by Derrick Johnson)',\n",
       " 'Tom Brady right tackle for 1 yard. Penalty on Tom Brady: Illegal Forward Pass, 5 yards',\n",
       " 'Stephen Gostkowski 32 yard field goal good',\n",
       " \"Stephen Gostkowski kicks off 67 yards, returned by De\\\\'Anthony Thomas for 12 yards (tackle by Johnson Bademosi)\",\n",
       " 'Penalty on Bryan Witzmann: False Start, 5 yards (no play)',\n",
       " 'Kareem Hunt middle for 13 yards (tackle by Patrick Chung)',\n",
       " 'Down',\n",
       " 'Alex Smith pass complete short middle to Travis Kelce for 4 yards (tackle by Malcom Brown and Jordan Richards)',\n",
       " 'Alex Smith pass complete deep right to Kareem Hunt for 78 yards, touchdown',\n",
       " 'Cairo Santos kicks extra point good',\n",
       " 'Cairo Santos kicks off 65 yards, touchback',\n",
       " 'Tom Brady pass complete short left to James White for 26 yards (tackle by Ron Parker)',\n",
       " 'Tom Brady pass complete short left to Chris Hogan for 8 yards (tackle by Ron Parker and Derrick Johnson)',\n",
       " 'Tom Brady pass incomplete short left intended for Brandin Cooks',\n",
       " 'Tom Brady pass complete short right to James White for 1 yard (tackle by Marcus Peters and Eric Berry)',\n",
       " 'Mike Gillislee middle for no gain (tackle by Frank Zombo and Justin Houston)',\n",
       " 'Alex Smith pass incomplete deep left intended for Tyreek Hill',\n",
       " 'Alex Smith right guard for 2 yards (tackle by Cassius Marsh)',\n",
       " 'Alex Smith pass complete short left to Travis Kelce for 7 yards (tackle by Devin McCourty)',\n",
       " ' -- ',\n",
       " 'Dustin Colquitt punts 43 yards, fair catch by Patrick Chung',\n",
       " 'Rex Burkhead middle for 2 yards (tackle by Bennie Logan)',\n",
       " 'Rex Burkhead left end for 14 yards (tackle by Eric Murray and Terrance Mitchell)',\n",
       " 'Tom Brady pass incomplete deep right intended for Chris Hogan',\n",
       " 'Tom Brady pass incomplete deep left intended for Rob Gronkowski',\n",
       " 'Tom Brady pass incomplete short left intended for Brandin Cooks',\n",
       " 'Ryan Allen punts 38 yards, returned by Tyreek Hill for 7 yards',\n",
       " 'Alex Smith pass complete short right to Tyreek Hill for 9 yards (tackle by Devin McCourty)',\n",
       " 'Kareem Hunt right tackle for 7 yards',\n",
       " 'Alex Smith pass complete short right to Kareem Hunt for 4 yards (tackle by Stephon Gilmore)',\n",
       " 'Alex Smith pass complete deep left to Chris Conley for 25 yards (tackle by Malcolm Butler)',\n",
       " 'Alex Smith pass incomplete short right intended for Travis Kelce',\n",
       " 'Alex Smith pass complete short left to Albert Wilson for 11 yards (tackle by Lawrence Guy)',\n",
       " 'Timeout #1 by Kansas City Chiefs',\n",
       " 'Kareem Hunt right end for 4 yards, touchdown',\n",
       " 'Cairo Santos kicks extra point good',\n",
       " 'Cairo Santos kicks off 65 yards, touchback',\n",
       " 'Tom Brady sacked by Justin Houston for -7 yards',\n",
       " 'Tom Brady pass incomplete deep middle intended for Phillip Dorsett',\n",
       " 'Tom Brady pass incomplete deep left intended for Brandin Cooks (defended by Terrance Mitchell)',\n",
       " \"Ryan Allen punts 54 yards, returned by De\\\\'Anthony Thomas for 3 yards (tackle by Brandon King). Penalty on Frank Zombo: Illegal Block Above the Waist, 10 yards\",\n",
       " 'Kareem Hunt left end for 58 yards (tackle by Devin McCourty)',\n",
       " 'Charcandrick West right guard for 21 yards, touchdown',\n",
       " 'Cairo Santos kicks extra point good',\n",
       " 'Cairo Santos kicks off 64 yards, returned by Dion Lewis for 13 yards (tackle by Ukeme Eligwe)',\n",
       " 'Tom Brady sacked by Allen Bailey for -8 yards',\n",
       " 'Tom Brady sacked by Justin Houston for -5 yards',\n",
       " 'Tom Brady pass incomplete short right intended for James White',\n",
       " 'Ryan Allen punts 41 yards, out of bounds',\n",
       " 'Kareem Hunt right tackle for 2 yards',\n",
       " 'Timeout #1 by New England Patriots',\n",
       " 'Kareem Hunt right tackle for 2 yards (tackle by Alan Branch)',\n",
       " 'Timeout #2 by New England Patriots',\n",
       " 'Penalty on NWE: Defensive 12 On-field, 5 yards (no play)',\n",
       " 'Kareem Hunt middle for 3 yards (tackle by Malcom Brown)',\n",
       " 'Alex Smith kneels for -2 yards',\n",
       " 'Alex Smith kneels for -3 yards',\n",
       " 'Alex Smith kneels for -1 yards']"
      ]
     },
     "execution_count": 903,
     "metadata": {},
     "output_type": "execute_result"
    }
   ],
   "source": [
    "play_string"
   ]
  },
  {
   "cell_type": "code",
   "execution_count": 1064,
   "metadata": {
    "ExecuteTime": {
     "end_time": "2018-09-10T19:40:50.106069Z",
     "start_time": "2018-09-10T19:40:50.098433Z"
    }
   },
   "outputs": [
    {
     "data": {
      "text/plain": [
       "2"
      ]
     },
     "execution_count": 1064,
     "metadata": {},
     "output_type": "execute_result"
    }
   ],
   "source": [
    "tmp_list = []\n",
    "for i,v in enumerate(play_string):\n",
    "    if v.find('fumble') > -1:\n",
    "        tmp_list.append(str(i) + v)\n",
    "len(tmp_list)"
   ]
  },
  {
   "cell_type": "code",
   "execution_count": 1108,
   "metadata": {
    "ExecuteTime": {
     "end_time": "2018-09-10T20:35:59.762462Z",
     "start_time": "2018-09-10T20:35:59.753444Z"
    }
   },
   "outputs": [
    {
     "data": {
      "text/plain": [
       "{'game_id': '201709070nwe',\n",
       " 'quarter': 1,\n",
       " 'sec_left_in_quarter': 741,\n",
       " 'sec_into_quarter': 159,\n",
       " 'sec_left_in_game': 3441,\n",
       " 'sec_into_game': 159,\n",
       " 'down': 1,\n",
       " 'yds_to_go': 2,\n",
       " 'loc_yrd': 2,\n",
       " 'loc_side': 'kan',\n",
       " 'play_str': 'Mike Gillislee right tackle for 2 yards. Penalty on Nate Solder: Offensive Holding (Offsetting), Penalty on Allen Bailey: Defensive Holding (Offsetting) (no play)',\n",
       " 'play_count': '10',\n",
       " 'play_type': 'rush',\n",
       " 'rush_id': 'GillMi00',\n",
       " 'rush_name': 'Mike Gillislee',\n",
       " 'play_yds': 2,\n",
       " 'play_subtype': 'right tackle',\n",
       " 'pen_on_id': 'SoldNa00',\n",
       " 'pen_on_name': 'Nate Solder',\n",
       " 'pen_cause': ' offensive holding (offsetting), ',\n",
       " 'pen_res': -999,\n",
       " 'pen_on_id_2': 'BailAl00',\n",
       " 'pen_on_name_2': 'Allen Bailey',\n",
       " 'pen_cause_2': ' defensive holding (offsetting) (no play)',\n",
       " 'pen_res_2': -999,\n",
       " 'play_res': 'no_play',\n",
       " 'timeout_num': -999,\n",
       " 'timeout_by': -999,\n",
       " 'kicker_id': -999,\n",
       " 'kicker_name': -999,\n",
       " 'kick_ret_id': -999,\n",
       " 'kick_ret_name': -999,\n",
       " 'kick_ret_yds': -999,\n",
       " 'tackled_by_id': -999,\n",
       " 'tackled_by_name': -999,\n",
       " 'sacked_by_name': -999,\n",
       " 'sacked_by_id': -999,\n",
       " 'passer_id': -999,\n",
       " 'passer_name': -999,\n",
       " 'rec_id': -999,\n",
       " 'rec_name': -999,\n",
       " 'kneel_id': -999,\n",
       " 'kneel_name': -999,\n",
       " 'fmbl_id': -999,\n",
       " 'fmbl_name': -999,\n",
       " 'fmbl_forc_by_id': -999,\n",
       " 'fmbl_forc_by_name': -999,\n",
       " 'recover_id': -999,\n",
       " 'recover_name': -999,\n",
       " 'tackle_asst_id': -999,\n",
       " 'tackle_asst_name': -999,\n",
       " 'int_name': -999,\n",
       " 'int_id': -999,\n",
       " 'pbp_score_aw': 0,\n",
       " 'pbp_score_hm': 0}"
      ]
     },
     "execution_count": 1108,
     "metadata": {},
     "output_type": "execute_result"
    }
   ],
   "source": [
    "pbp_list[9] #['play_str'].find('no play')"
   ]
  },
  {
   "cell_type": "code",
   "execution_count": 1105,
   "metadata": {
    "ExecuteTime": {
     "end_time": "2018-09-10T20:34:58.687219Z",
     "start_time": "2018-09-10T20:34:58.679126Z"
    }
   },
   "outputs": [
    {
     "data": {
      "text/plain": [
       "1"
      ]
     },
     "execution_count": 1105,
     "metadata": {},
     "output_type": "execute_result"
    }
   ],
   "source": [
    "tmp_list = []\n",
    "for i in pbp_list:\n",
    "    if 'pen_on_id_2' in i:\n",
    "        tmp_list.append(i)\n",
    "len(tmp_list)"
   ]
  },
  {
   "cell_type": "code",
   "execution_count": 1096,
   "metadata": {
    "ExecuteTime": {
     "end_time": "2018-09-10T20:29:23.180859Z",
     "start_time": "2018-09-10T20:29:23.172467Z"
    }
   },
   "outputs": [
    {
     "data": {
      "text/plain": [
       "38"
      ]
     },
     "execution_count": 1096,
     "metadata": {},
     "output_type": "execute_result"
    }
   ],
   "source": [
    "tmp_list = []\n",
    "for i in pbp_list:\n",
    "    if i['play_type'] == 'kick':\n",
    "        tmp_list.append(i['play_str'])\n",
    "len(tmp_list)"
   ]
  },
  {
   "cell_type": "code",
   "execution_count": 1097,
   "metadata": {
    "ExecuteTime": {
     "end_time": "2018-09-10T20:29:24.638867Z",
     "start_time": "2018-09-10T20:29:24.631309Z"
    }
   },
   "outputs": [
    {
     "data": {
      "text/plain": [
       "['Cairo Santos kicks off 64 yards, returned by Dion Lewis for 26 yards (tackle by Kevin Pierre-Louis)',\n",
       " 'Stephen Gostkowski kicks extra point good',\n",
       " 'Stephen Gostkowski kicks off 65 yards, touchback',\n",
       " 'Cairo Santos kicks extra point good',\n",
       " 'Cairo Santos kicks off 65 yards, touchback',\n",
       " 'Stephen Gostkowski 25 yard field goal good',\n",
       " \"Stephen Gostkowski kicks off 66 yards, returned by De\\\\'Anthony Thomas for 31 yards (tackle by Patrick Chung). Penalty on Brandon King: Unnecessary Roughness, 15 yards\",\n",
       " 'Dustin Colquitt punts 36 yards, fair catch by Danny Amendola',\n",
       " 'Stephen Gostkowski kicks extra point good',\n",
       " \"Stephen Gostkowski kicks off 71 yards, returned by De\\\\'Anthony Thomas for 29 yards (tackle by Jordan Richards)\",\n",
       " \"Dustin Colquitt punts 46 yards. Penalty on De\\\\'Anthony Thomas: Interference with Opportunity to, 15 yards\",\n",
       " 'Ryan Allen punts 39 yards. Penalty on Frank Zombo: Offensive Holding, 9 yards',\n",
       " 'Cairo Santos kicks extra point good',\n",
       " 'Cairo Santos kicks off 57 yards, returned by Dion Lewis for 10 yards (tackle by Daniel Sorensen)',\n",
       " 'Stephen Gostkowski kicks off 65 yards, touchback',\n",
       " 'Dustin Colquitt punts 39 yards, fair catch by Danny Amendola',\n",
       " 'Ryan Allen punts 35 yards, muffed catch by Tyreek Hill, recovered by Tyreek Hill and returned for no gain. Penalty on Daniel Sorensen: Unnecessary Roughness, 15 yards',\n",
       " 'Cairo Santos kicks extra point good',\n",
       " 'Cairo Santos kicks off 65 yards, touchback',\n",
       " 'Ryan Allen punts 35 yards, out of bounds',\n",
       " 'Dustin Colquitt punts 39 yards, fair catch by Danny Amendola',\n",
       " 'Stephen Gostkowski kicks extra point good',\n",
       " \"Stephen Gostkowski kicks off 66 yards, returned by De\\\\'Anthony Thomas for 14 yards (tackle by Jonathan Jones)\",\n",
       " 'Dustin Colquitt punts 36 yards, returned by Danny Amendola for 3 yards (tackle by Terrance Smith). Penalty on Brandon Bolden: Running Into the Kicker, 5 yards (no play)',\n",
       " 'Dustin Colquitt punts 49 yards, returned by Danny Amendola for 2 yards (tackle by Jehu Chesson). Penalty on Cassius Marsh: Running Into the Kicker, 5 yards (no play)',\n",
       " 'Dustin Colquitt punts 59 yards, returned by Danny Amendola for 8 yards',\n",
       " 'Stephen Gostkowski 32 yard field goal good',\n",
       " \"Stephen Gostkowski kicks off 67 yards, returned by De\\\\'Anthony Thomas for 12 yards (tackle by Johnson Bademosi)\",\n",
       " 'Cairo Santos kicks extra point good',\n",
       " 'Cairo Santos kicks off 65 yards, touchback',\n",
       " 'Dustin Colquitt punts 43 yards, fair catch by Patrick Chung',\n",
       " 'Ryan Allen punts 38 yards, returned by Tyreek Hill for 7 yards',\n",
       " 'Cairo Santos kicks extra point good',\n",
       " 'Cairo Santos kicks off 65 yards, touchback',\n",
       " \"Ryan Allen punts 54 yards, returned by De\\\\'Anthony Thomas for 3 yards (tackle by Brandon King). Penalty on Frank Zombo: Illegal Block Above the Waist, 10 yards\",\n",
       " 'Cairo Santos kicks extra point good',\n",
       " 'Cairo Santos kicks off 64 yards, returned by Dion Lewis for 13 yards (tackle by Ukeme Eligwe)',\n",
       " 'Ryan Allen punts 41 yards, out of bounds']"
      ]
     },
     "execution_count": 1097,
     "metadata": {},
     "output_type": "execute_result"
    }
   ],
   "source": [
    "tmp_list"
   ]
  },
  {
   "cell_type": "code",
   "execution_count": 874,
   "metadata": {
    "ExecuteTime": {
     "end_time": "2018-09-10T17:02:51.682467Z",
     "start_time": "2018-09-10T17:02:51.675024Z"
    }
   },
   "outputs": [
    {
     "data": {
      "text/plain": [
       "'returned'"
      ]
     },
     "execution_count": 874,
     "metadata": {},
     "output_type": "execute_result"
    }
   ],
   "source": [
    "rows[0].contents[5].contents[2].strip().split(' ')[4]"
   ]
  },
  {
   "cell_type": "code",
   "execution_count": 877,
   "metadata": {
    "ExecuteTime": {
     "end_time": "2018-09-10T17:06:56.504701Z",
     "start_time": "2018-09-10T17:06:56.497214Z"
    }
   },
   "outputs": [
    {
     "data": {
      "text/plain": [
       "{'game_id': '201709070nwe',\n",
       " 'quarter': 1,\n",
       " 'sec_left_in_quarter': 900,\n",
       " 'sec_into_quarter': 0,\n",
       " 'sec_left_in_game': 3600,\n",
       " 'sec_into_game': 0,\n",
       " 'down': -99,\n",
       " 'yds_to_go': -99,\n",
       " 'loc_yrd': 35,\n",
       " 'loc_side': 'kan',\n",
       " 'pbp_count': '1',\n",
       " 'play_type': 'kick',\n",
       " 'kicker_id': 'SantCa01',\n",
       " 'kicker_name': 'Cairo Santos',\n",
       " 'play_subtype': 'kickoff',\n",
       " 'play_yds': '64',\n",
       " 'timeout_num': -999,\n",
       " 'timeout_by': -999,\n",
       " 'pbp_score_aw': 0,\n",
       " 'pbp_score_hm': 0}"
      ]
     },
     "execution_count": 877,
     "metadata": {},
     "output_type": "execute_result"
    }
   ],
   "source": [
    "pbp_list[0]"
   ]
  },
  {
   "cell_type": "code",
   "execution_count": 754,
   "metadata": {
    "ExecuteTime": {
     "end_time": "2018-09-10T14:49:25.210978Z",
     "start_time": "2018-09-10T14:49:25.203340Z"
    }
   },
   "outputs": [
    {
     "data": {
      "text/plain": [
       "False"
      ]
     },
     "execution_count": 754,
     "metadata": {},
     "output_type": "execute_result"
    }
   ],
   "source": [
    "rows[102].contents[5].string is None"
   ]
  },
  {
   "cell_type": "code",
   "execution_count": 691,
   "metadata": {
    "ExecuteTime": {
     "end_time": "2018-09-10T14:28:55.133377Z",
     "start_time": "2018-09-10T14:28:54.212669Z"
    }
   },
   "outputs": [],
   "source": [
    "df = pd.DataFrame(pbp_list)"
   ]
  },
  {
   "cell_type": "markdown",
   "metadata": {},
   "source": [
    "# Extra"
   ]
  },
  {
   "cell_type": "code",
   "execution_count": 647,
   "metadata": {
    "ExecuteTime": {
     "end_time": "2018-09-10T02:22:26.428856Z",
     "start_time": "2018-09-10T02:22:26.421014Z"
    }
   },
   "outputs": [
    {
     "data": {
      "text/plain": [
       "'nwe'"
      ]
     },
     "execution_count": 647,
     "metadata": {},
     "output_type": "execute_result"
    }
   ],
   "source": [
    "drive_dict['team_id']"
   ]
  },
  {
   "cell_type": "code",
   "execution_count": 638,
   "metadata": {
    "ExecuteTime": {
     "end_time": "2018-09-10T02:16:37.658760Z",
     "start_time": "2018-09-10T02:16:37.650334Z"
    }
   },
   "outputs": [
    {
     "data": {
      "text/plain": [
       "<td class=\"right \" data-stat=\"start_at\">NWE 27</td>"
      ]
     },
     "execution_count": 638,
     "metadata": {},
     "output_type": "execute_result"
    }
   ],
   "source": [
    "cell"
   ]
  },
  {
   "cell_type": "code",
   "execution_count": 648,
   "metadata": {
    "ExecuteTime": {
     "end_time": "2018-09-10T02:22:59.959827Z",
     "start_time": "2018-09-10T02:22:59.951773Z"
    }
   },
   "outputs": [
    {
     "data": {
      "text/plain": [
       "[<th class=\"right \" data-stat=\"drive_num\" scope=\"row\">2</th>,\n",
       " <td class=\"center \" data-stat=\"quarter\">1</td>,\n",
       " <td class=\"right \" csk=\"720\" data-stat=\"time_start\">12:00</td>,\n",
       " <td class=\"right \" data-stat=\"start_at\">KAN 32</td>,\n",
       " <td class=\"right \" data-stat=\"play_count_tip\"><span class=\"tooltip\" tip=\"4 Pass, 3 Rush, 1 Penalty\">7</span></td>,\n",
       " <td class=\"right \" csk=\"155\" data-stat=\"time_total\">2:35</td>,\n",
       " <td class=\"right \" data-stat=\"net_yds\">22</td>,\n",
       " <td class=\"center \" data-stat=\"end_event\">Downs</td>]"
      ]
     },
     "execution_count": 648,
     "metadata": {},
     "output_type": "execute_result"
    }
   ],
   "source": [
    "rows[1].contents"
   ]
  },
  {
   "cell_type": "code",
   "execution_count": 619,
   "metadata": {
    "ExecuteTime": {
     "end_time": "2018-09-10T02:10:19.589524Z",
     "start_time": "2018-09-10T02:10:19.571746Z"
    }
   },
   "outputs": [
    {
     "data": {
      "text/plain": [
       "'5 Pass, 4 Rush, 2 Penalty'"
      ]
     },
     "execution_count": 619,
     "metadata": {},
     "output_type": "execute_result"
    }
   ],
   "source": [
    "rows[0].contents[4].span['tip']"
   ]
  },
  {
   "cell_type": "code",
   "execution_count": 656,
   "metadata": {
    "ExecuteTime": {
     "end_time": "2018-09-10T02:24:58.249451Z",
     "start_time": "2018-09-10T02:24:58.231019Z"
    }
   },
   "outputs": [
    {
     "data": {
      "text/plain": [
       "[{'game_id': '201709070nwe',\n",
       "  'team_name': 'New England Patriots',\n",
       "  'team_id': 'nwe',\n",
       "  'drive_num': 1,\n",
       "  'quarter': 1,\n",
       "  'sec_left_in_quarter': 900,\n",
       "  'sec_into_quarter': 0,\n",
       "  'sec_left_in_game': 3600,\n",
       "  'sec_into_game': 0,\n",
       "  'start_yrd': 27,\n",
       "  'start_side': 'nwe',\n",
       "  'yds_to_td': 73,\n",
       "  'total_plays': 10,\n",
       "  'Pass_plays': 5,\n",
       "  'Rush_plays': 4,\n",
       "  'Penalty_plays': 2,\n",
       "  'drive_sec': 172,\n",
       "  'net_yds': 73,\n",
       "  'end_event': 'Touchdown'},\n",
       " {'game_id': '201709070nwe',\n",
       "  'team_name': 'New England Patriots',\n",
       "  'team_id': 'nwe',\n",
       "  'drive_num': 2,\n",
       "  'quarter': 1,\n",
       "  'sec_left_in_quarter': 720,\n",
       "  'sec_into_quarter': 180,\n",
       "  'sec_left_in_game': 3420,\n",
       "  'sec_into_game': 180,\n",
       "  'start_yrd': 32,\n",
       "  'start_side': 'kan',\n",
       "  'yds_to_td': 32,\n",
       "  'total_plays': 7,\n",
       "  'Pass_plays': 4,\n",
       "  'Rush_plays': 3,\n",
       "  'Penalty_plays': 1,\n",
       "  'drive_sec': 155,\n",
       "  'net_yds': 22,\n",
       "  'end_event': 'Downs'},\n",
       " {'game_id': '201709070nwe',\n",
       "  'team_name': 'New England Patriots',\n",
       "  'team_id': 'nwe',\n",
       "  'drive_num': 3,\n",
       "  'quarter': 1,\n",
       "  'sec_left_in_quarter': 183,\n",
       "  'sec_into_quarter': 717,\n",
       "  'sec_left_in_game': 2883,\n",
       "  'sec_into_game': 717,\n",
       "  'start_yrd': 25,\n",
       "  'start_side': 'nwe',\n",
       "  'yds_to_td': 75,\n",
       "  'total_plays': 8,\n",
       "  'Pass_plays': 10,\n",
       "  'Rush_plays': 18,\n",
       "  'Penalty_plays': 2,\n",
       "  'drive_sec': 187,\n",
       "  'net_yds': 67,\n",
       "  'end_event': 'Field Goal'},\n",
       " {'game_id': '201709070nwe',\n",
       "  'team_name': 'New England Patriots',\n",
       "  'team_id': 'nwe',\n",
       "  'drive_num': 4,\n",
       "  'quarter': 2,\n",
       "  'sec_left_in_quarter': 797,\n",
       "  'sec_into_quarter': 103,\n",
       "  'sec_left_in_game': 2597,\n",
       "  'sec_into_game': 1003,\n",
       "  'start_yrd': 18,\n",
       "  'start_side': 'nwe',\n",
       "  'yds_to_td': 82,\n",
       "  'total_plays': 11,\n",
       "  'Pass_plays': 3,\n",
       "  'Rush_plays': 8,\n",
       "  'Penalty_plays': 1,\n",
       "  'drive_sec': 350,\n",
       "  'net_yds': 82,\n",
       "  'end_event': 'Touchdown'},\n",
       " {'game_id': '201709070nwe',\n",
       "  'team_name': 'New England Patriots',\n",
       "  'team_id': 'nwe',\n",
       "  'drive_num': 5,\n",
       "  'quarter': 2,\n",
       "  'sec_left_in_quarter': 224,\n",
       "  'sec_into_quarter': 676,\n",
       "  'sec_left_in_game': 2024,\n",
       "  'sec_into_game': 1576,\n",
       "  'start_yrd': 40,\n",
       "  'start_side': 'nwe',\n",
       "  'yds_to_td': 60,\n",
       "  'total_plays': 3,\n",
       "  'Pass_plays': 2,\n",
       "  'Rush_plays': 1,\n",
       "  'Penalty_plays': 0,\n",
       "  'drive_sec': 57,\n",
       "  'net_yds': 4,\n",
       "  'end_event': 'Punt'},\n",
       " {'game_id': '201709070nwe',\n",
       "  'team_name': 'New England Patriots',\n",
       "  'team_id': 'nwe',\n",
       "  'drive_num': 6,\n",
       "  'quarter': 2,\n",
       "  'sec_left_in_quarter': 13,\n",
       "  'sec_into_quarter': 887,\n",
       "  'sec_left_in_game': 1813,\n",
       "  'sec_into_game': 1787,\n",
       "  'start_yrd': 18,\n",
       "  'start_side': 'nwe',\n",
       "  'yds_to_td': 82,\n",
       "  'total_plays': 1,\n",
       "  'Pass_plays': 0,\n",
       "  'Rush_plays': 1,\n",
       "  'Penalty_plays': 0,\n",
       "  'drive_sec': 13,\n",
       "  'net_yds': -1,\n",
       "  'end_event': 'End of Half'},\n",
       " {'game_id': '201709070nwe',\n",
       "  'team_name': 'New England Patriots',\n",
       "  'team_id': 'nwe',\n",
       "  'drive_num': 7,\n",
       "  'quarter': 3,\n",
       "  'sec_left_in_quarter': 713,\n",
       "  'sec_into_quarter': 187,\n",
       "  'sec_left_in_game': 1613,\n",
       "  'sec_into_game': 1987,\n",
       "  'start_yrd': 17,\n",
       "  'start_side': 'nwe',\n",
       "  'yds_to_td': 83,\n",
       "  'total_plays': 6,\n",
       "  'Pass_plays': 3,\n",
       "  'Rush_plays': 2,\n",
       "  'Penalty_plays': 0,\n",
       "  'drive_sec': 145,\n",
       "  'net_yds': 9,\n",
       "  'end_event': 'Punt'},\n",
       " {'game_id': '201709070nwe',\n",
       "  'team_name': 'New England Patriots',\n",
       "  'team_id': 'nwe',\n",
       "  'drive_num': 8,\n",
       "  'quarter': 3,\n",
       "  'sec_left_in_quarter': 559,\n",
       "  'sec_into_quarter': 341,\n",
       "  'sec_left_in_game': 1459,\n",
       "  'sec_into_game': 2141,\n",
       "  'start_yrd': 25,\n",
       "  'start_side': 'nwe',\n",
       "  'yds_to_td': 75,\n",
       "  'total_plays': 6,\n",
       "  'Pass_plays': 4,\n",
       "  'Rush_plays': 2,\n",
       "  'Penalty_plays': 0,\n",
       "  'drive_sec': 131,\n",
       "  'net_yds': 26,\n",
       "  'end_event': 'Punt'},\n",
       " {'game_id': '201709070nwe',\n",
       "  'team_name': 'New England Patriots',\n",
       "  'team_id': 'nwe',\n",
       "  'drive_num': 9,\n",
       "  'quarter': 3,\n",
       "  'sec_left_in_quarter': 382,\n",
       "  'sec_into_quarter': 518,\n",
       "  'sec_left_in_game': 1282,\n",
       "  'sec_into_game': 2318,\n",
       "  'start_yrd': 46,\n",
       "  'start_side': 'nwe',\n",
       "  'yds_to_td': 54,\n",
       "  'total_plays': 3,\n",
       "  'Pass_plays': 1,\n",
       "  'Rush_plays': 2,\n",
       "  'Penalty_plays': 2,\n",
       "  'drive_sec': 81,\n",
       "  'net_yds': 54,\n",
       "  'end_event': 'Touchdown'},\n",
       " {'game_id': '201709070nwe',\n",
       "  'team_name': 'New England Patriots',\n",
       "  'team_id': 'nwe',\n",
       "  'drive_num': 10,\n",
       "  'quarter': 3,\n",
       "  'sec_left_in_quarter': 170,\n",
       "  'sec_into_quarter': 730,\n",
       "  'sec_left_in_game': 1070,\n",
       "  'sec_into_game': 2530,\n",
       "  'start_yrd': 28,\n",
       "  'start_side': 'nwe',\n",
       "  'yds_to_td': 72,\n",
       "  'total_plays': 7,\n",
       "  'Pass_plays': 1,\n",
       "  'Rush_plays': 5,\n",
       "  'Penalty_plays': 0,\n",
       "  'drive_sec': 161,\n",
       "  'net_yds': 58,\n",
       "  'end_event': 'Field Goal'},\n",
       " {'game_id': '201709070nwe',\n",
       "  'team_name': 'New England Patriots',\n",
       "  'team_id': 'nwe',\n",
       "  'drive_num': 11,\n",
       "  'quarter': 4,\n",
       "  'sec_left_in_quarter': 847,\n",
       "  'sec_into_quarter': 53,\n",
       "  'sec_left_in_game': 847,\n",
       "  'sec_into_game': 2753,\n",
       "  'start_yrd': 25,\n",
       "  'start_side': 'nwe',\n",
       "  'yds_to_td': 75,\n",
       "  'total_plays': 5,\n",
       "  'Pass_plays': 4,\n",
       "  'Rush_plays': 1,\n",
       "  'Penalty_plays': 0,\n",
       "  'drive_sec': 106,\n",
       "  'net_yds': 35,\n",
       "  'end_event': 'Downs'},\n",
       " {'game_id': '201709070nwe',\n",
       "  'team_name': 'New England Patriots',\n",
       "  'team_id': 'nwe',\n",
       "  'drive_num': 12,\n",
       "  'quarter': 4,\n",
       "  'sec_left_in_quarter': 628,\n",
       "  'sec_into_quarter': 272,\n",
       "  'sec_left_in_game': 628,\n",
       "  'sec_into_game': 2972,\n",
       "  'start_yrd': 13,\n",
       "  'start_side': 'nwe',\n",
       "  'yds_to_td': 87,\n",
       "  'total_plays': 5,\n",
       "  'Pass_plays': 3,\n",
       "  'Rush_plays': 2,\n",
       "  'Penalty_plays': 0,\n",
       "  'drive_sec': 93,\n",
       "  'net_yds': 16,\n",
       "  'end_event': 'Punt'},\n",
       " {'game_id': '201709070nwe',\n",
       "  'team_name': 'New England Patriots',\n",
       "  'team_id': 'nwe',\n",
       "  'drive_num': 13,\n",
       "  'quarter': 4,\n",
       "  'sec_left_in_quarter': 314,\n",
       "  'sec_into_quarter': 586,\n",
       "  'sec_left_in_game': 314,\n",
       "  'sec_into_game': 3286,\n",
       "  'start_yrd': 25,\n",
       "  'start_side': 'nwe',\n",
       "  'yds_to_td': 75,\n",
       "  'total_plays': 3,\n",
       "  'Pass_plays': 3,\n",
       "  'Rush_plays': 0,\n",
       "  'Penalty_plays': 0,\n",
       "  'drive_sec': 59,\n",
       "  'net_yds': -7,\n",
       "  'end_event': 'Punt'},\n",
       " {'game_id': '201709070nwe',\n",
       "  'team_name': 'New England Patriots',\n",
       "  'team_id': 'nwe',\n",
       "  'drive_num': 14,\n",
       "  'quarter': 4,\n",
       "  'sec_left_in_quarter': 240,\n",
       "  'sec_into_quarter': 660,\n",
       "  'sec_left_in_game': 240,\n",
       "  'sec_into_game': 3360,\n",
       "  'start_yrd': 14,\n",
       "  'start_side': 'nwe',\n",
       "  'yds_to_td': 86,\n",
       "  'total_plays': 3,\n",
       "  'Pass_plays': 3,\n",
       "  'Rush_plays': 0,\n",
       "  'Penalty_plays': 0,\n",
       "  'drive_sec': 76,\n",
       "  'net_yds': -13,\n",
       "  'end_event': 'Punt'}]"
      ]
     },
     "execution_count": 656,
     "metadata": {},
     "output_type": "execute_result"
    }
   ],
   "source": [
    "drive_list"
   ]
  },
  {
   "cell_type": "code",
   "execution_count": 502,
   "metadata": {
    "ExecuteTime": {
     "end_time": "2018-09-09T23:02:48.727273Z",
     "start_time": "2018-09-09T23:02:48.720234Z"
    }
   },
   "outputs": [
    {
     "data": {
      "text/plain": [
       "'th'"
      ]
     },
     "execution_count": 502,
     "metadata": {},
     "output_type": "execute_result"
    }
   ],
   "source": [
    "aa.name"
   ]
  },
  {
   "cell_type": "code",
   "execution_count": 501,
   "metadata": {
    "ExecuteTime": {
     "end_time": "2018-09-09T23:02:45.498160Z",
     "start_time": "2018-09-09T23:02:45.490768Z"
    }
   },
   "outputs": [
    {
     "data": {
      "text/plain": [
       "True"
      ]
     },
     "execution_count": 501,
     "metadata": {},
     "output_type": "execute_result"
    }
   ],
   "source": [
    "bb.name is None"
   ]
  },
  {
   "cell_type": "code",
   "execution_count": 438,
   "metadata": {
    "ExecuteTime": {
     "end_time": "2018-09-09T22:48:39.250679Z",
     "start_time": "2018-09-09T22:48:39.231789Z"
    }
   },
   "outputs": [
    {
     "data": {
      "text/plain": [
       "[]"
      ]
     },
     "execution_count": 438,
     "metadata": {},
     "output_type": "execute_result"
    }
   ],
   "source": [
    "table.find_all('tr','data-row')"
   ]
  },
  {
   "cell_type": "code",
   "execution_count": 405,
   "metadata": {
    "ExecuteTime": {
     "end_time": "2018-09-09T22:31:17.031599Z",
     "start_time": "2018-09-09T22:31:17.023887Z"
    }
   },
   "outputs": [
    {
     "data": {
      "text/plain": [
       "'pass_cmp'"
      ]
     },
     "execution_count": 405,
     "metadata": {},
     "output_type": "execute_result"
    }
   ],
   "source": [
    "rows[0].contents[2]['data-stat']"
   ]
  },
  {
   "cell_type": "code",
   "execution_count": 381,
   "metadata": {
    "ExecuteTime": {
     "end_time": "2018-09-09T22:22:40.143847Z",
     "start_time": "2018-09-09T22:22:40.136248Z"
    }
   },
   "outputs": [
    {
     "data": {
      "text/plain": [
       "'25'"
      ]
     },
     "execution_count": 381,
     "metadata": {},
     "output_type": "execute_result"
    }
   ],
   "source": [
    "rows[0].find('td',{'data-stat':'home_stat'}).string"
   ]
  },
  {
   "cell_type": "code",
   "execution_count": 232,
   "metadata": {
    "ExecuteTime": {
     "end_time": "2018-09-09T19:55:39.284245Z",
     "start_time": "2018-09-09T19:55:39.276443Z"
    }
   },
   "outputs": [
    {
     "data": {
      "text/plain": [
       "[<a href=\"/players/H/HarrDe03.htm\">Demetrius Harris</a>,\n",
       " ' 7 yard pass from ',\n",
       " <a href=\"/players/S/SmitAl03.htm\">Alex Smith</a>,\n",
       " ' (',\n",
       " <a href=\"/players/S/SantCa01.htm\">Cairo Santos</a>,\n",
       " ' kick)']"
      ]
     },
     "execution_count": 232,
     "metadata": {},
     "output_type": "execute_result"
    }
   ],
   "source": [
    "rows[2].contents[3].contents"
   ]
  },
  {
   "cell_type": "code",
   "execution_count": 105,
   "metadata": {
    "ExecuteTime": {
     "end_time": "2018-09-09T18:01:52.247213Z",
     "start_time": "2018-09-09T18:01:52.239099Z"
    }
   },
   "outputs": [
    {
     "data": {
      "text/plain": [
       "'Stadium'"
      ]
     },
     "execution_count": 105,
     "metadata": {},
     "output_type": "execute_result"
    }
   ],
   "source": [
    "scrbox_meta[2].strong.string"
   ]
  }
 ],
 "metadata": {
  "kernelspec": {
   "display_name": "Python 3",
   "language": "python",
   "name": "python3"
  },
  "language_info": {
   "codemirror_mode": {
    "name": "ipython",
    "version": 3
   },
   "file_extension": ".py",
   "mimetype": "text/x-python",
   "name": "python",
   "nbconvert_exporter": "python",
   "pygments_lexer": "ipython3",
   "version": "3.6.4"
  }
 },
 "nbformat": 4,
 "nbformat_minor": 2
}
