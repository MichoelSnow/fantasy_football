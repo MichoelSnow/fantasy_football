{
 "cells": [
  {
   "cell_type": "markdown",
   "metadata": {},
   "source": [
    "# Imports and Paths"
   ]
  },
  {
   "cell_type": "code",
   "execution_count": 275,
   "metadata": {
    "ExecuteTime": {
     "end_time": "2018-08-28T18:10:09.729548Z",
     "start_time": "2018-08-28T18:10:09.718521Z"
    }
   },
   "outputs": [],
   "source": [
    "import urllib\n",
    "from bs4 import BeautifulSoup, Comment\n",
    "import os\n",
    "import pandas as pd\n",
    "from plotnine import *\n",
    "import plotnine\n",
    "import time\n",
    "\n",
    "plotnine.options.figure_size = (12, 8)\n",
    "from pandas.api.types import is_string_dtype\n",
    "pd.options.display.max_columns=100\n",
    "pd.options.display.max_rows=100"
   ]
  },
  {
   "cell_type": "code",
   "execution_count": 296,
   "metadata": {
    "ExecuteTime": {
     "end_time": "2018-08-28T18:25:38.608292Z",
     "start_time": "2018-08-28T18:25:38.604324Z"
    }
   },
   "outputs": [],
   "source": [
    "PATH = '/data/msnow/football/'"
   ]
  },
  {
   "cell_type": "markdown",
   "metadata": {},
   "source": [
    "# Getting Team pages"
   ]
  },
  {
   "cell_type": "code",
   "execution_count": 20,
   "metadata": {
    "ExecuteTime": {
     "end_time": "2018-08-28T12:57:30.070820Z",
     "start_time": "2018-08-28T12:57:30.065707Z"
    }
   },
   "outputs": [],
   "source": [
    "base_pg = 'https://www.pro-football-reference.com'\n",
    "year_pg_tmplt = 'https://www.pro-football-reference.com/years/'\n",
    "# year_pg_tmplt = 'https://www.pro-football-reference.com/years/1966/'"
   ]
  },
  {
   "cell_type": "code",
   "execution_count": 245,
   "metadata": {
    "ExecuteTime": {
     "end_time": "2018-08-28T17:56:20.194831Z",
     "start_time": "2018-08-28T17:56:17.703014Z"
    }
   },
   "outputs": [],
   "source": [
    "year = 1966\n",
    "year_pg_url = os.path.join(year_pg_tmplt,str(year))\n",
    "year_pg = urllib.request.urlopen(year_pg_url)\n",
    "soup_year = BeautifulSoup(year_pg, 'html.parser')"
   ]
  },
  {
   "cell_type": "code",
   "execution_count": 260,
   "metadata": {
    "ExecuteTime": {
     "end_time": "2018-08-28T18:00:47.194467Z",
     "start_time": "2018-08-28T18:00:47.172910Z"
    }
   },
   "outputs": [],
   "source": [
    "teams = soup_year.find(\"table\", {'id':'NFL'}).find_all('a')\n",
    "team_number = 0"
   ]
  },
  {
   "cell_type": "markdown",
   "metadata": {},
   "source": [
    "# Extracting info"
   ]
  },
  {
   "cell_type": "code",
   "execution_count": 351,
   "metadata": {
    "ExecuteTime": {
     "end_time": "2018-08-28T20:37:21.868649Z",
     "start_time": "2018-08-28T20:37:21.845244Z"
    }
   },
   "outputs": [
    {
     "data": {
      "text/plain": [
       "dict_keys(['df_1966_00', 'df_1966_01', 'df_1966_02', 'df_1966_03', 'df_1966_04', 'df_1966_05', 'df_1966_06', 'df_1966_07', 'df_1966_08', 'df_1966_09', 'df_1966_10', 'df_1966_11', 'df_1966_12', 'df_1966_13', 'df_1966_14', 'df_1967_00', 'df_1967_01', 'df_1967_02', 'df_1967_03', 'df_1967_04', 'df_1967_05', 'df_1967_06', 'df_1967_07', 'df_1967_08', 'df_1967_09', 'df_1967_10', 'df_1967_11', 'df_1967_12', 'df_1967_13', 'df_1967_14', 'df_1967_15', 'df_1968_00', 'df_1968_01', 'df_1968_02', 'df_1968_03', 'df_1968_04', 'df_1968_05', 'df_1968_06', 'df_1968_07', 'df_1968_08', 'df_1968_09', 'df_1968_10', 'df_1968_11', 'df_1968_12', 'df_1968_13', 'df_1968_14', 'df_1968_15', 'df_1969_00', 'df_1969_01', 'df_1969_02', 'df_1969_03', 'df_1969_04', 'df_1969_05', 'df_1969_06', 'df_1969_07', 'df_1969_08', 'df_1969_09', 'df_1969_10', 'df_1969_11', 'df_1969_12', 'df_1969_13', 'df_1969_14', 'df_1969_15', 'df_1970_00', 'df_1970_01', 'df_1970_02', 'df_1970_03', 'df_1970_04', 'df_1970_05', 'df_1970_06', 'df_1970_07', 'df_1970_08', 'df_1970_09', 'df_1970_10', 'df_1970_11', 'df_1970_12', 'df_1970_13', 'df_1970_14', 'df_1970_15', 'df_1970_16', 'df_1970_17', 'df_1970_18', 'df_1970_19', 'df_1970_20', 'df_1970_21', 'df_1970_22', 'df_1970_23', 'df_1970_24', 'df_1970_25', 'df_1971_00', 'df_1971_01', 'df_1971_02', 'df_1971_03', 'df_1971_04', 'df_1971_05', 'df_1971_06', 'df_1971_07', 'df_1971_08', 'df_1971_09', 'df_1971_10', 'df_1971_11', 'df_1971_12', 'df_1971_13', 'df_1971_14', 'df_1971_15', 'df_1971_16', 'df_1971_17', 'df_1971_18', 'df_1971_19', 'df_1971_20', 'df_1971_21', 'df_1971_22', 'df_1971_23', 'df_1971_24', 'df_1971_25', 'df_1972_00', 'df_1972_01', 'df_1972_02', 'df_1972_03', 'df_1972_04', 'df_1972_05', 'df_1972_06', 'df_1972_07', 'df_1972_08', 'df_1972_09', 'df_1972_10', 'df_1972_11', 'df_1972_12', 'df_1972_13', 'df_1972_14', 'df_1972_15', 'df_1972_16', 'df_1972_17', 'df_1972_18', 'df_1972_19', 'df_1972_20', 'df_1972_21', 'df_1972_22', 'df_1972_23', 'df_1972_24', 'df_1972_25', 'df_1973_00', 'df_1973_01', 'df_1973_02', 'df_1973_03', 'df_1973_04', 'df_1973_05', 'df_1973_06', 'df_1973_07', 'df_1973_08', 'df_1973_09', 'df_1973_10', 'df_1973_11', 'df_1973_12', 'df_1973_13', 'df_1973_14', 'df_1973_15', 'df_1973_16', 'df_1973_17', 'df_1973_18', 'df_1973_19', 'df_1973_20', 'df_1973_21', 'df_1973_22', 'df_1973_23', 'df_1973_24', 'df_1973_25', 'df_1974_00', 'df_1974_01', 'df_1974_02', 'df_1974_03', 'df_1974_04', 'df_1974_05', 'df_1974_06', 'df_1974_07', 'df_1974_08', 'df_1974_09', 'df_1974_10', 'df_1974_11', 'df_1974_12', 'df_1974_13', 'df_1974_14', 'df_1974_15', 'df_1974_16', 'df_1974_17', 'df_1974_18', 'df_1974_19', 'df_1974_20', 'df_1974_21', 'df_1974_22', 'df_1974_23', 'df_1974_24', 'df_1974_25', 'df_1975_00', 'df_1975_01', 'df_1975_02', 'df_1975_03', 'df_1975_04', 'df_1975_05', 'df_1975_06', 'df_1975_07', 'df_1975_08', 'df_1975_09', 'df_1975_10', 'df_1975_11', 'df_1975_12', 'df_1975_13', 'df_1975_14', 'df_1975_15', 'df_1975_16', 'df_1975_17', 'df_1975_18', 'df_1975_19', 'df_1975_20', 'df_1975_21', 'df_1975_22', 'df_1975_23', 'df_1975_24', 'df_1975_25', 'df_1976_00', 'df_1976_01', 'df_1976_02', 'df_1976_03', 'df_1976_04', 'df_1976_05', 'df_1976_06', 'df_1976_07', 'df_1976_08', 'df_1976_09', 'df_1976_10', 'df_1976_11', 'df_1976_12', 'df_1976_13', 'df_1976_14', 'df_1976_15', 'df_1976_16', 'df_1976_17', 'df_1976_18', 'df_1976_19', 'df_1976_20', 'df_1976_21', 'df_1976_22', 'df_1976_23', 'df_1976_24', 'df_1976_25', 'df_1976_26', 'df_1976_27', 'df_1977_00', 'df_1977_01', 'df_1977_02', 'df_1977_03', 'df_1977_04', 'df_1977_05', 'df_1977_06', 'df_1977_07', 'df_1977_08', 'df_1977_09', 'df_1977_10', 'df_1977_11', 'df_1977_12', 'df_1977_13', 'df_1977_14', 'df_1977_15', 'df_1977_16', 'df_1977_17', 'df_1977_18', 'df_1977_19', 'df_1977_20', 'df_1977_21', 'df_1977_22', 'df_1977_23', 'df_1977_24', 'df_1977_25', 'df_1977_26', 'df_1977_27', 'df_1978_00', 'df_1978_01', 'df_1978_02', 'df_1978_03', 'df_1978_04', 'df_1978_05', 'df_1978_06', 'df_1978_07', 'df_1978_08', 'df_1978_09', 'df_1978_10', 'df_1978_11', 'df_1978_12', 'df_1978_13', 'df_1978_14', 'df_1978_15', 'df_1978_16', 'df_1978_17', 'df_1978_18', 'df_1978_19', 'df_1978_20', 'df_1978_21', 'df_1978_22', 'df_1978_23', 'df_1978_24', 'df_1978_25', 'df_1978_26', 'df_1978_27', 'df_1979_00', 'df_1979_01', 'df_1979_02', 'df_1979_03', 'df_1979_04', 'df_1979_05', 'df_1979_06', 'df_1979_07', 'df_1979_08', 'df_1979_09', 'df_1979_10', 'df_1979_11', 'df_1979_12', 'df_1979_13', 'df_1979_14', 'df_1979_15', 'df_1979_16', 'df_1979_17', 'df_1979_18', 'df_1979_19', 'df_1979_20', 'df_1979_21', 'df_1979_22', 'df_1979_23', 'df_1979_24', 'df_1979_25', 'df_1979_26', 'df_1979_27', 'df_1980_00', 'df_1980_01', 'df_1980_02', 'df_1980_03', 'df_1980_04', 'df_1980_05', 'df_1980_06', 'df_1980_07', 'df_1980_08', 'df_1980_09', 'df_1980_10', 'df_1980_11', 'df_1980_12', 'df_1980_13', 'df_1980_14', 'df_1980_15', 'df_1980_16', 'df_1980_17', 'df_1980_18', 'df_1980_19', 'df_1980_20', 'df_1980_21', 'df_1980_22', 'df_1980_23', 'df_1980_24', 'df_1980_25', 'df_1980_26', 'df_1980_27', 'df_1981_00', 'df_1981_01', 'df_1981_02', 'df_1981_03', 'df_1981_04', 'df_1981_05', 'df_1981_06', 'df_1981_07', 'df_1981_08', 'df_1981_09', 'df_1981_10', 'df_1981_11', 'df_1981_12', 'df_1981_13', 'df_1981_14', 'df_1981_15', 'df_1981_16', 'df_1981_17', 'df_1981_18', 'df_1981_19', 'df_1981_20', 'df_1981_21', 'df_1981_22', 'df_1981_23', 'df_1981_24', 'df_1981_25', 'df_1981_26', 'df_1981_27', 'df_1982_00', 'df_1982_01', 'df_1982_02', 'df_1982_03', 'df_1982_04', 'df_1982_05', 'df_1982_06', 'df_1982_07', 'df_1982_08', 'df_1982_09', 'df_1982_10', 'df_1982_11', 'df_1982_12', 'df_1982_13', 'df_1982_14', 'df_1982_15', 'df_1982_16', 'df_1982_17', 'df_1982_18', 'df_1982_19', 'df_1982_20', 'df_1982_21', 'df_1982_22', 'df_1982_23', 'df_1982_24', 'df_1982_25', 'df_1982_26', 'df_1982_27', 'df_1983_00', 'df_1983_01', 'df_1983_02', 'df_1983_03', 'df_1983_04', 'df_1983_05', 'df_1983_06', 'df_1983_07', 'df_1983_08', 'df_1983_09', 'df_1983_10', 'df_1983_11', 'df_1983_12', 'df_1983_13', 'df_1983_14', 'df_1983_15', 'df_1983_16', 'df_1983_17', 'df_1983_18', 'df_1983_19', 'df_1983_20', 'df_1983_21', 'df_1983_22', 'df_1983_23', 'df_1983_24', 'df_1983_25', 'df_1983_26', 'df_1983_27', 'df_1984_00', 'df_1984_01', 'df_1984_02', 'df_1984_03', 'df_1984_04', 'df_1984_05', 'df_1984_06', 'df_1984_07', 'df_1984_08', 'df_1984_09', 'df_1984_10', 'df_1984_11', 'df_1984_12', 'df_1984_13', 'df_1984_14', 'df_1984_15', 'df_1984_16', 'df_1984_17', 'df_1984_18', 'df_1984_19', 'df_1984_20', 'df_1984_21', 'df_1984_22', 'df_1984_23', 'df_1984_24', 'df_1984_25', 'df_1984_26', 'df_1984_27', 'df_1985_00', 'df_1985_01', 'df_1985_02', 'df_1985_03', 'df_1985_04', 'df_1985_05', 'df_1985_06', 'df_1985_07', 'df_1985_08', 'df_1985_09', 'df_1985_10', 'df_1985_11', 'df_1985_12', 'df_1985_13', 'df_1985_14', 'df_1985_15', 'df_1985_16', 'df_1985_17', 'df_1985_18', 'df_1985_19', 'df_1985_20', 'df_1985_21', 'df_1985_22', 'df_1985_23', 'df_1985_24', 'df_1985_25', 'df_1985_26', 'df_1985_27', 'df_1986_00', 'df_1986_01', 'df_1986_02', 'df_1986_03', 'df_1986_04', 'df_1986_05', 'df_1986_06', 'df_1986_07', 'df_1986_08', 'df_1986_09', 'df_1986_10', 'df_1986_11', 'df_1986_12', 'df_1986_13', 'df_1986_14', 'df_1986_15', 'df_1986_16', 'df_1986_17', 'df_1986_18', 'df_1986_19', 'df_1986_20', 'df_1986_21', 'df_1986_22', 'df_1986_23', 'df_1986_24', 'df_1986_25', 'df_1986_26', 'df_1986_27', 'df_1987_00', 'df_1987_01', 'df_1987_02', 'df_1987_03', 'df_1987_04', 'df_1987_05', 'df_1987_06', 'df_1987_07', 'df_1987_08', 'df_1987_09', 'df_1987_10', 'df_1987_11', 'df_1987_12', 'df_1987_13', 'df_1987_14', 'df_1987_15', 'df_1987_16', 'df_1987_17', 'df_1987_18', 'df_1987_19', 'df_1987_20', 'df_1987_21', 'df_1987_22', 'df_1987_23', 'df_1987_24', 'df_1987_25', 'df_1987_26', 'df_1987_27', 'df_1988_00', 'df_1988_01', 'df_1988_02', 'df_1988_03', 'df_1988_04', 'df_1988_05', 'df_1988_06', 'df_1988_07', 'df_1988_08', 'df_1988_09', 'df_1988_10', 'df_1988_11', 'df_1988_12', 'df_1988_13', 'df_1988_14', 'df_1988_15', 'df_1988_16', 'df_1988_17', 'df_1988_18', 'df_1988_19', 'df_1988_20', 'df_1988_21', 'df_1988_22', 'df_1988_23', 'df_1988_24', 'df_1988_25', 'df_1988_26', 'df_1988_27', 'df_1989_00', 'df_1989_01', 'df_1989_02', 'df_1989_03', 'df_1989_04', 'df_1989_05', 'df_1989_06', 'df_1989_07', 'df_1989_08', 'df_1989_09', 'df_1989_10', 'df_1989_11', 'df_1989_12', 'df_1989_13', 'df_1989_14', 'df_1989_15', 'df_1989_16', 'df_1989_17', 'df_1989_18', 'df_1989_19', 'df_1989_20', 'df_1989_21', 'df_1989_22', 'df_1989_23', 'df_1989_24', 'df_1989_25', 'df_1989_26', 'df_1989_27', 'df_1990_00', 'df_1990_01', 'df_1990_02', 'df_1990_03', 'df_1990_04', 'df_1990_05', 'df_1990_06', 'df_1990_07', 'df_1990_08', 'df_1990_09', 'df_1990_10', 'df_1990_11', 'df_1990_12', 'df_1990_13', 'df_1990_14', 'df_1990_15', 'df_1990_16', 'df_1990_17', 'df_1990_18', 'df_1990_19', 'df_1990_20', 'df_1990_21', 'df_1990_22', 'df_1990_23', 'df_1990_24', 'df_1990_25', 'df_1990_26', 'df_1990_27', 'df_1991_00', 'df_1991_01', 'df_1991_02', 'df_1991_03', 'df_1991_04', 'df_1991_05', 'df_1991_06', 'df_1991_07', 'df_1991_08', 'df_1991_09', 'df_1991_10', 'df_1991_11', 'df_1991_12', 'df_1991_13', 'df_1991_14', 'df_1991_15', 'df_1991_16', 'df_1991_17', 'df_1991_18', 'df_1991_19', 'df_1991_20', 'df_1991_21', 'df_1991_22', 'df_1991_23', 'df_1991_24', 'df_1991_25', 'df_1991_26', 'df_1991_27', 'df_1992_00', 'df_1992_01', 'df_1992_02', 'df_1992_03', 'df_1992_04', 'df_1992_05', 'df_1992_06', 'df_1992_07', 'df_1992_08', 'df_1992_09', 'df_1992_10', 'df_1992_11', 'df_1992_12', 'df_1992_13', 'df_1992_14', 'df_1992_15', 'df_1992_16', 'df_1992_17', 'df_1992_18', 'df_1992_19', 'df_1992_20', 'df_1992_21', 'df_1992_22', 'df_1992_23', 'df_1992_24', 'df_1992_25', 'df_1992_26', 'df_1992_27', 'df_1993_00', 'df_1993_01', 'df_1993_02', 'df_1993_03', 'df_1993_04', 'df_1993_05', 'df_1993_06', 'df_1993_07', 'df_1993_08', 'df_1993_09', 'df_1993_10', 'df_1993_11', 'df_1993_12', 'df_1993_13', 'df_1993_14', 'df_1993_15', 'df_1993_16', 'df_1993_17', 'df_1993_18', 'df_1993_19', 'df_1993_20', 'df_1993_21', 'df_1993_22', 'df_1993_23', 'df_1993_24', 'df_1993_25', 'df_1993_26', 'df_1993_27', 'df_1994_00', 'df_1994_01', 'df_1994_02', 'df_1994_03', 'df_1994_04', 'df_1994_05', 'df_1994_06', 'df_1994_07', 'df_1994_08', 'df_1994_09', 'df_1994_10', 'df_1994_11', 'df_1994_12', 'df_1994_13', 'df_1994_14', 'df_1994_15', 'df_1994_16', 'df_1994_17', 'df_1994_18', 'df_1994_19', 'df_1994_20', 'df_1994_21', 'df_1994_22', 'df_1994_23', 'df_1994_24', 'df_1994_25', 'df_1994_26', 'df_1994_27', 'df_1995_00', 'df_1995_01', 'df_1995_02', 'df_1995_03', 'df_1995_04', 'df_1995_05', 'df_1995_06', 'df_1995_07', 'df_1995_08', 'df_1995_09', 'df_1995_10', 'df_1995_11', 'df_1995_12', 'df_1995_13', 'df_1995_14', 'df_1995_15', 'df_1995_16', 'df_1995_17', 'df_1995_18', 'df_1995_19', 'df_1995_20', 'df_1995_21', 'df_1995_22', 'df_1995_23', 'df_1995_24', 'df_1995_25', 'df_1995_26', 'df_1995_27', 'df_1995_28', 'df_1995_29', 'df_1996_00', 'df_1996_01', 'df_1996_02', 'df_1996_03', 'df_1996_04', 'df_1996_05', 'df_1996_06', 'df_1996_07', 'df_1996_08', 'df_1996_09', 'df_1996_10', 'df_1996_11', 'df_1996_12', 'df_1996_13', 'df_1996_14', 'df_1996_15', 'df_1996_16', 'df_1996_17', 'df_1996_18', 'df_1996_19', 'df_1996_20', 'df_1996_21', 'df_1996_22', 'df_1996_23', 'df_1996_24', 'df_1996_25', 'df_1996_26', 'df_1996_27', 'df_1996_28', 'df_1996_29', 'df_1997_00', 'df_1997_01', 'df_1997_02', 'df_1997_03', 'df_1997_04', 'df_1997_05', 'df_1997_06', 'df_1997_07', 'df_1997_08', 'df_1997_09', 'df_1997_10', 'df_1997_11', 'df_1997_12', 'df_1997_13', 'df_1997_14', 'df_1997_15', 'df_1997_16', 'df_1997_17', 'df_1997_18', 'df_1997_19', 'df_1997_20', 'df_1997_21', 'df_1997_22', 'df_1997_23', 'df_1997_24', 'df_1997_25', 'df_1997_26', 'df_1997_27', 'df_1997_28', 'df_1997_29', 'df_1998_00', 'df_1998_01', 'df_1998_02', 'df_1998_03', 'df_1998_04', 'df_1998_05', 'df_1998_06', 'df_1998_07', 'df_1998_08', 'df_1998_09', 'df_1998_10', 'df_1998_11', 'df_1998_12', 'df_1998_13', 'df_1998_14', 'df_1998_15', 'df_1998_16', 'df_1998_17', 'df_1998_18', 'df_1998_19', 'df_1998_20', 'df_1998_21', 'df_1998_22', 'df_1998_23', 'df_1998_24', 'df_1998_25', 'df_1998_26', 'df_1998_27', 'df_1998_28', 'df_1998_29', 'df_1999_00', 'df_1999_01', 'df_1999_02', 'df_1999_03', 'df_1999_04', 'df_1999_05', 'df_1999_06', 'df_1999_07', 'df_1999_08', 'df_1999_09', 'df_1999_10', 'df_1999_11', 'df_1999_12', 'df_1999_13', 'df_1999_14', 'df_1999_15', 'df_1999_16', 'df_1999_17', 'df_1999_18', 'df_1999_19', 'df_1999_20', 'df_1999_21', 'df_1999_22', 'df_1999_23', 'df_1999_24', 'df_1999_25', 'df_1999_26', 'df_1999_27', 'df_1999_28', 'df_1999_29', 'df_1999_30', 'df_2000_00', 'df_2000_01', 'df_2000_02', 'df_2000_03', 'df_2000_04', 'df_2000_05', 'df_2000_06', 'df_2000_07', 'df_2000_08', 'df_2000_09', 'df_2000_10', 'df_2000_11', 'df_2000_12', 'df_2000_13', 'df_2000_14', 'df_2000_15', 'df_2000_16', 'df_2000_17', 'df_2000_18', 'df_2000_19', 'df_2000_20', 'df_2000_21', 'df_2000_22', 'df_2000_23', 'df_2000_24', 'df_2000_25', 'df_2000_26', 'df_2000_27', 'df_2000_28', 'df_2000_29', 'df_2000_30', 'df_2001_00', 'df_2001_01', 'df_2001_02', 'df_2001_03', 'df_2001_04', 'df_2001_05', 'df_2001_06', 'df_2001_07', 'df_2001_08', 'df_2001_09', 'df_2001_10', 'df_2001_11', 'df_2001_12', 'df_2001_13', 'df_2001_14', 'df_2001_15', 'df_2001_16', 'df_2001_17', 'df_2001_18', 'df_2001_19', 'df_2001_20', 'df_2001_21', 'df_2001_22', 'df_2001_23', 'df_2001_24', 'df_2001_25', 'df_2001_26', 'df_2001_27', 'df_2001_28', 'df_2001_29', 'df_2001_30', 'df_2002_00', 'df_2002_01', 'df_2002_02', 'df_2002_03', 'df_2002_04', 'df_2002_05', 'df_2002_06', 'df_2002_07', 'df_2002_08', 'df_2002_09', 'df_2002_10', 'df_2002_11', 'df_2002_12', 'df_2002_13', 'df_2002_14', 'df_2002_15', 'df_2002_16', 'df_2002_17', 'df_2002_18', 'df_2002_19', 'df_2002_20', 'df_2002_21', 'df_2002_22', 'df_2002_23', 'df_2002_24', 'df_2002_25', 'df_2002_26', 'df_2002_27', 'df_2002_28', 'df_2002_29', 'df_2002_30', 'df_2002_31', 'df_2003_00', 'df_2003_01', 'df_2003_02', 'df_2003_03', 'df_2003_04', 'df_2003_05', 'df_2003_06', 'df_2003_07', 'df_2003_08', 'df_2003_09', 'df_2003_10', 'df_2003_11', 'df_2003_12', 'df_2003_13', 'df_2003_14', 'df_2003_15', 'df_2003_16', 'df_2003_17', 'df_2003_18', 'df_2003_19', 'df_2003_20', 'df_2003_21', 'df_2003_22', 'df_2003_23', 'df_2003_24', 'df_2003_25', 'df_2003_26', 'df_2003_27', 'df_2003_28', 'df_2003_29', 'df_2003_30', 'df_2003_31', 'df_2004_00', 'df_2004_01', 'df_2004_02', 'df_2004_03', 'df_2004_04', 'df_2004_05', 'df_2004_06', 'df_2004_07', 'df_2004_08', 'df_2004_09', 'df_2004_10', 'df_2004_11', 'df_2004_12', 'df_2004_13', 'df_2004_14', 'df_2004_15', 'df_2004_16', 'df_2004_17', 'df_2004_18', 'df_2004_19', 'df_2004_20', 'df_2004_21', 'df_2004_22', 'df_2004_23', 'df_2004_24', 'df_2004_25', 'df_2004_26', 'df_2004_27', 'df_2004_28', 'df_2004_29', 'df_2004_30', 'df_2004_31', 'df_2005_00', 'df_2005_01', 'df_2005_02', 'df_2005_03', 'df_2005_04', 'df_2005_05', 'df_2005_06', 'df_2005_07', 'df_2005_08', 'df_2005_09', 'df_2005_10', 'df_2005_11', 'df_2005_12', 'df_2005_13', 'df_2005_14', 'df_2005_15', 'df_2005_16', 'df_2005_17', 'df_2005_18', 'df_2005_19', 'df_2005_20', 'df_2005_21', 'df_2005_22', 'df_2005_23', 'df_2005_24', 'df_2005_25', 'df_2005_26', 'df_2005_27', 'df_2005_28', 'df_2005_29', 'df_2005_30', 'df_2005_31', 'df_2006_00', 'df_2006_01', 'df_2006_02', 'df_2006_03', 'df_2006_04', 'df_2006_05', 'df_2006_06', 'df_2006_07', 'df_2006_08', 'df_2006_09', 'df_2006_10', 'df_2006_11', 'df_2006_12', 'df_2006_13', 'df_2006_14', 'df_2006_15', 'df_2006_16', 'df_2006_17', 'df_2006_18', 'df_2006_19', 'df_2006_20', 'df_2006_21', 'df_2006_22', 'df_2006_23', 'df_2006_24', 'df_2006_25', 'df_2006_26', 'df_2006_27', 'df_2006_28', 'df_2006_29', 'df_2006_30', 'df_2006_31', 'df_2007_00', 'df_2007_01', 'df_2007_02', 'df_2007_03', 'df_2007_04', 'df_2007_05', 'df_2007_06', 'df_2007_07', 'df_2007_08', 'df_2007_09', 'df_2007_10', 'df_2007_11', 'df_2007_12', 'df_2007_13', 'df_2007_14', 'df_2007_15', 'df_2007_16', 'df_2007_17', 'df_2007_18', 'df_2007_19', 'df_2007_20', 'df_2007_21', 'df_2007_22', 'df_2007_23', 'df_2007_24', 'df_2007_25', 'df_2007_26', 'df_2007_27', 'df_2007_28', 'df_2007_29', 'df_2007_30', 'df_2007_31', 'df_2008_00', 'df_2008_01', 'df_2008_02', 'df_2008_03', 'df_2008_04', 'df_2008_05', 'df_2008_06', 'df_2008_07', 'df_2008_08', 'df_2008_09', 'df_2008_10', 'df_2008_11', 'df_2008_12', 'df_2008_13', 'df_2008_14', 'df_2008_15', 'df_2008_16', 'df_2008_17', 'df_2008_18', 'df_2008_19', 'df_2008_20', 'df_2008_21', 'df_2008_22', 'df_2008_23', 'df_2008_24', 'df_2008_25', 'df_2008_26', 'df_2008_27', 'df_2008_28', 'df_2008_29', 'df_2008_30', 'df_2008_31', 'df_2009_00', 'df_2009_01', 'df_2009_02', 'df_2009_03', 'df_2009_04', 'df_2009_05', 'df_2009_06', 'df_2009_07', 'df_2009_08', 'df_2009_09', 'df_2009_10', 'df_2009_11', 'df_2009_12', 'df_2009_13', 'df_2009_14', 'df_2009_15', 'df_2009_16', 'df_2009_17', 'df_2009_18', 'df_2009_19', 'df_2009_20', 'df_2009_21', 'df_2009_22', 'df_2009_23', 'df_2009_24', 'df_2009_25', 'df_2009_26', 'df_2009_27', 'df_2009_28', 'df_2009_29', 'df_2009_30', 'df_2009_31', 'df_2010_00', 'df_2010_01', 'df_2010_02', 'df_2010_03', 'df_2010_04', 'df_2010_05', 'df_2010_06', 'df_2010_07', 'df_2010_08', 'df_2010_09', 'df_2010_10', 'df_2010_11', 'df_2010_12', 'df_2010_13', 'df_2010_14', 'df_2010_15', 'df_2010_16', 'df_2010_17', 'df_2010_18', 'df_2010_19', 'df_2010_20', 'df_2010_21', 'df_2010_22', 'df_2010_23', 'df_2010_24', 'df_2010_25', 'df_2010_26', 'df_2010_27', 'df_2010_28', 'df_2010_29', 'df_2010_30', 'df_2010_31', 'df_2011_00', 'df_2011_01', 'df_2011_02', 'df_2011_03', 'df_2011_04', 'df_2011_05', 'df_2011_06', 'df_2011_07', 'df_2011_08', 'df_2011_09', 'df_2011_10', 'df_2011_11', 'df_2011_12', 'df_2011_13', 'df_2011_14', 'df_2011_15', 'df_2011_16', 'df_2011_17', 'df_2011_18', 'df_2011_19', 'df_2011_20', 'df_2011_21', 'df_2011_22', 'df_2011_23', 'df_2011_24', 'df_2011_25', 'df_2011_26', 'df_2011_27', 'df_2011_28', 'df_2011_29', 'df_2011_30', 'df_2011_31', 'df_2012_00', 'df_2012_01', 'df_2012_02', 'df_2012_03', 'df_2012_04', 'df_2012_05', 'df_2012_06', 'df_2012_07', 'df_2012_08', 'df_2012_09', 'df_2012_10', 'df_2012_11', 'df_2012_12', 'df_2012_13', 'df_2012_14', 'df_2012_15', 'df_2012_16', 'df_2012_17', 'df_2012_18', 'df_2012_19', 'df_2012_20', 'df_2012_21', 'df_2012_22', 'df_2012_23', 'df_2012_24', 'df_2012_25', 'df_2012_26', 'df_2012_27', 'df_2012_28', 'df_2012_29', 'df_2012_30', 'df_2012_31', 'df_2013_00', 'df_2013_01', 'df_2013_02', 'df_2013_03', 'df_2013_04', 'df_2013_05', 'df_2013_06', 'df_2013_07', 'df_2013_08', 'df_2013_09', 'df_2013_10', 'df_2013_11', 'df_2013_12', 'df_2013_13', 'df_2013_14', 'df_2013_15', 'df_2013_16', 'df_2013_17', 'df_2013_18', 'df_2013_19', 'df_2013_20', 'df_2013_21', 'df_2013_22', 'df_2013_23', 'df_2013_24', 'df_2013_25', 'df_2013_26', 'df_2013_27', 'df_2013_28', 'df_2013_29', 'df_2013_30', 'df_2013_31', 'df_2014_00', 'df_2014_01', 'df_2014_02', 'df_2014_03', 'df_2014_04', 'df_2014_05', 'df_2014_06', 'df_2014_07', 'df_2014_08', 'df_2014_09', 'df_2014_10', 'df_2014_11', 'df_2014_12', 'df_2014_13', 'df_2014_14', 'df_2014_15', 'df_2014_16', 'df_2014_17', 'df_2014_18', 'df_2014_19', 'df_2014_20', 'df_2014_21', 'df_2014_22', 'df_2014_23', 'df_2014_24', 'df_2014_25', 'df_2014_26', 'df_2014_27', 'df_2014_28', 'df_2014_29', 'df_2014_30', 'df_2014_31', 'df_2015_00', 'df_2015_01', 'df_2015_02', 'df_2015_03', 'df_2015_04', 'df_2015_05', 'df_2015_06', 'df_2015_07', 'df_2015_08', 'df_2015_09', 'df_2015_10', 'df_2015_11', 'df_2015_12', 'df_2015_13', 'df_2015_14', 'df_2015_15', 'df_2015_16', 'df_2015_17', 'df_2015_18', 'df_2015_19', 'df_2015_20', 'df_2015_21', 'df_2015_22', 'df_2015_23', 'df_2015_24', 'df_2015_25', 'df_2015_26', 'df_2015_27', 'df_2015_28', 'df_2015_29', 'df_2015_30', 'df_2015_31', 'df_2016_00', 'df_2016_01', 'df_2016_02', 'df_2016_03', 'df_2016_04', 'df_2016_05', 'df_2016_06', 'df_2016_07', 'df_2016_08', 'df_2016_09', 'df_2016_10', 'df_2016_11', 'df_2016_12', 'df_2016_13', 'df_2016_14', 'df_2016_15', 'df_2016_16', 'df_2016_17', 'df_2016_18', 'df_2016_19', 'df_2016_20', 'df_2016_21', 'df_2016_22', 'df_2016_23', 'df_2016_24', 'df_2016_25', 'df_2016_26', 'df_2016_27', 'df_2016_28', 'df_2016_29', 'df_2016_30', 'df_2016_31', 'df_2017_00', 'df_2017_01', 'df_2017_02', 'df_2017_03', 'df_2017_04', 'df_2017_05', 'df_2017_06', 'df_2017_07', 'df_2017_08', 'df_2017_09', 'df_2017_10', 'df_2017_11', 'df_2017_12', 'df_2017_13', 'df_2017_14', 'df_2017_15', 'df_2017_16', 'df_2017_17', 'df_2017_18', 'df_2017_19', 'df_2017_20', 'df_2017_21', 'df_2017_22', 'df_2017_23', 'df_2017_24', 'df_2017_25', 'df_2017_26', 'df_2017_27', 'df_2017_28', 'df_2017_29', 'df_2017_30', 'df_2017_31'])"
      ]
     },
     "execution_count": 351,
     "metadata": {},
     "output_type": "execute_result"
    }
   ],
   "source": [
    "df_dict.keys()"
   ]
  },
  {
   "cell_type": "code",
   "execution_count": 352,
   "metadata": {
    "ExecuteTime": {
     "end_time": "2018-08-28T20:38:28.743301Z",
     "start_time": "2018-08-28T20:38:22.418153Z"
    }
   },
   "outputs": [],
   "source": [
    "# df_dict2 = df_dict.copy()\n",
    "df_teams = pd.concat(df_dict.values(), ignore_index=True)\n",
    "df_teams.to_feather(f'{PATH}df_teams_1966_2017.feather')"
   ]
  },
  {
   "cell_type": "code",
   "execution_count": 330,
   "metadata": {
    "ExecuteTime": {
     "end_time": "2018-08-28T19:32:55.543865Z",
     "start_time": "2018-08-28T19:32:55.535410Z"
    }
   },
   "outputs": [
    {
     "data": {
      "text/plain": [
       "(9002, 26)"
      ]
     },
     "execution_count": 330,
     "metadata": {},
     "output_type": "execute_result"
    }
   ],
   "source": [
    "df_some.shape"
   ]
  },
  {
   "cell_type": "code",
   "execution_count": 344,
   "metadata": {
    "ExecuteTime": {
     "end_time": "2018-08-28T19:51:15.501065Z",
     "start_time": "2018-08-28T19:51:15.487979Z"
    }
   },
   "outputs": [
    {
     "data": {
      "text/plain": [
       "(1992, 0)"
      ]
     },
     "execution_count": 344,
     "metadata": {},
     "output_type": "execute_result"
    }
   ],
   "source": [
    "year, x"
   ]
  },
  {
   "cell_type": "code",
   "execution_count": 350,
   "metadata": {
    "ExecuteTime": {
     "end_time": "2018-08-28T20:33:23.886356Z",
     "start_time": "2018-08-28T19:53:26.271016Z"
    }
   },
   "outputs": [],
   "source": [
    "# df_dict = {}\n",
    "for year in range(1992,2018):\n",
    "    year_pg_url = os.path.join(year_pg_tmplt,str(year))\n",
    "    year_pg = urllib.request.urlopen(year_pg_url)\n",
    "    soup_year = BeautifulSoup(year_pg, 'html.parser')\n",
    "    if year < 1970:\n",
    "        teams = soup_year.find(\"table\", {'id':'NFL'}).find_all('a')\n",
    "    else:\n",
    "        teams = soup_year.find(\"table\", {'id':'AFC'}).find_all('a') + soup_year.find(\"table\", {'id':'NFC'}).find_all('a')\n",
    "    for x in range(len(teams)):\n",
    "        df_dict['df_'+ str(year) + '_' + str(x).zfill(2)] = extract_from_year(base_pg, soup_year, teams, x) \n",
    "        time.sleep(1)\n",
    "df_all = pd.concat(df_dict.values(), ignore_index=True)"
   ]
  },
  {
   "cell_type": "code",
   "execution_count": 263,
   "metadata": {
    "ExecuteTime": {
     "end_time": "2018-08-28T18:05:46.921115Z",
     "start_time": "2018-08-28T18:05:46.906022Z"
    }
   },
   "outputs": [],
   "source": [
    "def extract_from_year(base_pg, soup_year, teams, team_number):\n",
    "    team_pg_url = base_pg + teams[team_number].get('href')\n",
    "    team_pg = urllib.request.urlopen(team_pg_url)\n",
    "    soup_team = BeautifulSoup(team_pg, 'lxml')\n",
    "    game_data = extract_from_team(soup_team)\n",
    "    df = pd.DataFrame.from_dict(game_data)\n",
    "    return df"
   ]
  },
  {
   "cell_type": "code",
   "execution_count": 323,
   "metadata": {
    "ExecuteTime": {
     "end_time": "2018-08-28T18:52:55.031658Z",
     "start_time": "2018-08-28T18:52:55.018417Z"
    }
   },
   "outputs": [],
   "source": [
    "def extract_from_team(soup_team):\n",
    "    game_data = {}\n",
    "    comments=soup_team.find_all(string=lambda text:isinstance(text,Comment))\n",
    "    game_data, game_sz = results(game_data, soup_team)\n",
    "    game_data = kicks(game_data,comments, game_sz)\n",
    "    game_data = fumbl(game_data,comments, game_sz)\n",
    "    game_data = other_td(game_data,comments, game_sz)\n",
    "    game_data = blocked_punts(game_data,comments, game_sz)\n",
    "    return game_data"
   ]
  },
  {
   "cell_type": "markdown",
   "metadata": {},
   "source": [
    "## Game results"
   ]
  },
  {
   "cell_type": "code",
   "execution_count": 60,
   "metadata": {
    "ExecuteTime": {
     "end_time": "2018-08-28T13:16:40.239691Z",
     "start_time": "2018-08-28T13:16:40.226468Z"
    }
   },
   "outputs": [],
   "source": [
    "table = soup_team.find('table', {'id':'games'})\n",
    "table_rows = table.find_all('tr')"
   ]
  },
  {
   "cell_type": "code",
   "execution_count": 272,
   "metadata": {
    "ExecuteTime": {
     "end_time": "2018-08-28T18:09:29.135809Z",
     "start_time": "2018-08-28T18:09:29.122351Z"
    }
   },
   "outputs": [
    {
     "data": {
      "text/plain": [
       "['\\n',\n",
       " <span>1966</span>,\n",
       " '\\n',\n",
       " <span>Dallas Cowboys</span>,\n",
       " '\\n',\n",
       " <span class=\"header_end\">Statistics &amp; Players</span>,\n",
       " '\\n']"
      ]
     },
     "execution_count": 272,
     "metadata": {},
     "output_type": "execute_result"
    }
   ],
   "source": [
    "base_info"
   ]
  },
  {
   "cell_type": "code",
   "execution_count": 349,
   "metadata": {
    "ExecuteTime": {
     "end_time": "2018-08-28T19:53:17.937995Z",
     "start_time": "2018-08-28T19:53:17.924223Z"
    }
   },
   "outputs": [],
   "source": [
    "def results(game_data, soup_team):\n",
    "    table = soup_team.find('table', {'id':'games'})\n",
    "    table_rows = table.find_all('tr')\n",
    "    game_date = []\n",
    "    skip_idx = -999\n",
    "    for idx, val in enumerate(table.find_all('td',{'data-stat':'game_date'})):\n",
    "        if val.string=='Playoffs':\n",
    "            break\n",
    "        try:\n",
    "            game_date.append(val['csk'])\n",
    "        except:\n",
    "            skip_idx = idx\n",
    "            pass\n",
    "    game_data['game_date'] = game_date\n",
    "    game_sz = len(game_date)\n",
    "    if skip_idx > 0:\n",
    "        game_sz_games = game_sz + 1\n",
    "    else:\n",
    "        game_sz_games = game_sz\n",
    "\n",
    "\n",
    "    var_list = ['opp','pts_off','pts_def','first_down_off','yards_off','pass_yds_off','rush_yds_off','to_off','first_down_def','yards_def','pass_yds_def','rush_yds_def','to_def']\n",
    "    num_set = {'pts_off','pts_def','first_down_off','yards_off','pass_yds_off','rush_yds_off','to_off','first_down_def','yards_def','pass_yds_def','rush_yds_def','to_def'}\n",
    "    for var_name in var_list:\n",
    "        var_val_list = []\n",
    "        for idx,val in enumerate(table.find_all('td',{'data-stat':var_name})[:game_sz_games]):\n",
    "            if idx != skip_idx:\n",
    "                if val.string is None:\n",
    "                    var_val_list.append(0)\n",
    "                elif var_name in num_set:\n",
    "                    var_val_list.append(int(val.string))\n",
    "                else:\n",
    "                    var_val_list.append(val.string)\n",
    "        game_data[var_name] = var_val_list\n",
    "    \n",
    "    team_name = soup_team.find('h1', {'itemprop':'name'})\n",
    "    base_info = [x for x in team_name.children]\n",
    "    game_data['team'] = [base_info[3].string]*game_sz\n",
    "    game_data['Year'] = [int(base_info[1].string)]*game_sz\n",
    "    return game_data, game_sz"
   ]
  },
  {
   "cell_type": "markdown",
   "metadata": {
    "heading_collapsed": true
   },
   "source": [
    "## Kicks and punts"
   ]
  },
  {
   "cell_type": "code",
   "execution_count": 171,
   "metadata": {
    "ExecuteTime": {
     "end_time": "2018-08-28T17:07:55.846063Z",
     "start_time": "2018-08-28T17:07:55.820900Z"
    },
    "hidden": true
   },
   "outputs": [],
   "source": [
    "comments=soup_team.find_all(string=lambda text:isinstance(text,Comment))"
   ]
  },
  {
   "cell_type": "code",
   "execution_count": 321,
   "metadata": {
    "ExecuteTime": {
     "end_time": "2018-08-28T18:52:13.840831Z",
     "start_time": "2018-08-28T18:52:13.832631Z"
    },
    "hidden": true
   },
   "outputs": [],
   "source": [
    "def kicks(game_data,comments,game_sz):       \n",
    "    for v in comments:\n",
    "        if v.find('div_returns') > -1:\n",
    "            table = BeautifulSoup(str(v), 'lxml')\n",
    "            break\n",
    "    for x in table.find('td',text='Team Total').next_siblings:\n",
    "        if x['data-stat'] == 'punt_ret_td':\n",
    "            if x.string is None:\n",
    "                game_data['punt_ret_td'] = [0]*game_sz\n",
    "            else:\n",
    "                game_data['punt_ret_td'] = [int(x.string)/game_sz]*game_sz\n",
    "        if x['data-stat'] == 'kick_ret_td':\n",
    "            if x.string is None:\n",
    "                game_data['kick_ret_td'] = [0]*game_sz\n",
    "            else:\n",
    "                game_data['kick_ret_td'] = [int(x.string)/game_sz]*game_sz\n",
    "    return game_data"
   ]
  },
  {
   "cell_type": "markdown",
   "metadata": {
    "heading_collapsed": true
   },
   "source": [
    "## Fumbles and sacks"
   ]
  },
  {
   "cell_type": "code",
   "execution_count": 320,
   "metadata": {
    "ExecuteTime": {
     "end_time": "2018-08-28T18:52:10.997309Z",
     "start_time": "2018-08-28T18:52:10.989822Z"
    },
    "hidden": true
   },
   "outputs": [],
   "source": [
    "def fumbl(game_data,comments,game_sz):   \n",
    "    for v in comments:\n",
    "        if v.find('div_defense') > -1:\n",
    "            table = BeautifulSoup(str(v), 'lxml')\n",
    "            break\n",
    "    tst_dict = {}\n",
    "    fumbl_set = {'sacks','fumbles_rec_td','safety_md','fumbles_rec','def_int'}\n",
    "    for x in table.find('td',text='Team Total').next_siblings:\n",
    "        if x['data-stat'] in fumbl_set:\n",
    "            if x.string is None:\n",
    "                game_data[x['data-stat']] = [0]*game_sz\n",
    "            else:\n",
    "                game_data[x['data-stat']] = [int(x.string)/game_sz]*game_sz\n",
    "    return game_data"
   ]
  },
  {
   "cell_type": "markdown",
   "metadata": {
    "ExecuteTime": {
     "end_time": "2018-08-28T17:29:01.279286Z",
     "start_time": "2018-08-28T17:29:01.270340Z"
    },
    "heading_collapsed": true
   },
   "source": [
    "## Other TDs"
   ]
  },
  {
   "cell_type": "code",
   "execution_count": 319,
   "metadata": {
    "ExecuteTime": {
     "end_time": "2018-08-28T18:52:07.164246Z",
     "start_time": "2018-08-28T18:52:07.156348Z"
    },
    "hidden": true
   },
   "outputs": [],
   "source": [
    "def other_td(game_data,comments,game_sz):\n",
    "    for v in comments:\n",
    "        if v.find('div_scoring') > -1:\n",
    "            table = BeautifulSoup(str(v), 'lxml')\n",
    "            break\n",
    "    tst_dict = {}\n",
    "    other_set = {'ditd','otd'}\n",
    "    other_dict = {'ditd':'int_td','otd':'blocked_fg_td'}\n",
    "    for x in table.find('td',text='Team Total').next_siblings:\n",
    "        if x['data-stat'] in other_set:\n",
    "            if x.string is None:\n",
    "                game_data[other_dict[x['data-stat']]] = [0]*game_sz\n",
    "            else:\n",
    "                game_data[other_dict[x['data-stat']]] = [int(x.string)/game_sz]*game_sz\n",
    "    return game_data"
   ]
  },
  {
   "cell_type": "markdown",
   "metadata": {
    "heading_collapsed": true
   },
   "source": [
    "## Blocked punts"
   ]
  },
  {
   "cell_type": "code",
   "execution_count": 318,
   "metadata": {
    "ExecuteTime": {
     "end_time": "2018-08-28T18:52:04.523349Z",
     "start_time": "2018-08-28T18:52:04.514867Z"
    },
    "hidden": true
   },
   "outputs": [],
   "source": [
    "def blocked_punts(game_data,comments,game_sz):\n",
    "    for v in comments:\n",
    "        if v.find('div_kicking') > -1:\n",
    "            table = BeautifulSoup(str(v), 'lxml')\n",
    "            break\n",
    "    tst_dict = {}\n",
    "    blocked_set = {'punt_blocked'}\n",
    "    for x in table.find('td',text='Opp Total').next_siblings:\n",
    "        if x['data-stat'] in blocked_set:\n",
    "            if x.string is None:\n",
    "                game_data[x['data-stat']] = [0]*game_sz\n",
    "            else:\n",
    "                game_data[x['data-stat']] = [int(x.string)/game_sz]*game_sz\n",
    "    return game_data"
   ]
  },
  {
   "cell_type": "markdown",
   "metadata": {
    "heading_collapsed": true
   },
   "source": [
    "# DataFrame"
   ]
  },
  {
   "cell_type": "code",
   "execution_count": 219,
   "metadata": {
    "ExecuteTime": {
     "end_time": "2018-08-28T17:41:42.256758Z",
     "start_time": "2018-08-28T17:41:42.193789Z"
    },
    "hidden": true
   },
   "outputs": [
    {
     "data": {
      "text/html": [
       "<div>\n",
       "<style scoped>\n",
       "    .dataframe tbody tr th:only-of-type {\n",
       "        vertical-align: middle;\n",
       "    }\n",
       "\n",
       "    .dataframe tbody tr th {\n",
       "        vertical-align: top;\n",
       "    }\n",
       "\n",
       "    .dataframe thead th {\n",
       "        text-align: right;\n",
       "    }\n",
       "</style>\n",
       "<table border=\"1\" class=\"dataframe\">\n",
       "  <thead>\n",
       "    <tr style=\"text-align: right;\">\n",
       "      <th></th>\n",
       "      <th>Year</th>\n",
       "      <th>blocked_fg_td</th>\n",
       "      <th>def_int</th>\n",
       "      <th>first_down_def</th>\n",
       "      <th>first_down_off</th>\n",
       "      <th>fumbles_rec</th>\n",
       "      <th>fumbles_rec_td</th>\n",
       "      <th>game_date</th>\n",
       "      <th>int_td</th>\n",
       "      <th>kick_ret_td</th>\n",
       "      <th>...</th>\n",
       "      <th>punt_ret_td</th>\n",
       "      <th>rush_yds_def</th>\n",
       "      <th>rush_yds_off</th>\n",
       "      <th>sacks</th>\n",
       "      <th>safety_md</th>\n",
       "      <th>team</th>\n",
       "      <th>to_def</th>\n",
       "      <th>to_off</th>\n",
       "      <th>yards_def</th>\n",
       "      <th>yards_off</th>\n",
       "    </tr>\n",
       "  </thead>\n",
       "  <tbody>\n",
       "    <tr>\n",
       "      <th>0</th>\n",
       "      <td>1966</td>\n",
       "      <td>0</td>\n",
       "      <td>1.214286</td>\n",
       "      <td>18</td>\n",
       "      <td>24</td>\n",
       "      <td>1.928571</td>\n",
       "      <td>0.071429</td>\n",
       "      <td>1966-09-18</td>\n",
       "      <td>0.214286</td>\n",
       "      <td>0.071429</td>\n",
       "      <td>...</td>\n",
       "      <td>0.0</td>\n",
       "      <td>137</td>\n",
       "      <td>144</td>\n",
       "      <td>4.285714</td>\n",
       "      <td>0.071429</td>\n",
       "      <td>Dallas Cowboys</td>\n",
       "      <td>4</td>\n",
       "      <td>1</td>\n",
       "      <td>257</td>\n",
       "      <td>518</td>\n",
       "    </tr>\n",
       "    <tr>\n",
       "      <th>1</th>\n",
       "      <td>1966</td>\n",
       "      <td>0</td>\n",
       "      <td>1.214286</td>\n",
       "      <td>25</td>\n",
       "      <td>18</td>\n",
       "      <td>1.928571</td>\n",
       "      <td>0.071429</td>\n",
       "      <td>1966-09-25</td>\n",
       "      <td>0.214286</td>\n",
       "      <td>0.071429</td>\n",
       "      <td>...</td>\n",
       "      <td>0.0</td>\n",
       "      <td>142</td>\n",
       "      <td>148</td>\n",
       "      <td>4.285714</td>\n",
       "      <td>0.071429</td>\n",
       "      <td>Dallas Cowboys</td>\n",
       "      <td>1</td>\n",
       "      <td>0</td>\n",
       "      <td>389</td>\n",
       "      <td>314</td>\n",
       "    </tr>\n",
       "    <tr>\n",
       "      <th>2</th>\n",
       "      <td>1966</td>\n",
       "      <td>0</td>\n",
       "      <td>1.214286</td>\n",
       "      <td>20</td>\n",
       "      <td>22</td>\n",
       "      <td>1.928571</td>\n",
       "      <td>0.071429</td>\n",
       "      <td>1966-10-02</td>\n",
       "      <td>0.214286</td>\n",
       "      <td>0.071429</td>\n",
       "      <td>...</td>\n",
       "      <td>0.0</td>\n",
       "      <td>106</td>\n",
       "      <td>143</td>\n",
       "      <td>4.285714</td>\n",
       "      <td>0.071429</td>\n",
       "      <td>Dallas Cowboys</td>\n",
       "      <td>5</td>\n",
       "      <td>2</td>\n",
       "      <td>276</td>\n",
       "      <td>363</td>\n",
       "    </tr>\n",
       "    <tr>\n",
       "      <th>3</th>\n",
       "      <td>1966</td>\n",
       "      <td>0</td>\n",
       "      <td>1.214286</td>\n",
       "      <td>11</td>\n",
       "      <td>32</td>\n",
       "      <td>1.928571</td>\n",
       "      <td>0.071429</td>\n",
       "      <td>1966-10-09</td>\n",
       "      <td>0.214286</td>\n",
       "      <td>0.071429</td>\n",
       "      <td>...</td>\n",
       "      <td>0.0</td>\n",
       "      <td>38</td>\n",
       "      <td>212</td>\n",
       "      <td>4.285714</td>\n",
       "      <td>0.071429</td>\n",
       "      <td>Dallas Cowboys</td>\n",
       "      <td>1</td>\n",
       "      <td>0</td>\n",
       "      <td>217</td>\n",
       "      <td>652</td>\n",
       "    </tr>\n",
       "    <tr>\n",
       "      <th>4</th>\n",
       "      <td>1966</td>\n",
       "      <td>0</td>\n",
       "      <td>1.214286</td>\n",
       "      <td>13</td>\n",
       "      <td>17</td>\n",
       "      <td>1.928571</td>\n",
       "      <td>0.071429</td>\n",
       "      <td>1966-10-16</td>\n",
       "      <td>0.214286</td>\n",
       "      <td>0.071429</td>\n",
       "      <td>...</td>\n",
       "      <td>0.0</td>\n",
       "      <td>45</td>\n",
       "      <td>135</td>\n",
       "      <td>4.285714</td>\n",
       "      <td>0.071429</td>\n",
       "      <td>Dallas Cowboys</td>\n",
       "      <td>0</td>\n",
       "      <td>4</td>\n",
       "      <td>175</td>\n",
       "      <td>326</td>\n",
       "    </tr>\n",
       "    <tr>\n",
       "      <th>5</th>\n",
       "      <td>1966</td>\n",
       "      <td>0</td>\n",
       "      <td>1.214286</td>\n",
       "      <td>17</td>\n",
       "      <td>30</td>\n",
       "      <td>1.928571</td>\n",
       "      <td>0.071429</td>\n",
       "      <td>1966-10-23</td>\n",
       "      <td>0.214286</td>\n",
       "      <td>0.071429</td>\n",
       "      <td>...</td>\n",
       "      <td>0.0</td>\n",
       "      <td>105</td>\n",
       "      <td>156</td>\n",
       "      <td>4.285714</td>\n",
       "      <td>0.071429</td>\n",
       "      <td>Dallas Cowboys</td>\n",
       "      <td>0</td>\n",
       "      <td>4</td>\n",
       "      <td>264</td>\n",
       "      <td>413</td>\n",
       "    </tr>\n",
       "    <tr>\n",
       "      <th>6</th>\n",
       "      <td>1966</td>\n",
       "      <td>0</td>\n",
       "      <td>1.214286</td>\n",
       "      <td>6</td>\n",
       "      <td>24</td>\n",
       "      <td>1.928571</td>\n",
       "      <td>0.071429</td>\n",
       "      <td>1966-10-30</td>\n",
       "      <td>0.214286</td>\n",
       "      <td>0.071429</td>\n",
       "      <td>...</td>\n",
       "      <td>0.0</td>\n",
       "      <td>7</td>\n",
       "      <td>192</td>\n",
       "      <td>4.285714</td>\n",
       "      <td>0.071429</td>\n",
       "      <td>Dallas Cowboys</td>\n",
       "      <td>4</td>\n",
       "      <td>3</td>\n",
       "      <td>119</td>\n",
       "      <td>425</td>\n",
       "    </tr>\n",
       "    <tr>\n",
       "      <th>7</th>\n",
       "      <td>1966</td>\n",
       "      <td>0</td>\n",
       "      <td>1.214286</td>\n",
       "      <td>5</td>\n",
       "      <td>16</td>\n",
       "      <td>1.928571</td>\n",
       "      <td>0.071429</td>\n",
       "      <td>1966-11-06</td>\n",
       "      <td>0.214286</td>\n",
       "      <td>0.071429</td>\n",
       "      <td>...</td>\n",
       "      <td>0.0</td>\n",
       "      <td>58</td>\n",
       "      <td>112</td>\n",
       "      <td>4.285714</td>\n",
       "      <td>0.071429</td>\n",
       "      <td>Dallas Cowboys</td>\n",
       "      <td>3</td>\n",
       "      <td>2</td>\n",
       "      <td>80</td>\n",
       "      <td>240</td>\n",
       "    </tr>\n",
       "    <tr>\n",
       "      <th>8</th>\n",
       "      <td>1966</td>\n",
       "      <td>0</td>\n",
       "      <td>1.214286</td>\n",
       "      <td>19</td>\n",
       "      <td>24</td>\n",
       "      <td>1.928571</td>\n",
       "      <td>0.071429</td>\n",
       "      <td>1966-11-13</td>\n",
       "      <td>0.214286</td>\n",
       "      <td>0.071429</td>\n",
       "      <td>...</td>\n",
       "      <td>0.0</td>\n",
       "      <td>23</td>\n",
       "      <td>132</td>\n",
       "      <td>4.285714</td>\n",
       "      <td>0.071429</td>\n",
       "      <td>Dallas Cowboys</td>\n",
       "      <td>0</td>\n",
       "      <td>3</td>\n",
       "      <td>341</td>\n",
       "      <td>515</td>\n",
       "    </tr>\n",
       "    <tr>\n",
       "      <th>9</th>\n",
       "      <td>1966</td>\n",
       "      <td>0</td>\n",
       "      <td>1.214286</td>\n",
       "      <td>16</td>\n",
       "      <td>16</td>\n",
       "      <td>1.928571</td>\n",
       "      <td>0.071429</td>\n",
       "      <td>1966-11-20</td>\n",
       "      <td>0.214286</td>\n",
       "      <td>0.071429</td>\n",
       "      <td>...</td>\n",
       "      <td>0.0</td>\n",
       "      <td>53</td>\n",
       "      <td>124</td>\n",
       "      <td>4.285714</td>\n",
       "      <td>0.071429</td>\n",
       "      <td>Dallas Cowboys</td>\n",
       "      <td>3</td>\n",
       "      <td>1</td>\n",
       "      <td>163</td>\n",
       "      <td>258</td>\n",
       "    </tr>\n",
       "    <tr>\n",
       "      <th>10</th>\n",
       "      <td>1966</td>\n",
       "      <td>0</td>\n",
       "      <td>1.214286</td>\n",
       "      <td>18</td>\n",
       "      <td>25</td>\n",
       "      <td>1.928571</td>\n",
       "      <td>0.071429</td>\n",
       "      <td>1966-11-24</td>\n",
       "      <td>0.214286</td>\n",
       "      <td>0.071429</td>\n",
       "      <td>...</td>\n",
       "      <td>0.0</td>\n",
       "      <td>157</td>\n",
       "      <td>173</td>\n",
       "      <td>4.285714</td>\n",
       "      <td>0.071429</td>\n",
       "      <td>Dallas Cowboys</td>\n",
       "      <td>1</td>\n",
       "      <td>0</td>\n",
       "      <td>321</td>\n",
       "      <td>304</td>\n",
       "    </tr>\n",
       "    <tr>\n",
       "      <th>11</th>\n",
       "      <td>1966</td>\n",
       "      <td>0</td>\n",
       "      <td>1.214286</td>\n",
       "      <td>21</td>\n",
       "      <td>11</td>\n",
       "      <td>1.928571</td>\n",
       "      <td>0.071429</td>\n",
       "      <td>1966-12-04</td>\n",
       "      <td>0.214286</td>\n",
       "      <td>0.071429</td>\n",
       "      <td>...</td>\n",
       "      <td>0.0</td>\n",
       "      <td>94</td>\n",
       "      <td>108</td>\n",
       "      <td>4.285714</td>\n",
       "      <td>0.071429</td>\n",
       "      <td>Dallas Cowboys</td>\n",
       "      <td>5</td>\n",
       "      <td>1</td>\n",
       "      <td>295</td>\n",
       "      <td>190</td>\n",
       "    </tr>\n",
       "    <tr>\n",
       "      <th>12</th>\n",
       "      <td>1966</td>\n",
       "      <td>0</td>\n",
       "      <td>1.214286</td>\n",
       "      <td>13</td>\n",
       "      <td>17</td>\n",
       "      <td>1.928571</td>\n",
       "      <td>0.071429</td>\n",
       "      <td>1966-12-11</td>\n",
       "      <td>0.214286</td>\n",
       "      <td>0.071429</td>\n",
       "      <td>...</td>\n",
       "      <td>0.0</td>\n",
       "      <td>104</td>\n",
       "      <td>241</td>\n",
       "      <td>4.285714</td>\n",
       "      <td>0.071429</td>\n",
       "      <td>Dallas Cowboys</td>\n",
       "      <td>2</td>\n",
       "      <td>1</td>\n",
       "      <td>399</td>\n",
       "      <td>370</td>\n",
       "    </tr>\n",
       "    <tr>\n",
       "      <th>13</th>\n",
       "      <td>1966</td>\n",
       "      <td>0</td>\n",
       "      <td>1.214286</td>\n",
       "      <td>19</td>\n",
       "      <td>11</td>\n",
       "      <td>1.928571</td>\n",
       "      <td>0.071429</td>\n",
       "      <td>1966-12-18</td>\n",
       "      <td>0.214286</td>\n",
       "      <td>0.071429</td>\n",
       "      <td>...</td>\n",
       "      <td>0.0</td>\n",
       "      <td>107</td>\n",
       "      <td>102</td>\n",
       "      <td>4.285714</td>\n",
       "      <td>0.071429</td>\n",
       "      <td>Dallas Cowboys</td>\n",
       "      <td>2</td>\n",
       "      <td>2</td>\n",
       "      <td>262</td>\n",
       "      <td>257</td>\n",
       "    </tr>\n",
       "  </tbody>\n",
       "</table>\n",
       "<p>14 rows × 26 columns</p>\n",
       "</div>"
      ],
      "text/plain": [
       "    Year  blocked_fg_td   def_int  first_down_def  first_down_off  \\\n",
       "0   1966              0  1.214286              18              24   \n",
       "1   1966              0  1.214286              25              18   \n",
       "2   1966              0  1.214286              20              22   \n",
       "3   1966              0  1.214286              11              32   \n",
       "4   1966              0  1.214286              13              17   \n",
       "5   1966              0  1.214286              17              30   \n",
       "6   1966              0  1.214286               6              24   \n",
       "7   1966              0  1.214286               5              16   \n",
       "8   1966              0  1.214286              19              24   \n",
       "9   1966              0  1.214286              16              16   \n",
       "10  1966              0  1.214286              18              25   \n",
       "11  1966              0  1.214286              21              11   \n",
       "12  1966              0  1.214286              13              17   \n",
       "13  1966              0  1.214286              19              11   \n",
       "\n",
       "    fumbles_rec  fumbles_rec_td   game_date    int_td  kick_ret_td    ...      \\\n",
       "0      1.928571        0.071429  1966-09-18  0.214286     0.071429    ...       \n",
       "1      1.928571        0.071429  1966-09-25  0.214286     0.071429    ...       \n",
       "2      1.928571        0.071429  1966-10-02  0.214286     0.071429    ...       \n",
       "3      1.928571        0.071429  1966-10-09  0.214286     0.071429    ...       \n",
       "4      1.928571        0.071429  1966-10-16  0.214286     0.071429    ...       \n",
       "5      1.928571        0.071429  1966-10-23  0.214286     0.071429    ...       \n",
       "6      1.928571        0.071429  1966-10-30  0.214286     0.071429    ...       \n",
       "7      1.928571        0.071429  1966-11-06  0.214286     0.071429    ...       \n",
       "8      1.928571        0.071429  1966-11-13  0.214286     0.071429    ...       \n",
       "9      1.928571        0.071429  1966-11-20  0.214286     0.071429    ...       \n",
       "10     1.928571        0.071429  1966-11-24  0.214286     0.071429    ...       \n",
       "11     1.928571        0.071429  1966-12-04  0.214286     0.071429    ...       \n",
       "12     1.928571        0.071429  1966-12-11  0.214286     0.071429    ...       \n",
       "13     1.928571        0.071429  1966-12-18  0.214286     0.071429    ...       \n",
       "\n",
       "   punt_ret_td  rush_yds_def  rush_yds_off     sacks  safety_md  \\\n",
       "0          0.0           137           144  4.285714   0.071429   \n",
       "1          0.0           142           148  4.285714   0.071429   \n",
       "2          0.0           106           143  4.285714   0.071429   \n",
       "3          0.0            38           212  4.285714   0.071429   \n",
       "4          0.0            45           135  4.285714   0.071429   \n",
       "5          0.0           105           156  4.285714   0.071429   \n",
       "6          0.0             7           192  4.285714   0.071429   \n",
       "7          0.0            58           112  4.285714   0.071429   \n",
       "8          0.0            23           132  4.285714   0.071429   \n",
       "9          0.0            53           124  4.285714   0.071429   \n",
       "10         0.0           157           173  4.285714   0.071429   \n",
       "11         0.0            94           108  4.285714   0.071429   \n",
       "12         0.0           104           241  4.285714   0.071429   \n",
       "13         0.0           107           102  4.285714   0.071429   \n",
       "\n",
       "              team  to_def  to_off  yards_def  yards_off  \n",
       "0   Dallas Cowboys       4       1        257        518  \n",
       "1   Dallas Cowboys       1       0        389        314  \n",
       "2   Dallas Cowboys       5       2        276        363  \n",
       "3   Dallas Cowboys       1       0        217        652  \n",
       "4   Dallas Cowboys       0       4        175        326  \n",
       "5   Dallas Cowboys       0       4        264        413  \n",
       "6   Dallas Cowboys       4       3        119        425  \n",
       "7   Dallas Cowboys       3       2         80        240  \n",
       "8   Dallas Cowboys       0       3        341        515  \n",
       "9   Dallas Cowboys       3       1        163        258  \n",
       "10  Dallas Cowboys       1       0        321        304  \n",
       "11  Dallas Cowboys       5       1        295        190  \n",
       "12  Dallas Cowboys       2       1        399        370  \n",
       "13  Dallas Cowboys       2       2        262        257  \n",
       "\n",
       "[14 rows x 26 columns]"
      ]
     },
     "execution_count": 219,
     "metadata": {},
     "output_type": "execute_result"
    }
   ],
   "source": [
    "df = pd.DataFrame.from_dict(game_data)\n",
    "df"
   ]
  }
 ],
 "metadata": {
  "kernelspec": {
   "display_name": "Python 3",
   "language": "python",
   "name": "python3"
  },
  "language_info": {
   "codemirror_mode": {
    "name": "ipython",
    "version": 3
   },
   "file_extension": ".py",
   "mimetype": "text/x-python",
   "name": "python",
   "nbconvert_exporter": "python",
   "pygments_lexer": "ipython3",
   "version": "3.6.4"
  }
 },
 "nbformat": 4,
 "nbformat_minor": 2
}
