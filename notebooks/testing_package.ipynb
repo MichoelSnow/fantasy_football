{
 "cells": [
  {
   "cell_type": "code",
   "execution_count": 1,
   "metadata": {
    "ExecuteTime": {
     "end_time": "2018-09-19T19:32:05.599994Z",
     "start_time": "2018-09-19T19:32:05.593324Z"
    }
   },
   "outputs": [],
   "source": [
    "import sys\n",
    "sys.path.append('/home/msnow/git/fantasy_football/src/data/')"
   ]
  },
  {
   "cell_type": "code",
   "execution_count": 2,
   "metadata": {
    "ExecuteTime": {
     "end_time": "2018-09-19T19:32:06.253619Z",
     "start_time": "2018-09-19T19:32:06.224233Z"
    }
   },
   "outputs": [],
   "source": [
    "%load_ext autoreload\n",
    "%autoreload 2"
   ]
  },
  {
   "cell_type": "markdown",
   "metadata": {},
   "source": [
    "# Testing game_data.py"
   ]
  },
  {
   "cell_type": "code",
   "execution_count": 3,
   "metadata": {
    "ExecuteTime": {
     "end_time": "2018-09-19T19:32:10.537252Z",
     "start_time": "2018-09-19T19:32:07.324873Z"
    }
   },
   "outputs": [],
   "source": [
    "from game_data import *"
   ]
  },
  {
   "cell_type": "code",
   "execution_count": 4,
   "metadata": {
    "ExecuteTime": {
     "end_time": "2018-09-19T19:32:17.310229Z",
     "start_time": "2018-09-19T19:32:10.541034Z"
    }
   },
   "outputs": [],
   "source": [
    "gurl = 'https://www.pro-football-reference.com//boxscores/201709070nwe.htm'\n",
    "gd = GameData(gurl, None)"
   ]
  },
  {
   "cell_type": "code",
   "execution_count": 6,
   "metadata": {
    "ExecuteTime": {
     "end_time": "2018-09-19T19:32:22.782824Z",
     "start_time": "2018-09-19T19:32:22.730513Z"
    },
    "scrolled": true
   },
   "outputs": [
    {
     "data": {
      "text/plain": [
       "{'home_team_pg': '/teams/nwe/2017.htm',\n",
       " 'home_team_id': 'nwe',\n",
       " 'home_team_name': 'New England Patriots',\n",
       " 'home_team_score': 27,\n",
       " 'home_team_coach_pg': '/coaches/BeliBi0.htm',\n",
       " 'home_team_coach_id': 'BeliBi0',\n",
       " 'home_team_coach_name': 'Bill Belichick',\n",
       " 'home_team_wins': 0,\n",
       " 'home_team_losses': 0,\n",
       " 'home_team_ties': 0,\n",
       " 'away_team_pg': '/teams/kan/2017.htm',\n",
       " 'away_team_id': 'kan',\n",
       " 'away_team_name': 'Kansas City Chiefs',\n",
       " 'away_team_score': 42,\n",
       " 'away_team_coach_pg': '/coaches/ReidAn0.htm',\n",
       " 'away_team_coach_id': 'ReidAn0',\n",
       " 'away_team_coach_name': 'Andy Reid',\n",
       " 'away_team_wins': 0,\n",
       " 'away_team_losses': 0,\n",
       " 'away_team_ties': 0,\n",
       " 'datetime': datetime.datetime(2017, 9, 7, 8, 30),\n",
       " 'stadium_pg': '/stadiums/BOS00.htm',\n",
       " 'stadium_name': 'Gillette Stadium',\n",
       " 'stadium_id': 'BOS00',\n",
       " 'game_id': '201709070nwe'}"
      ]
     },
     "execution_count": 6,
     "metadata": {},
     "output_type": "execute_result"
    }
   ],
   "source": [
    "scrbox_dict = gd.scorebox\n",
    "scrbox_dict"
   ]
  },
  {
   "cell_type": "code",
   "execution_count": 7,
   "metadata": {
    "ExecuteTime": {
     "end_time": "2018-09-19T19:32:29.099209Z",
     "start_time": "2018-09-19T19:32:29.046196Z"
    }
   },
   "outputs": [
    {
     "data": {
      "text/plain": [
       "[{'quarter': 1,\n",
       "  'game_id': '201709070nwe',\n",
       "  'sec_left_in_quarter': 728,\n",
       "  'sec_into_quarter': 172,\n",
       "  'sec_left_in_game': 3428,\n",
       "  'sec_into_game': 172,\n",
       "  'scoring_team_name': 'New England Patriots',\n",
       "  'scoring_team_id': 'nwe',\n",
       "  'scoring_team_loc': 'home',\n",
       "  'play_desc': 'Mike Gillislee 2 yard rush ( Stephen Gostkowski kick)',\n",
       "  'yards': 2,\n",
       "  'score_type': 'rush (',\n",
       "  'xp_success': 1,\n",
       "  'xp_kicker_id': 'GostSt20',\n",
       "  'xp_kicker_name': 'Stephen Gostkowski',\n",
       "  'xp_type': 'kick',\n",
       "  'kicker_id': -999,\n",
       "  'kicker_name': -999,\n",
       "  'pass_from_id': -999,\n",
       "  'pass_from_name': -999,\n",
       "  'rec_by_id': -999,\n",
       "  'rec_by_name': -999,\n",
       "  'rush_by_id': -999,\n",
       "  'rush_by_name': -999,\n",
       "  'xp_rec_by_name': -999,\n",
       "  'xp_rec_by_id': -999,\n",
       "  'xp_pass_from_id': -999,\n",
       "  'xp_pass_from_name': -999,\n",
       "  'away_team_score': 0,\n",
       "  'home_team_score': 7},\n",
       " {'quarter': 1,\n",
       "  'game_id': '201709070nwe',\n",
       "  'sec_left_in_quarter': 183,\n",
       "  'sec_into_quarter': 717,\n",
       "  'sec_left_in_game': 2883,\n",
       "  'sec_into_game': 717,\n",
       "  'scoring_team_name': 'Kansas City Chiefs',\n",
       "  'scoring_team_id': 'kan',\n",
       "  'scoring_team_loc': 'away',\n",
       "  'play_desc': 'Demetrius Harris 7 yard pass from Alex Smith ( Cairo Santos kick)',\n",
       "  'yards': 7,\n",
       "  'score_type': 'pass',\n",
       "  'pass_from_id': 'HarrDe03',\n",
       "  'pass_from_name': 'Demetrius Harris',\n",
       "  'rec_by_id': 'SmitAl03',\n",
       "  'rec_by_name': 'Alex Smith',\n",
       "  'xp_success': 1,\n",
       "  'xp_kicker_id': 'SantCa01',\n",
       "  'xp_kicker_name': 'Cairo Santos',\n",
       "  'xp_type': 'kick',\n",
       "  'kicker_id': -999,\n",
       "  'kicker_name': -999,\n",
       "  'rush_by_id': -999,\n",
       "  'rush_by_name': -999,\n",
       "  'xp_rec_by_name': -999,\n",
       "  'xp_rec_by_id': -999,\n",
       "  'xp_pass_from_id': -999,\n",
       "  'xp_pass_from_name': -999,\n",
       "  'away_team_score': 7,\n",
       "  'home_team_score': 7},\n",
       " {'quarter': 2,\n",
       "  'game_id': '201709070nwe',\n",
       "  'sec_left_in_quarter': 896,\n",
       "  'sec_into_quarter': 4,\n",
       "  'sec_left_in_game': 2696,\n",
       "  'sec_into_game': 904,\n",
       "  'scoring_team_name': 'New England Patriots',\n",
       "  'scoring_team_id': 'nwe',\n",
       "  'scoring_team_loc': 'home',\n",
       "  'play_desc': 'Stephen Gostkowski 25 yard field goal',\n",
       "  'yards': 25,\n",
       "  'score_type': 'field_goal',\n",
       "  'kicker_id': 'GostSt20',\n",
       "  'kicker_name': 'Stephen Gostkowski',\n",
       "  'xp_success': -1,\n",
       "  'pass_from_id': -999,\n",
       "  'pass_from_name': -999,\n",
       "  'rec_by_id': -999,\n",
       "  'rec_by_name': -999,\n",
       "  'rush_by_id': -999,\n",
       "  'rush_by_name': -999,\n",
       "  'xp_kicker_name': -999,\n",
       "  'xp_kicker_id': -999,\n",
       "  'xp_type': -999,\n",
       "  'xp_rec_by_name': -999,\n",
       "  'xp_rec_by_id': -999,\n",
       "  'xp_pass_from_id': -999,\n",
       "  'xp_pass_from_name': -999,\n",
       "  'away_team_score': 7,\n",
       "  'home_team_score': 10},\n",
       " {'quarter': 2,\n",
       "  'game_id': '201709070nwe',\n",
       "  'sec_left_in_quarter': 447,\n",
       "  'sec_into_quarter': 453,\n",
       "  'sec_left_in_game': 2247,\n",
       "  'sec_into_game': 1353,\n",
       "  'scoring_team_name': 'New England Patriots',\n",
       "  'scoring_team_id': 'nwe',\n",
       "  'scoring_team_loc': 'home',\n",
       "  'play_desc': 'Mike Gillislee 2 yard rush ( Stephen Gostkowski kick)',\n",
       "  'yards': 2,\n",
       "  'score_type': 'rush (',\n",
       "  'xp_success': 1,\n",
       "  'xp_kicker_id': 'GostSt20',\n",
       "  'xp_kicker_name': 'Stephen Gostkowski',\n",
       "  'xp_type': 'kick',\n",
       "  'kicker_id': -999,\n",
       "  'kicker_name': -999,\n",
       "  'pass_from_id': -999,\n",
       "  'pass_from_name': -999,\n",
       "  'rec_by_id': -999,\n",
       "  'rec_by_name': -999,\n",
       "  'rush_by_id': -999,\n",
       "  'rush_by_name': -999,\n",
       "  'xp_rec_by_name': -999,\n",
       "  'xp_rec_by_id': -999,\n",
       "  'xp_pass_from_id': -999,\n",
       "  'xp_pass_from_name': -999,\n",
       "  'away_team_score': 7,\n",
       "  'home_team_score': 17},\n",
       " {'quarter': 2,\n",
       "  'game_id': '201709070nwe',\n",
       "  'sec_left_in_quarter': 13,\n",
       "  'sec_into_quarter': 887,\n",
       "  'sec_left_in_game': 1813,\n",
       "  'sec_into_game': 1787,\n",
       "  'scoring_team_name': 'Kansas City Chiefs',\n",
       "  'scoring_team_id': 'kan',\n",
       "  'scoring_team_loc': 'away',\n",
       "  'play_desc': 'Kareem Hunt 3 yard pass from Alex Smith ( Cairo Santos kick)',\n",
       "  'yards': 3,\n",
       "  'score_type': 'pass',\n",
       "  'pass_from_id': 'HuntKa00',\n",
       "  'pass_from_name': 'Kareem Hunt',\n",
       "  'rec_by_id': 'SmitAl03',\n",
       "  'rec_by_name': 'Alex Smith',\n",
       "  'xp_success': 1,\n",
       "  'xp_kicker_id': 'SantCa01',\n",
       "  'xp_kicker_name': 'Cairo Santos',\n",
       "  'xp_type': 'kick',\n",
       "  'kicker_id': -999,\n",
       "  'kicker_name': -999,\n",
       "  'rush_by_id': -999,\n",
       "  'rush_by_name': -999,\n",
       "  'xp_rec_by_name': -999,\n",
       "  'xp_rec_by_id': -999,\n",
       "  'xp_pass_from_id': -999,\n",
       "  'xp_pass_from_name': -999,\n",
       "  'away_team_score': 14,\n",
       "  'home_team_score': 17},\n",
       " {'quarter': 3,\n",
       "  'game_id': '201709070nwe',\n",
       "  'sec_left_in_quarter': 559,\n",
       "  'sec_into_quarter': 341,\n",
       "  'sec_left_in_game': 1459,\n",
       "  'sec_into_game': 2141,\n",
       "  'scoring_team_name': 'Kansas City Chiefs',\n",
       "  'scoring_team_id': 'kan',\n",
       "  'scoring_team_loc': 'away',\n",
       "  'play_desc': 'Tyreek Hill 75 yard pass from Alex Smith ( Cairo Santos kick)',\n",
       "  'yards': 75,\n",
       "  'score_type': 'pass',\n",
       "  'pass_from_id': 'HillTy00',\n",
       "  'pass_from_name': 'Tyreek Hill',\n",
       "  'rec_by_id': 'SmitAl03',\n",
       "  'rec_by_name': 'Alex Smith',\n",
       "  'xp_success': 1,\n",
       "  'xp_kicker_id': 'SantCa01',\n",
       "  'xp_kicker_name': 'Cairo Santos',\n",
       "  'xp_type': 'kick',\n",
       "  'kicker_id': -999,\n",
       "  'kicker_name': -999,\n",
       "  'rush_by_id': -999,\n",
       "  'rush_by_name': -999,\n",
       "  'xp_rec_by_name': -999,\n",
       "  'xp_rec_by_id': -999,\n",
       "  'xp_pass_from_id': -999,\n",
       "  'xp_pass_from_name': -999,\n",
       "  'away_team_score': 21,\n",
       "  'home_team_score': 17},\n",
       " {'quarter': 3,\n",
       "  'game_id': '201709070nwe',\n",
       "  'sec_left_in_quarter': 301,\n",
       "  'sec_into_quarter': 599,\n",
       "  'sec_left_in_game': 1201,\n",
       "  'sec_into_game': 2399,\n",
       "  'scoring_team_name': 'New England Patriots',\n",
       "  'scoring_team_id': 'nwe',\n",
       "  'scoring_team_loc': 'home',\n",
       "  'play_desc': 'Mike Gillislee 1 yard rush ( Stephen Gostkowski kick)',\n",
       "  'yards': 1,\n",
       "  'score_type': 'rush (',\n",
       "  'xp_success': 1,\n",
       "  'xp_kicker_id': 'GostSt20',\n",
       "  'xp_kicker_name': 'Stephen Gostkowski',\n",
       "  'xp_type': 'kick',\n",
       "  'kicker_id': -999,\n",
       "  'kicker_name': -999,\n",
       "  'pass_from_id': -999,\n",
       "  'pass_from_name': -999,\n",
       "  'rec_by_id': -999,\n",
       "  'rec_by_name': -999,\n",
       "  'rush_by_id': -999,\n",
       "  'rush_by_name': -999,\n",
       "  'xp_rec_by_name': -999,\n",
       "  'xp_rec_by_id': -999,\n",
       "  'xp_pass_from_id': -999,\n",
       "  'xp_pass_from_name': -999,\n",
       "  'away_team_score': 21,\n",
       "  'home_team_score': 24},\n",
       " {'quarter': 3,\n",
       "  'game_id': '201709070nwe',\n",
       "  'sec_left_in_quarter': 9,\n",
       "  'sec_into_quarter': 891,\n",
       "  'sec_left_in_game': 909,\n",
       "  'sec_into_game': 2691,\n",
       "  'scoring_team_name': 'New England Patriots',\n",
       "  'scoring_team_id': 'nwe',\n",
       "  'scoring_team_loc': 'home',\n",
       "  'play_desc': 'Stephen Gostkowski 32 yard field goal',\n",
       "  'yards': 32,\n",
       "  'score_type': 'field_goal',\n",
       "  'kicker_id': 'GostSt20',\n",
       "  'kicker_name': 'Stephen Gostkowski',\n",
       "  'xp_success': -1,\n",
       "  'pass_from_id': -999,\n",
       "  'pass_from_name': -999,\n",
       "  'rec_by_id': -999,\n",
       "  'rec_by_name': -999,\n",
       "  'rush_by_id': -999,\n",
       "  'rush_by_name': -999,\n",
       "  'xp_kicker_name': -999,\n",
       "  'xp_kicker_id': -999,\n",
       "  'xp_type': -999,\n",
       "  'xp_rec_by_name': -999,\n",
       "  'xp_rec_by_id': -999,\n",
       "  'xp_pass_from_id': -999,\n",
       "  'xp_pass_from_name': -999,\n",
       "  'away_team_score': 21,\n",
       "  'home_team_score': 27},\n",
       " {'quarter': 4,\n",
       "  'game_id': '201709070nwe',\n",
       "  'sec_left_in_quarter': 847,\n",
       "  'sec_into_quarter': 53,\n",
       "  'sec_left_in_game': 847,\n",
       "  'sec_into_game': 2753,\n",
       "  'scoring_team_name': 'Kansas City Chiefs',\n",
       "  'scoring_team_id': 'kan',\n",
       "  'scoring_team_loc': 'away',\n",
       "  'play_desc': 'Kareem Hunt 78 yard pass from Alex Smith ( Cairo Santos kick)',\n",
       "  'yards': 78,\n",
       "  'score_type': 'pass',\n",
       "  'pass_from_id': 'HuntKa00',\n",
       "  'pass_from_name': 'Kareem Hunt',\n",
       "  'rec_by_id': 'SmitAl03',\n",
       "  'rec_by_name': 'Alex Smith',\n",
       "  'xp_success': 1,\n",
       "  'xp_kicker_id': 'SantCa01',\n",
       "  'xp_kicker_name': 'Cairo Santos',\n",
       "  'xp_type': 'kick',\n",
       "  'kicker_id': -999,\n",
       "  'kicker_name': -999,\n",
       "  'rush_by_id': -999,\n",
       "  'rush_by_name': -999,\n",
       "  'xp_rec_by_name': -999,\n",
       "  'xp_rec_by_id': -999,\n",
       "  'xp_pass_from_id': -999,\n",
       "  'xp_pass_from_name': -999,\n",
       "  'away_team_score': 28,\n",
       "  'home_team_score': 27},\n",
       " {'quarter': 4,\n",
       "  'game_id': '201709070nwe',\n",
       "  'sec_left_in_quarter': 314,\n",
       "  'sec_into_quarter': 586,\n",
       "  'sec_left_in_game': 314,\n",
       "  'sec_into_game': 3286,\n",
       "  'scoring_team_name': 'Kansas City Chiefs',\n",
       "  'scoring_team_id': 'kan',\n",
       "  'scoring_team_loc': 'away',\n",
       "  'play_desc': 'Kareem Hunt 4 yard rush ( Cairo Santos kick)',\n",
       "  'yards': 4,\n",
       "  'score_type': 'rush (',\n",
       "  'xp_success': 1,\n",
       "  'xp_kicker_id': 'SantCa01',\n",
       "  'xp_kicker_name': 'Cairo Santos',\n",
       "  'xp_type': 'kick',\n",
       "  'kicker_id': -999,\n",
       "  'kicker_name': -999,\n",
       "  'pass_from_id': -999,\n",
       "  'pass_from_name': -999,\n",
       "  'rec_by_id': -999,\n",
       "  'rec_by_name': -999,\n",
       "  'rush_by_id': -999,\n",
       "  'rush_by_name': -999,\n",
       "  'xp_rec_by_name': -999,\n",
       "  'xp_rec_by_id': -999,\n",
       "  'xp_pass_from_id': -999,\n",
       "  'xp_pass_from_name': -999,\n",
       "  'away_team_score': 35,\n",
       "  'home_team_score': 27},\n",
       " {'quarter': 4,\n",
       "  'game_id': '201709070nwe',\n",
       "  'sec_left_in_quarter': 240,\n",
       "  'sec_into_quarter': 660,\n",
       "  'sec_left_in_game': 240,\n",
       "  'sec_into_game': 3360,\n",
       "  'scoring_team_name': 'Kansas City Chiefs',\n",
       "  'scoring_team_id': 'kan',\n",
       "  'scoring_team_loc': 'away',\n",
       "  'play_desc': 'Charcandrick West 21 yard rush ( Cairo Santos kick)',\n",
       "  'yards': 21,\n",
       "  'score_type': 'rush (',\n",
       "  'xp_success': 1,\n",
       "  'xp_kicker_id': 'SantCa01',\n",
       "  'xp_kicker_name': 'Cairo Santos',\n",
       "  'xp_type': 'kick',\n",
       "  'kicker_id': -999,\n",
       "  'kicker_name': -999,\n",
       "  'pass_from_id': -999,\n",
       "  'pass_from_name': -999,\n",
       "  'rec_by_id': -999,\n",
       "  'rec_by_name': -999,\n",
       "  'rush_by_id': -999,\n",
       "  'rush_by_name': -999,\n",
       "  'xp_rec_by_name': -999,\n",
       "  'xp_rec_by_id': -999,\n",
       "  'xp_pass_from_id': -999,\n",
       "  'xp_pass_from_name': -999,\n",
       "  'away_team_score': 42,\n",
       "  'home_team_score': 27}]"
      ]
     },
     "execution_count": 7,
     "metadata": {},
     "output_type": "execute_result"
    }
   ],
   "source": [
    "scoring_list = gd.scoring()\n",
    "scoring_list"
   ]
  },
  {
   "cell_type": "code",
   "execution_count": 12,
   "metadata": {
    "ExecuteTime": {
     "end_time": "2018-09-19T19:31:04.221822Z",
     "start_time": "2018-09-19T19:31:04.183425Z"
    }
   },
   "outputs": [
    {
     "data": {
      "text/plain": [
       "<bound method GameData.scorebox of <game_data.GameData object at 0x7f09987b8d30>>"
      ]
     },
     "execution_count": 12,
     "metadata": {},
     "output_type": "execute_result"
    }
   ],
   "source": [
    "gd.scrbox_dict"
   ]
  },
  {
   "cell_type": "code",
   "execution_count": 11,
   "metadata": {
    "ExecuteTime": {
     "end_time": "2018-09-19T19:30:45.638605Z",
     "start_time": "2018-09-19T19:30:45.591921Z"
    }
   },
   "outputs": [
    {
     "data": {
      "text/plain": [
       "'201709070nwe'"
      ]
     },
     "execution_count": 11,
     "metadata": {},
     "output_type": "execute_result"
    }
   ],
   "source": [
    "gd.scrbox_dict()['game_id']"
   ]
  },
  {
   "cell_type": "code",
   "execution_count": 11,
   "metadata": {
    "ExecuteTime": {
     "end_time": "2018-09-19T20:08:23.468376Z",
     "start_time": "2018-09-19T20:08:23.425754Z"
    }
   },
   "outputs": [
    {
     "data": {
      "text/plain": [
       "True"
      ]
     },
     "execution_count": 11,
     "metadata": {},
     "output_type": "execute_result"
    }
   ],
   "source": [
    "aa = 'avbcdefs'\n",
    "5 > aa.find('bc') > -1"
   ]
  }
 ],
 "metadata": {
  "kernelspec": {
   "display_name": "Python 3",
   "language": "python",
   "name": "python3"
  },
  "language_info": {
   "codemirror_mode": {
    "name": "ipython",
    "version": 3
   },
   "file_extension": ".py",
   "mimetype": "text/x-python",
   "name": "python",
   "nbconvert_exporter": "python",
   "pygments_lexer": "ipython3",
   "version": "3.6.4"
  }
 },
 "nbformat": 4,
 "nbformat_minor": 2
}
