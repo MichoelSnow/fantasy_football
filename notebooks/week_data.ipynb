{
 "cells": [
  {
   "cell_type": "markdown",
   "metadata": {},
   "source": [
    "# Imports and Paths"
   ]
  },
  {
   "cell_type": "code",
   "execution_count": 29,
   "metadata": {
    "ExecuteTime": {
     "end_time": "2018-10-03T23:09:09.029081Z",
     "start_time": "2018-10-03T23:09:09.019581Z"
    }
   },
   "outputs": [],
   "source": [
    "from urllib import request\n",
    "from bs4 import BeautifulSoup, Comment, Tag\n",
    "import pandas as pd\n",
    "import re\n",
    "from datetime import datetime"
   ]
  },
  {
   "cell_type": "code",
   "execution_count": 108,
   "metadata": {
    "ExecuteTime": {
     "end_time": "2018-10-04T00:01:20.946848Z",
     "start_time": "2018-10-04T00:01:20.942317Z"
    }
   },
   "outputs": [],
   "source": [
    "PATH = '/home/msnow/git/fantasy_football/data/external/game_data/2017/'"
   ]
  },
  {
   "cell_type": "code",
   "execution_count": 107,
   "metadata": {
    "ExecuteTime": {
     "end_time": "2018-10-04T00:01:15.918864Z",
     "start_time": "2018-10-04T00:01:15.340584Z"
    }
   },
   "outputs": [],
   "source": [
    "bs_pg = 'https://www.pro-football-reference.com/years/'\n",
    "yr = 2017\n",
    "wk = 'week_2.htm'\n",
    "pg = request.urlopen(f'{bs_pg}{yr}/{wk}')\n",
    "soup = BeautifulSoup(pg, 'html.parser')\n",
    "with open(f\"{PATH}{wk}\", \"w\") as file:\n",
    "    file.write(str(soup))"
   ]
  },
  {
   "cell_type": "code",
   "execution_count": 114,
   "metadata": {
    "ExecuteTime": {
     "end_time": "2018-10-04T00:17:48.193823Z",
     "start_time": "2018-10-04T00:17:48.186827Z"
    }
   },
   "outputs": [
    {
     "data": {
      "text/plain": [
       "'https://www.pro-football-reference.com/years/2017/week_2.htm'"
      ]
     },
     "execution_count": 114,
     "metadata": {},
     "output_type": "execute_result"
    }
   ],
   "source": [
    "f'{bs_pg}{yr}/{wk}'\n"
   ]
  },
  {
   "cell_type": "code",
   "execution_count": 174,
   "metadata": {
    "ExecuteTime": {
     "end_time": "2018-10-04T02:07:02.582223Z",
     "start_time": "2018-10-04T02:07:02.504437Z"
    }
   },
   "outputs": [
    {
     "data": {
      "text/plain": [
       "{'pass_cmp': 'Passes completed',\n",
       " 'pass_att': 'Passes attempted',\n",
       " 'pass_yds': 'Yards Gained by Passing<br>For teams, sack yardage is deducted from this total',\n",
       " 'pass_td': 'Passing Touchdowns',\n",
       " 'pass_int': 'Interceptions thrown',\n",
       " 'pass_rating': 'Quarterback Rating, see glossary for details<br>Different ratings are used by the NFL and NCAA.<br />Minimum 1500 pass attempts to qualify as career leader, minimum 150 pass attempts for playoffs leader.',\n",
       " 'rec': 'Receptions',\n",
       " 'rec_yds': 'Receiving Yards',\n",
       " 'rec_td': 'Receiving Touchdowns',\n",
       " 'rush_att': 'Rushing Attempts (sacks not included in NFL)',\n",
       " 'rush_yds': 'Rushing Yards Gained (sack yardage is not included by NFL)',\n",
       " 'rush_td': 'Rushing Touchdowns',\n",
       " 'tackles_solo': 'Tackles<br>Before 1994: unofficial and inconsistently recorded from team to team. For amusement only.<br>1994-now: unofficial but consistently recorded.<br>',\n",
       " 'tackles_assists': 'Assists on tackles<br>Before 1994: combined with solo tackles<br>1994-now: unofficial, but consistently recorded<br>',\n",
       " 'def_int': 'Passes intercepted on defense',\n",
       " 'def_int_yds': 'Yards interceptions were returned',\n",
       " 'def_int_td': 'Interceptions returned for touchdowns',\n",
       " 'pass_defended': 'Passes defended by a defensive player',\n",
       " 'sacks': 'Sacks',\n",
       " 'fumbles_forced': 'Number of times forced a fumble by the opposition recovered by either team'}"
      ]
     },
     "execution_count": 174,
     "metadata": {},
     "output_type": "execute_result"
    }
   ],
   "source": [
    "comments = soup.find_all(string=lambda text: isinstance(text, Comment))\n",
    "table = BeautifulSoup(str(comments), 'lxml')\n",
    "th_rows = table.find_all('th')\n",
    "# th_rows = soup.find_all('th')\n",
    "tip_dict = {}\n",
    "for i in th_rows:\n",
    "    if 'data-tip' in i.attrs:\n",
    "        tip_dict[i['data-stat']] = i['data-tip']\n",
    "tip_dict"
   ]
  },
  {
   "cell_type": "code",
   "execution_count": 58,
   "metadata": {
    "ExecuteTime": {
     "end_time": "2018-10-03T23:18:23.420339Z",
     "start_time": "2018-10-03T23:18:23.373248Z"
    }
   },
   "outputs": [],
   "source": [
    "def name_extract(cell):\n",
    "    cell_id = re.findall('[^a-z]([a-z]{3})[^a-z]',cell['href'])[0]#.split('/')[-1].split('.')[0]\n",
    "    cell_name = cell.string\n",
    "    return cell_id, cell_name\n",
    "\n",
    "def id_name_add(cell, pbp_dict, id_name_str):\n",
    "    id_str, name_str = name_extract(cell)\n",
    "    pbp_dict[id_name_str + '_id'] = id_str\n",
    "    pbp_dict[id_name_str + '_name'] = name_str\n",
    "    return pbp_dict"
   ]
  },
  {
   "cell_type": "code",
   "execution_count": null,
   "metadata": {},
   "outputs": [],
   "source": []
  },
  {
   "cell_type": "code",
   "execution_count": null,
   "metadata": {},
   "outputs": [],
   "source": []
  },
  {
   "cell_type": "code",
   "execution_count": null,
   "metadata": {},
   "outputs": [],
   "source": []
  },
  {
   "cell_type": "code",
   "execution_count": null,
   "metadata": {},
   "outputs": [],
   "source": []
  },
  {
   "cell_type": "code",
   "execution_count": 110,
   "metadata": {
    "ExecuteTime": {
     "end_time": "2018-10-04T00:02:23.960806Z",
     "start_time": "2018-10-04T00:02:23.933976Z"
    }
   },
   "outputs": [],
   "source": [
    "div_val = soup.find('div', {'class':'game_summaries'})\n",
    "summ = div_val.find_all('div', {'class':'game_summary expanded nohover'})\n",
    "# comments = soup.find_all(string=lambda text: isinstance(text, Comment))\n",
    "# val2 = BeautifulSoup(str(comments), 'lxml')\n",
    "# table_rows = div_val.find_all('tr')"
   ]
  },
  {
   "cell_type": "code",
   "execution_count": 111,
   "metadata": {
    "ExecuteTime": {
     "end_time": "2018-10-04T00:02:25.647575Z",
     "start_time": "2018-10-04T00:02:25.603553Z"
    }
   },
   "outputs": [],
   "source": [
    "\n",
    "tmp_list = []\n",
    "for idx in range(15):\n",
    "    tmp_dict = {}\n",
    "    tmp_dict['date'] =  str(datetime.strptime(summ[idx].find('tr', {'class':'date'}).string, '%b %d, %Y').date())\n",
    "    tmp_dict['winning_team'] = summ[idx].find('tr', {'class':'winner'}).find('td').string\n",
    "    tmp_dict['winning_team_id'] = summ[idx].find('tr', {'class':'winner'}).find('td').a['href'].split('/')[-2]\n",
    "    tmp_dict['wining_team_score'] = summ[idx].find('tr', {'class':'winner'}).find('td',{'class':'right'}).string\n",
    "#     tmp_dict['boxscore'] = summ[idx].find('tr', {'class':'winner'}).find('td',{'class':'right gamelink'}).a['href']\n",
    "    tmp_dict['boxscore'] = summ[idx].find(text='Final').parent['href']\n",
    "    tmp_dict['losing_team'] = summ[idx].find('tr', {'class':'loser'}).find('td').string\n",
    "    tmp_dict['losing_team_id'] = summ[idx].find('tr', {'class':'loser'}).find('td').a['href'].split('/')[-2]\n",
    "    leaders = summ[idx].find('table', {'class':'stats'}).find_all('td')\n",
    "    for i in range(0,9,3):\n",
    "        title  = aa[i].string\n",
    "        tmp_dict[title + '_leader'] = leaders[i+1].a['title']\n",
    "        tmp_dict[title + '_leader_id'] = leaders[i+1].a['href'].split('/')[-1].split('.')[0]\n",
    "        tmp_dict[title + '_leader_team_id'] = leaders[i+1].contents[-1][1:].lower()\n",
    "        tmp_dict[title + '_leader_value'] = int(leaders[i+2].string)\n",
    "    tmp_list.append(tmp_dict)\n",
    "\n",
    "\n",
    "# summ[idx].find('table', {'class':'stats'}).find('a')['title']\n",
    "    "
   ]
  },
  {
   "cell_type": "code",
   "execution_count": 135,
   "metadata": {
    "ExecuteTime": {
     "end_time": "2018-10-04T01:05:32.863527Z",
     "start_time": "2018-10-04T01:05:32.851304Z"
    }
   },
   "outputs": [
    {
     "data": {
      "text/plain": [
       "{'AFC_offense_name': 'Tom Brady',\n",
       " 'AFC_offense_id': 'BradTo00',\n",
       " 'AFC_defense_name': 'Chris Jones',\n",
       " 'AFC_defense_id': 'JoneCh09',\n",
       " 'AFC_st_name': 'Cody Parkey',\n",
       " 'AFC_st_id': 'ParkCo03',\n",
       " 'NFC_offense_name': 'Tom Brady',\n",
       " 'NFC_offense_id': 'BradTo00',\n",
       " 'NFC_defense_name': 'Chris Jones',\n",
       " 'NFC_defense_id': 'JoneCh09',\n",
       " 'NFC_st_name': 'Cody Parkey',\n",
       " 'NFC_st_id': 'ParkCo03'}"
      ]
     },
     "execution_count": 135,
     "metadata": {},
     "output_type": "execute_result"
    }
   ],
   "source": [
    "div_val = soup.find('div', {'id':'all_potw'})\n",
    "rows = div_val.find_all('tr')\n",
    "potw_dict = {}\n",
    "for jdx in range(1,3):\n",
    "    conf = rows[jdx].contents[0].string \n",
    "    for idx in range(1,4):\n",
    "        potw_dict[conf + '_' + rows[jdx].contents[idx]['data-stat'] + '_name'] = rows[1].contents[idx].a.string\n",
    "        potw_dict[conf + '_' + rows[jdx].contents[idx]['data-stat'] + '_id'] = rows[1].contents[idx].a['href'].split('/')[-1].split('.')[0]\n",
    "potw_dict"
   ]
  },
  {
   "cell_type": "code",
   "execution_count": null,
   "metadata": {},
   "outputs": [],
   "source": [
    "div_val = soup.find('div', {'id':'all_qb_stats'})\n",
    "comments = div_val.find_all(string=lambda text: isinstance(text, Comment))\n",
    "table = BeautifulSoup(str(comments), 'lxml')\n",
    "passer_list = []\n",
    "for rows in  table.find_all('tr')[1:]:\n",
    "    conts = rows.contents\n",
    "    passer_dict = {}\n",
    "    passer_dict['player_name'] = conts[0].a.string\n",
    "    passer_dict['player_id'] = conts[0].a['href'].split('/')[-1].split('.')[0]\n",
    "    passer_dict['date'] = conts[1].string\n",
    "    passer_dict['boxscore'] = conts[1].a['href']\n",
    "    passer_dict['team_id'] = conts[2].string.lower()\n",
    "    passer_dict['opp_id'] = conts[4].string.lower()\n",
    "    result = conts[5].string\n",
    "    result_score = result.split()[-1].split('-')\n",
    "    if result[0] == 'W':\n",
    "        passer_dict['winning_team_id'] =  passer_dict['team_id']\n",
    "    else:\n",
    "        passer_dict['winning_team_id'] = passer_dict['opp_id']\n",
    "    passer_dict['team_score'] = int(result_score[0])\n",
    "    passer_dict['opp_score'] = int(result_score[1])\n",
    "    for idx in range(6,len(conts)):\n",
    "        passer_dict[conts[idx]['data-stat']] = float(conts[idx].string)\n",
    "#     passer_dict[conts[11]['data-stat']] = float(conts[11].string)\n",
    "    passer_list.append(passer_dict)\n",
    "passer_list"
   ]
  },
  {
   "cell_type": "code",
   "execution_count": 172,
   "metadata": {
    "ExecuteTime": {
     "end_time": "2018-10-04T02:00:02.930807Z",
     "start_time": "2018-10-04T02:00:02.884756Z"
    }
   },
   "outputs": [
    {
     "data": {
      "text/plain": [
       "[{'player_name': 'JJ Nelson',\n",
       "  'player_id': 'NelsJJ00',\n",
       "  'date': '2017-09-17',\n",
       "  'boxscore': '/boxscores/201709170clt.htm',\n",
       "  'team_id': 'ari',\n",
       "  'opp_id': 'ind',\n",
       "  'winning_team_id': 'ari',\n",
       "  'team_score': 16,\n",
       "  'opp_score': 13,\n",
       "  'rec': 5.0,\n",
       "  'rec_yds': 120.0,\n",
       "  'rec_td': 1.0},\n",
       " {'player_name': 'Rob Gronkowski',\n",
       "  'player_id': 'GronRo00',\n",
       "  'date': '2017-09-17',\n",
       "  'boxscore': '/boxscores/201709170nor.htm',\n",
       "  'team_id': 'nwe',\n",
       "  'opp_id': 'nor',\n",
       "  'winning_team_id': 'nwe',\n",
       "  'team_score': 36,\n",
       "  'opp_score': 20,\n",
       "  'rec': 6.0,\n",
       "  'rec_yds': 116.0,\n",
       "  'rec_td': 1.0},\n",
       " {'player_name': 'Julio Jones',\n",
       "  'player_id': 'JoneJu02',\n",
       "  'date': '2017-09-17',\n",
       "  'boxscore': '/boxscores/201709170atl.htm',\n",
       "  'team_id': 'atl',\n",
       "  'opp_id': 'gnb',\n",
       "  'winning_team_id': 'atl',\n",
       "  'team_score': 34,\n",
       "  'opp_score': 23,\n",
       "  'rec': 5.0,\n",
       "  'rec_yds': 108.0,\n",
       "  'rec_td': 0.0},\n",
       " {'player_name': 'Travis Kelce',\n",
       "  'player_id': 'KelcTr00',\n",
       "  'date': '2017-09-17',\n",
       "  'boxscore': '/boxscores/201709170kan.htm',\n",
       "  'team_id': 'kan',\n",
       "  'opp_id': 'phi',\n",
       "  'winning_team_id': 'kan',\n",
       "  'team_score': 27,\n",
       "  'opp_score': 20,\n",
       "  'rec': 8.0,\n",
       "  'rec_yds': 103.0,\n",
       "  'rec_td': 1.0},\n",
       " {'player_name': 'Keenan Allen',\n",
       "  'player_id': 'AlleKe00',\n",
       "  'date': '2017-09-17',\n",
       "  'boxscore': '/boxscores/201709170sdg.htm',\n",
       "  'team_id': 'lac',\n",
       "  'opp_id': 'mia',\n",
       "  'winning_team_id': 'mia',\n",
       "  'team_score': 17,\n",
       "  'opp_score': 19,\n",
       "  'rec': 9.0,\n",
       "  'rec_yds': 100.0,\n",
       "  'rec_td': 0.0}]"
      ]
     },
     "execution_count": 172,
     "metadata": {},
     "output_type": "execute_result"
    }
   ],
   "source": [
    "div_val = soup.find('div', {'id':'all_rec_stats'})\n",
    "comments = div_val.find_all(string=lambda text: isinstance(text, Comment))\n",
    "table = BeautifulSoup(str(comments), 'lxml')\n",
    "passer_list = []\n",
    "for rows in  table.find_all('tr')[1:]:\n",
    "    conts = rows.contents\n",
    "    passer_dict = {}\n",
    "    passer_dict['player_name'] = conts[0].a.string\n",
    "    passer_dict['player_id'] = conts[0].a['href'].split('/')[-1].split('.')[0]\n",
    "    passer_dict['date'] = conts[1].string\n",
    "    passer_dict['boxscore'] = conts[1].a['href']\n",
    "    passer_dict['team_id'] = conts[2].string.lower()\n",
    "    passer_dict['opp_id'] = conts[4].string.lower()\n",
    "    result = conts[5].string\n",
    "    result_score = result.split()[-1].split('-')\n",
    "    if result[0] == 'W':\n",
    "        passer_dict['winning_team_id'] =  passer_dict['team_id']\n",
    "    else:\n",
    "        passer_dict['winning_team_id'] = passer_dict['opp_id']\n",
    "    passer_dict['team_score'] = int(result_score[0])\n",
    "    passer_dict['opp_score'] = int(result_score[1])\n",
    "    for idx in range(6,len(conts)):\n",
    "        passer_dict[conts[idx]['data-stat']] = float(conts[idx].string)\n",
    "#     passer_dict[conts[11]['data-stat']] = float(conts[11].string)\n",
    "    passer_list.append(passer_dict)\n",
    "passer_list"
   ]
  },
  {
   "cell_type": "code",
   "execution_count": 170,
   "metadata": {
    "ExecuteTime": {
     "end_time": "2018-10-04T01:59:18.875450Z",
     "start_time": "2018-10-04T01:59:18.868080Z"
    }
   },
   "outputs": [
    {
     "data": {
      "text/plain": [
       "12"
      ]
     },
     "execution_count": 170,
     "metadata": {},
     "output_type": "execute_result"
    }
   ],
   "source": [
    "len(conts)"
   ]
  },
  {
   "cell_type": "code",
   "execution_count": 98,
   "metadata": {
    "ExecuteTime": {
     "end_time": "2018-10-03T23:32:50.063589Z",
     "start_time": "2018-10-03T23:32:50.055646Z"
    }
   },
   "outputs": [
    {
     "data": {
      "text/plain": [
       "<a href=\"/boxscores/201709100buf.htm\">Final</a>"
      ]
     },
     "execution_count": 98,
     "metadata": {},
     "output_type": "execute_result"
    }
   ],
   "source": [
    "summ[idx].find(text='Final').parent"
   ]
  },
  {
   "cell_type": "code",
   "execution_count": 90,
   "metadata": {
    "ExecuteTime": {
     "end_time": "2018-10-03T23:29:59.013136Z",
     "start_time": "2018-10-03T23:29:59.000395Z"
    }
   },
   "outputs": [
    {
     "data": {
      "text/plain": [
       "{'PassYds_leader': 'Alex Smith',\n",
       " 'RushYds_leader': 'Kareem Hunt',\n",
       " 'RecYds_leader': 'Tyreek Hill',\n",
       " 'PassYds_leader_id': 'SmitAl03',\n",
       " 'RushYds_leader_id': 'HuntKa00',\n",
       " 'RecYds_leader_id': 'HillTy00',\n",
       " 'PassYds_leader_value': 368,\n",
       " 'RushYds_leader_value': 148,\n",
       " 'RecYds_leader_value': 133,\n",
       " 'PassYds_leader_team_id': 'kan',\n",
       " 'RushYds_leader_team_id': 'kan',\n",
       " 'RecYds_leader_team_id': 'kan'}"
      ]
     },
     "execution_count": 90,
     "metadata": {},
     "output_type": "execute_result"
    }
   ],
   "source": [
    "aa = summ[idx].find('table', {'class':'stats'}).find_all('td')\n",
    "for i in range(0,9,3):\n",
    "    title  = aa[i].string\n",
    "    tmp_dict[title + '_leader'] = aa[i+1].a['title']\n",
    "    tmp_dict[title + '_leader_id'] = aa[i+1].a['href'].split('/')[-1].split('.')[0]\n",
    "    tmp_dict[title + '_leader_team_id'] = aa[i+1].contents[-1][1:].lower()\n",
    "    tmp_dict[title + '_leader_value'] = int(aa[i+2].string)\n",
    "tmp_dict    \n",
    "    \n",
    "    "
   ]
  },
  {
   "cell_type": "code",
   "execution_count": 89,
   "metadata": {
    "ExecuteTime": {
     "end_time": "2018-10-03T23:29:36.859814Z",
     "start_time": "2018-10-03T23:29:36.852485Z"
    }
   },
   "outputs": [
    {
     "data": {
      "text/plain": [
       "'kan'"
      ]
     },
     "execution_count": 89,
     "metadata": {},
     "output_type": "execute_result"
    }
   ],
   "source": [
    "aa[1].contents[-1][1:].lower()"
   ]
  },
  {
   "cell_type": "code",
   "execution_count": 72,
   "metadata": {
    "ExecuteTime": {
     "end_time": "2018-10-03T23:25:44.415182Z",
     "start_time": "2018-10-03T23:25:44.406637Z"
    }
   },
   "outputs": [
    {
     "data": {
      "text/plain": [
       "[<td><strong>PassYds</strong></td>,\n",
       " <td><a href=\"/players/S/SmitAl03.htm\" title=\"Alex Smith\">Smith</a>-KAN</td>,\n",
       " <td class=\"right\">368</td>,\n",
       " <td><strong>RushYds</strong></td>,\n",
       " <td><a href=\"/players/H/HuntKa00.htm\" title=\"Kareem Hunt\">Hunt</a>-KAN</td>,\n",
       " <td class=\"right\">148</td>,\n",
       " <td><strong>RecYds</strong></td>,\n",
       " <td><a href=\"/players/H/HillTy00.htm\" title=\"Tyreek Hill\">Hill</a>-KAN</td>,\n",
       " <td class=\"right\">133</td>]"
      ]
     },
     "execution_count": 72,
     "metadata": {},
     "output_type": "execute_result"
    }
   ],
   "source": [
    "summ[idx].find('table', {'class':'stats'}).find_all('td')"
   ]
  },
  {
   "cell_type": "code",
   "execution_count": 60,
   "metadata": {
    "ExecuteTime": {
     "end_time": "2018-10-03T23:19:09.405901Z",
     "start_time": "2018-10-03T23:19:09.397593Z"
    }
   },
   "outputs": [
    {
     "data": {
      "text/plain": [
       "[<a href=\"/players/S/SmitAl03.htm\" title=\"Alex Smith\">Smith</a>,\n",
       " <a href=\"/players/H/HuntKa00.htm\" title=\"Kareem Hunt\">Hunt</a>,\n",
       " <a href=\"/players/H/HillTy00.htm\" title=\"Tyreek Hill\">Hill</a>]"
      ]
     },
     "execution_count": 60,
     "metadata": {},
     "output_type": "execute_result"
    }
   ],
   "source": [
    "summ[idx].find('table', {'class':'stats'}).find_all('a')"
   ]
  },
  {
   "cell_type": "code",
   "execution_count": 24,
   "metadata": {
    "ExecuteTime": {
     "end_time": "2018-10-03T01:26:06.904240Z",
     "start_time": "2018-10-03T01:26:06.875020Z"
    }
   },
   "outputs": [
    {
     "data": {
      "text/plain": [
       "<div class=\"game_summary expanded nohover\">\n",
       "<table class=\"teams\">\n",
       "<tbody>\n",
       "<tr class=\"date\"><td colspan=\"3\">Sep 7, 2017</td></tr>\n",
       "<tr class=\"winner\">\n",
       "<td><a href=\"/teams/kan/2017.htm\">Kansas City Chiefs</a></td>\n",
       "<td class=\"right\">42</td>\n",
       "<td class=\"right gamelink\">\n",
       "<a href=\"/boxscores/201709070nwe.htm\">Final</a>\n",
       "</td>\n",
       "</tr>\n",
       "<tr class=\"loser\">\n",
       "<td><a href=\"/teams/nwe/2017.htm\">New England Patriots</a></td>\n",
       "<td class=\"right\">27</td>\n",
       "<td class=\"right\"> \n",
       "\t\t\t</td>\n",
       "</tr>\n",
       "</tbody>\n",
       "</table>\n",
       "<table class=\"stats\">\n",
       "<tbody>\n",
       "<tr>\n",
       "<td><strong>PassYds</strong></td>\n",
       "<td><a href=\"/players/S/SmitAl03.htm\" title=\"Alex Smith\">Smith</a>-KAN</td>\n",
       "<td class=\"right\">368</td>\n",
       "</tr>\n",
       "<tr>\n",
       "<td><strong>RushYds</strong></td>\n",
       "<td><a href=\"/players/H/HuntKa00.htm\" title=\"Kareem Hunt\">Hunt</a>-KAN</td>\n",
       "<td class=\"right\">148</td>\n",
       "</tr>\n",
       "<tr>\n",
       "<td><strong>RecYds</strong></td>\n",
       "<td><a href=\"/players/H/HillTy00.htm\" title=\"Tyreek Hill\">Hill</a>-KAN</td>\n",
       "<td class=\"right\">133</td>\n",
       "</tr>\n",
       "</tbody>\n",
       "</table>\n",
       "</div>"
      ]
     },
     "execution_count": 24,
     "metadata": {},
     "output_type": "execute_result"
    }
   ],
   "source": [
    "summ[0]"
   ]
  },
  {
   "cell_type": "code",
   "execution_count": 15,
   "metadata": {
    "ExecuteTime": {
     "end_time": "2018-10-03T01:23:04.478753Z",
     "start_time": "2018-10-03T01:23:04.473968Z"
    }
   },
   "outputs": [],
   "source": [
    "val2.find('table', {'class': 'teams'})"
   ]
  },
  {
   "cell_type": "code",
   "execution_count": 349,
   "metadata": {
    "ExecuteTime": {
     "end_time": "2018-10-02T02:34:47.139589Z",
     "start_time": "2018-10-02T02:34:46.765748Z"
    }
   },
   "outputs": [],
   "source": [
    "# all_divs = ['all_AFC', 'all_NFC', 'all_playoff_results', 'all_afc_playoff_standings', 'all_nfc_playoff_standings', 'all_team_stats', 'all_passing', 'all_rushing', 'all_returns', 'all_kicking', 'all_team_scoring', 'all_team_conversions', 'all_drives']\n",
    "# div_dict = {}\n",
    "# for divs in all_divs:\n",
    "    div_val = soup.find('div', {'id':divs})\n",
    "    table_rows = div_val.find_all('tr')\n",
    "    if table_rows == []:\n",
    "        comments = div_val.find_all(string=lambda text: isinstance(text, Comment))\n",
    "        table = BeautifulSoup(str(comments), 'lxml')\n",
    "        rows = table.find_all('tr')\n",
    "        div_dict[divs] = rows\n",
    "    else:\n",
    "        div_dict[divs] = table_rows\n",
    "\n",
    "weeks = soup.find('div', {'id':'all_week_games'})\n",
    "comments = weeks.find_all(string=lambda text: isinstance(text, Comment))\n",
    "table = BeautifulSoup(str(comments), 'lxml')\n",
    "vals = table.find_all('a')\n",
    "val_dict = {}\n",
    "for i in vals:\n",
    "#     val_dict[i.string] = i['href'].split('/')[-1]\n",
    "    val_dict[i.string] = i['href']\n",
    "div_dict['all_week_games'] = val_dict\n",
    "\n",
    "# awards = soup.find('div', {'id':'all_awards'})\n",
    "# comments = awards.find_all(string=lambda text: isinstance(text, Comment))\n",
    "# table = BeautifulSoup(str(comments), 'lxml')\n",
    "# vals = table.find_all('a')\n",
    "# val_dict = {}\n",
    "# for i in range(0,len(vals),2):\n",
    "#     val_dict[vals[i].string] = {'award_id': vals[i]['href'].split('/')[-1].split('.')[0], 'player_name': vals[i+1].string, 'player_id': vals[i+1]['href'].split('/')[-1].split('.')[0]}\n",
    "# div_dict['all_awards'] = val_dict"
   ]
  },
  {
   "cell_type": "code",
   "execution_count": 352,
   "metadata": {
    "ExecuteTime": {
     "end_time": "2018-10-02T12:35:50.896098Z",
     "start_time": "2018-10-02T12:35:50.860821Z"
    }
   },
   "outputs": [],
   "source": [
    "awards = soup.find('div', {'id':'all_awards'})\n",
    "comments = awards.find_all(string=lambda text: isinstance(text, Comment))\n",
    "table = BeautifulSoup(str(comments), 'lxml')\n",
    "vals = table.find_all('a')\n",
    "val_dict = {}\n",
    "for i in range(0,len(vals),2):\n",
    "    val_dict[vals[i].string] = {'award_id': vals[i]['href'].split('/')[-1].split('.')[0], 'player_name': vals[i+1].string, 'player_id': vals[i+1]['href'].split('/')[-1].split('.')[0]}"
   ]
  },
  {
   "cell_type": "code",
   "execution_count": 353,
   "metadata": {
    "ExecuteTime": {
     "end_time": "2018-10-02T12:35:56.146924Z",
     "start_time": "2018-10-02T12:35:56.138390Z"
    }
   },
   "outputs": [
    {
     "data": {
      "text/plain": [
       "[<a href=\"/players/award_apmvp.htm\">AP MVP</a>,\n",
       " <a href=\"/players/B/BradTo00.htm\">Tom Brady</a>,\n",
       " <a href=\"/players/award_pfwamvp.htm\">PFWA MVP</a>,\n",
       " <a href=\"/players/B/BradTo00.htm\">Tom Brady</a>,\n",
       " <a href=\"/players/award_bba.htm\">Bert Bell Award (Player of the Year)</a>,\n",
       " <a href=\"/players/W/WentCa00.htm\">Carson Wentz</a>,\n",
       " <a href=\"/players/award_apopoy.htm\">AP Offensive Player of the Year</a>,\n",
       " <a href=\"/players/G/GurlTo01.htm\">Todd Gurley</a>,\n",
       " <a href=\"/players/award_apdpoy.htm\">AP Defensive Player of the Year</a>,\n",
       " <a href=\"/players/D/DonaAa00.htm\">Aaron Donald</a>,\n",
       " <a href=\"/players/award_sbmvp.htm\">Super Bowl MVP</a>,\n",
       " <a href=\"/players/F/FoleNi00.htm\">Nick Foles</a>,\n",
       " <a href=\"/players/award_aporoy.htm\">AP Offensive Rookie of the Year</a>,\n",
       " <a href=\"/players/K/KamaAl00.htm\">Alvin Kamara</a>,\n",
       " <a href=\"/players/award_apdroy.htm\">AP Defensive Rookie of the Year</a>,\n",
       " <a href=\"/players/L/LattMa01.htm\">Marshon Lattimore</a>,\n",
       " <a href=\"/players/award_wpmoy.htm\">Walter Payton Man of the Year</a>,\n",
       " <a href=\"/players/W/WattJ.00.htm\">J.J. Watt</a>,\n",
       " <a href=\"/players/award_apcpoy.htm\">AP Comeback Player of the Year</a>,\n",
       " <a href=\"/players/A/AlleKe00.htm\">Keenan Allen</a>]"
      ]
     },
     "execution_count": 353,
     "metadata": {},
     "output_type": "execute_result"
    }
   ],
   "source": [
    "vals"
   ]
  },
  {
   "cell_type": "code",
   "execution_count": 351,
   "metadata": {
    "ExecuteTime": {
     "end_time": "2018-10-02T12:34:27.701852Z",
     "start_time": "2018-10-02T12:34:27.678916Z"
    }
   },
   "outputs": [
    {
     "data": {
      "text/plain": [
       "{'AP MVP': {'award_id': 'award_apmvp',\n",
       "  'player_name': 'Tom Brady',\n",
       "  'player_id': 'BradTo00'},\n",
       " 'PFWA MVP': {'award_id': 'award_pfwamvp',\n",
       "  'player_name': 'Tom Brady',\n",
       "  'player_id': 'BradTo00'},\n",
       " 'Bert Bell Award (Player of the Year)': {'award_id': 'award_bba',\n",
       "  'player_name': 'Carson Wentz',\n",
       "  'player_id': 'WentCa00'},\n",
       " 'AP Offensive Player of the Year': {'award_id': 'award_apopoy',\n",
       "  'player_name': 'Todd Gurley',\n",
       "  'player_id': 'GurlTo01'},\n",
       " 'AP Defensive Player of the Year': {'award_id': 'award_apdpoy',\n",
       "  'player_name': 'Aaron Donald',\n",
       "  'player_id': 'DonaAa00'},\n",
       " 'Super Bowl MVP': {'award_id': 'award_sbmvp',\n",
       "  'player_name': 'Nick Foles',\n",
       "  'player_id': 'FoleNi00'},\n",
       " 'AP Offensive Rookie of the Year': {'award_id': 'award_aporoy',\n",
       "  'player_name': 'Alvin Kamara',\n",
       "  'player_id': 'KamaAl00'},\n",
       " 'AP Defensive Rookie of the Year': {'award_id': 'award_apdroy',\n",
       "  'player_name': 'Marshon Lattimore',\n",
       "  'player_id': 'LattMa01'},\n",
       " 'Walter Payton Man of the Year': {'award_id': 'award_wpmoy',\n",
       "  'player_name': 'J.J. Watt',\n",
       "  'player_id': 'WattJ'},\n",
       " 'AP Comeback Player of the Year': {'award_id': 'award_apcpoy',\n",
       "  'player_name': 'Keenan Allen',\n",
       "  'player_id': 'AlleKe00'}}"
      ]
     },
     "execution_count": 351,
     "metadata": {},
     "output_type": "execute_result"
    }
   ],
   "source": [
    "div_dict['all_awards']"
   ]
  },
  {
   "cell_type": "code",
   "execution_count": 163,
   "metadata": {
    "ExecuteTime": {
     "end_time": "2018-10-02T01:00:32.183286Z",
     "start_time": "2018-10-02T01:00:32.176033Z"
    }
   },
   "outputs": [],
   "source": [
    "def name_extract(cell):\n",
    "    cell_id = re.findall('[^a-z]([a-z]{3})[^a-z]',cell['href'])[0]#.split('/')[-1].split('.')[0]\n",
    "    cell_name = cell.string\n",
    "    return cell_id, cell_name\n",
    "\n",
    "def id_name_add(cell, pbp_dict, id_name_str):\n",
    "    id_str, name_str = name_extract(cell)\n",
    "    pbp_dict[id_name_str + '_id'] = id_str\n",
    "    pbp_dict[id_name_str + '_name'] = name_str\n",
    "    return pbp_dict"
   ]
  },
  {
   "cell_type": "code",
   "execution_count": 288,
   "metadata": {
    "ExecuteTime": {
     "end_time": "2018-10-02T02:18:52.621218Z",
     "start_time": "2018-10-02T02:18:52.610521Z"
    }
   },
   "outputs": [],
   "source": [
    "stat_list = []\n",
    "for row in div_dict['all_AFC'][2:]:\n",
    "    cells = row.contents\n",
    "    if cells[0].a is not None:\n",
    "        stat_dict = {}\n",
    "        for cell in cells:\n",
    "            lbl = cell['data-stat']\n",
    "            cell_str = cell.string\n",
    "            if lbl in ['team']:\n",
    "                stat_dict = id_name_add(cell.a, stat_dict, lbl)\n",
    "            else:\n",
    "                stat_dict[cell['data-stat']] = cell_str\n",
    "        stat_list.append(stat_dict)\n",
    "#     break\n",
    "# 'all_AFC', 'all_NFC'"
   ]
  },
  {
   "cell_type": "code",
   "execution_count": 346,
   "metadata": {
    "ExecuteTime": {
     "end_time": "2018-10-02T02:31:13.457143Z",
     "start_time": "2018-10-02T02:31:13.441951Z"
    }
   },
   "outputs": [],
   "source": [
    "stat_list = []\n",
    "for row in div_dict['all_drives'][1:]:\n",
    "    cells = row.contents\n",
    "    if cells[0].name is not None and cells[1].a is not None:\n",
    "        stat_dict = {}\n",
    "        for cell in cells:\n",
    "            lbl = cell['data-stat']\n",
    "            cell_str = cell.string\n",
    "            if cell_str is None:\n",
    "                stat_dict[cell['data-stat']] = 0\n",
    "            elif lbl in ['team']:\n",
    "                stat_dict = id_name_add(cell.a, stat_dict, lbl)\n",
    "            elif lbl.find('perc')>-1 or lbl.find('pct')>-1:\n",
    "                stat_dict[cell['data-stat']] = float(cell_str[:-1])\n",
    "            elif lbl == 'start_avg':\n",
    "                stat_dict['yards_from_endzone_avg'] = float(cell['csk'])\n",
    "            elif lbl == 'time_avg':\n",
    "                tm = cell_str.split(':')\n",
    "                stat_dict['sec_avg'] = int(tm[0])*60 + int(tm[1])\n",
    "            else:\n",
    "                stat_dict[cell['data-stat']] = float(cell_str)\n",
    "        stat_list.append(stat_dict)\n",
    "#     break\n",
    "# 'all_team_stats', 'all_passing', 'all_rushing', 'all_returns', 'all_kicking', 'all_team_scoring', 'all_team_conversions', 'all_drives'"
   ]
  },
  {
   "cell_type": "code",
   "execution_count": 347,
   "metadata": {
    "ExecuteTime": {
     "end_time": "2018-10-02T02:31:14.871599Z",
     "start_time": "2018-10-02T02:31:14.847343Z"
    }
   },
   "outputs": [
    {
     "data": {
      "text/plain": [
       "[{'ranker': 1.0,\n",
       "  'team_id': 'crd',\n",
       "  'team_name': 'Arizona Cardinals',\n",
       "  'g': 16.0,\n",
       "  'drives': 202.0,\n",
       "  'play_count_tip': 1091.0,\n",
       "  'score_pct': 29.0,\n",
       "  'turnover_pct': 12.0,\n",
       "  'plays_per_drive': 5.4,\n",
       "  'yds_per_drive': 24.9,\n",
       "  'yards_from_endzone_avg': 70.3,\n",
       "  'sec_avg': 148,\n",
       "  'points_avg': 1.41},\n",
       " {'ranker': 2.0,\n",
       "  'team_id': 'jax',\n",
       "  'team_name': 'Jacksonville Jaguars',\n",
       "  'g': 16.0,\n",
       "  'drives': 199.0,\n",
       "  'play_count_tip': 1115.0,\n",
       "  'score_pct': 34.0,\n",
       "  'turnover_pct': 11.0,\n",
       "  'plays_per_drive': 5.6,\n",
       "  'yds_per_drive': 29.4,\n",
       "  'yards_from_endzone_avg': 70.8,\n",
       "  'sec_avg': 156,\n",
       "  'points_avg': 1.82},\n",
       " {'ranker': 3.0,\n",
       "  'team_id': 'nyj',\n",
       "  'team_name': 'New York Jets',\n",
       "  'g': 16.0,\n",
       "  'drives': 199.0,\n",
       "  'play_count_tip': 1019.0,\n",
       "  'score_pct': 28.0,\n",
       "  'turnover_pct': 11.0,\n",
       "  'plays_per_drive': 5.1,\n",
       "  'yds_per_drive': 24.5,\n",
       "  'yards_from_endzone_avg': 72.4,\n",
       "  'sec_avg': 146,\n",
       "  'points_avg': 1.5},\n",
       " {'ranker': 4.0,\n",
       "  'team_id': 'sea',\n",
       "  'team_name': 'Seattle Seahawks',\n",
       "  'g': 16.0,\n",
       "  'drives': 197.0,\n",
       "  'play_count_tip': 1039.0,\n",
       "  'score_pct': 30.0,\n",
       "  'turnover_pct': 8.0,\n",
       "  'plays_per_drive': 5.3,\n",
       "  'yds_per_drive': 26.8,\n",
       "  'yards_from_endzone_avg': 71.5,\n",
       "  'sec_avg': 143,\n",
       "  'points_avg': 1.71},\n",
       " {'ranker': 5.0,\n",
       "  'team_id': 'nyg',\n",
       "  'team_name': 'New York Giants',\n",
       "  'g': 16.0,\n",
       "  'drives': 194.0,\n",
       "  'play_count_tip': 1064.0,\n",
       "  'score_pct': 22.0,\n",
       "  'turnover_pct': 11.0,\n",
       "  'plays_per_drive': 5.5,\n",
       "  'yds_per_drive': 25.9,\n",
       "  'yards_from_endzone_avg': 73.3,\n",
       "  'sec_avg': 142,\n",
       "  'points_avg': 1.22},\n",
       " {'ranker': 6.0,\n",
       "  'team_id': 'den',\n",
       "  'team_name': 'Denver Broncos',\n",
       "  'g': 16.0,\n",
       "  'drives': 193.0,\n",
       "  'play_count_tip': 1106.0,\n",
       "  'score_pct': 26.0,\n",
       "  'turnover_pct': 16.0,\n",
       "  'plays_per_drive': 5.7,\n",
       "  'yds_per_drive': 26.9,\n",
       "  'yards_from_endzone_avg': 73.0,\n",
       "  'sec_avg': 157,\n",
       "  'points_avg': 1.35},\n",
       " {'ranker': 7.0,\n",
       "  'team_id': 'rav',\n",
       "  'team_name': 'Baltimore Ravens',\n",
       "  'g': 16.0,\n",
       "  'drives': 192.0,\n",
       "  'play_count_tip': 1095.0,\n",
       "  'score_pct': 36.0,\n",
       "  'turnover_pct': 8.0,\n",
       "  'plays_per_drive': 5.7,\n",
       "  'yds_per_drive': 25.4,\n",
       "  'yards_from_endzone_avg': 67.2,\n",
       "  'sec_avg': 154,\n",
       "  'points_avg': 1.84},\n",
       " {'ranker': 8.0,\n",
       "  'team_id': 'htx',\n",
       "  'team_name': 'Houston Texans',\n",
       "  'g': 16.0,\n",
       "  'drives': 192.0,\n",
       "  'play_count_tip': 1054.0,\n",
       "  'score_pct': 29.0,\n",
       "  'turnover_pct': 14.0,\n",
       "  'plays_per_drive': 5.5,\n",
       "  'yds_per_drive': 26.7,\n",
       "  'yards_from_endzone_avg': 74.7,\n",
       "  'sec_avg': 150,\n",
       "  'points_avg': 1.63},\n",
       " {'ranker': 9.0,\n",
       "  'team_id': 'was',\n",
       "  'team_name': 'Washington Redskins',\n",
       "  'g': 16.0,\n",
       "  'drives': 191.0,\n",
       "  'play_count_tip': 1012.0,\n",
       "  'score_pct': 31.0,\n",
       "  'turnover_pct': 12.0,\n",
       "  'plays_per_drive': 5.3,\n",
       "  'yds_per_drive': 27.0,\n",
       "  'yards_from_endzone_avg': 70.6,\n",
       "  'sec_avg': 150,\n",
       "  'points_avg': 1.73},\n",
       " {'ranker': 10.0,\n",
       "  'team_id': 'oti',\n",
       "  'team_name': 'Tennessee Titans',\n",
       "  'g': 16.0,\n",
       "  'drives': 191.0,\n",
       "  'play_count_tip': 1017.0,\n",
       "  'score_pct': 35.0,\n",
       "  'turnover_pct': 12.0,\n",
       "  'plays_per_drive': 5.3,\n",
       "  'yds_per_drive': 26.3,\n",
       "  'yards_from_endzone_avg': 71.3,\n",
       "  'sec_avg': 152,\n",
       "  'points_avg': 1.72},\n",
       " {'ranker': 11.0,\n",
       "  'team_id': 'phi',\n",
       "  'team_name': 'Philadelphia Eagles',\n",
       "  'g': 16.0,\n",
       "  'drives': 191.0,\n",
       "  'play_count_tip': 1109.0,\n",
       "  'score_pct': 40.0,\n",
       "  'turnover_pct': 9.0,\n",
       "  'plays_per_drive': 5.8,\n",
       "  'yds_per_drive': 30.5,\n",
       "  'yards_from_endzone_avg': 70.0,\n",
       "  'sec_avg': 164,\n",
       "  'points_avg': 2.21},\n",
       " {'ranker': 12.0,\n",
       "  'team_id': 'ram',\n",
       "  'team_name': 'Los Angeles Rams',\n",
       "  'g': 16.0,\n",
       "  'drives': 190.0,\n",
       "  'play_count_tip': 1047.0,\n",
       "  'score_pct': 45.0,\n",
       "  'turnover_pct': 9.0,\n",
       "  'plays_per_drive': 5.5,\n",
       "  'yds_per_drive': 30.4,\n",
       "  'yards_from_endzone_avg': 67.1,\n",
       "  'sec_avg': 152,\n",
       "  'points_avg': 2.33},\n",
       " {'ranker': 13.0,\n",
       "  'team_id': 'mia',\n",
       "  'team_name': 'Miami Dolphins',\n",
       "  'g': 16.0,\n",
       "  'drives': 190.0,\n",
       "  'play_count_tip': 1024.0,\n",
       "  'score_pct': 25.0,\n",
       "  'turnover_pct': 15.0,\n",
       "  'plays_per_drive': 5.4,\n",
       "  'yds_per_drive': 25.9,\n",
       "  'yards_from_endzone_avg': 71.9,\n",
       "  'sec_avg': 149,\n",
       "  'points_avg': 1.36},\n",
       " {'ranker': 14.0,\n",
       "  'team_id': 'cle',\n",
       "  'team_name': 'Cleveland Browns',\n",
       "  'g': 16.0,\n",
       "  'drives': 186.0,\n",
       "  'play_count_tip': 1028.0,\n",
       "  'score_pct': 22.0,\n",
       "  'turnover_pct': 21.0,\n",
       "  'plays_per_drive': 5.5,\n",
       "  'yds_per_drive': 26.5,\n",
       "  'yards_from_endzone_avg': 73.5,\n",
       "  'sec_avg': 146,\n",
       "  'points_avg': 1.22},\n",
       " {'ranker': 15.0,\n",
       "  'team_id': 'min',\n",
       "  'team_name': 'Minnesota Vikings',\n",
       "  'g': 16.0,\n",
       "  'drives': 185.0,\n",
       "  'play_count_tip': 1094.0,\n",
       "  'score_pct': 38.0,\n",
       "  'turnover_pct': 7.0,\n",
       "  'plays_per_drive': 5.9,\n",
       "  'yds_per_drive': 30.9,\n",
       "  'yards_from_endzone_avg': 70.6,\n",
       "  'sec_avg': 168,\n",
       "  'points_avg': 2.03},\n",
       " {'ranker': 16.0,\n",
       "  'team_id': 'det',\n",
       "  'team_name': 'Detroit Lions',\n",
       "  'g': 16.0,\n",
       "  'drives': 185.0,\n",
       "  'play_count_tip': 1017.0,\n",
       "  'score_pct': 37.0,\n",
       "  'turnover_pct': 11.0,\n",
       "  'plays_per_drive': 5.5,\n",
       "  'yds_per_drive': 29.1,\n",
       "  'yards_from_endzone_avg': 70.1,\n",
       "  'sec_avg': 155,\n",
       "  'points_avg': 1.96},\n",
       " {'ranker': 17.0,\n",
       "  'team_id': 'cin',\n",
       "  'team_name': 'Cincinnati Bengals',\n",
       "  'g': 16.0,\n",
       "  'drives': 185.0,\n",
       "  'play_count_tip': 946.0,\n",
       "  'score_pct': 26.0,\n",
       "  'turnover_pct': 11.0,\n",
       "  'plays_per_drive': 5.1,\n",
       "  'yds_per_drive': 24.2,\n",
       "  'yards_from_endzone_avg': 72.1,\n",
       "  'sec_avg': 142,\n",
       "  'points_avg': 1.46},\n",
       " {'ranker': 18.0,\n",
       "  'team_id': 'sfo',\n",
       "  'team_name': 'San Francisco 49ers',\n",
       "  'g': 16.0,\n",
       "  'drives': 184.0,\n",
       "  'play_count_tip': 1102.0,\n",
       "  'score_pct': 37.0,\n",
       "  'turnover_pct': 12.0,\n",
       "  'plays_per_drive': 6.0,\n",
       "  'yds_per_drive': 30.3,\n",
       "  'yards_from_endzone_avg': 72.4,\n",
       "  'sec_avg': 153,\n",
       "  'points_avg': 1.78},\n",
       " {'ranker': 19.0,\n",
       "  'team_id': 'buf',\n",
       "  'team_name': 'Buffalo Bills',\n",
       "  'g': 16.0,\n",
       "  'drives': 180.0,\n",
       "  'play_count_tip': 1065.0,\n",
       "  'score_pct': 31.0,\n",
       "  'turnover_pct': 8.0,\n",
       "  'plays_per_drive': 5.9,\n",
       "  'yds_per_drive': 26.9,\n",
       "  'yards_from_endzone_avg': 71.8,\n",
       "  'sec_avg': 151,\n",
       "  'points_avg': 1.57},\n",
       " {'ranker': 20.0,\n",
       "  'team_id': 'clt',\n",
       "  'team_name': 'Indianapolis Colts',\n",
       "  'g': 16.0,\n",
       "  'drives': 180.0,\n",
       "  'play_count_tip': 1030.0,\n",
       "  'score_pct': 29.0,\n",
       "  'turnover_pct': 8.0,\n",
       "  'plays_per_drive': 5.7,\n",
       "  'yds_per_drive': 25.2,\n",
       "  'yards_from_endzone_avg': 72.7,\n",
       "  'sec_avg': 158,\n",
       "  'points_avg': 1.42},\n",
       " {'ranker': 21.0,\n",
       "  'team_id': 'pit',\n",
       "  'team_name': 'Pittsburgh Steelers',\n",
       "  'g': 16.0,\n",
       "  'drives': 179.0,\n",
       "  'play_count_tip': 1091.0,\n",
       "  'score_pct': 43.0,\n",
       "  'turnover_pct': 10.0,\n",
       "  'plays_per_drive': 6.1,\n",
       "  'yds_per_drive': 33.7,\n",
       "  'yards_from_endzone_avg': 70.7,\n",
       "  'sec_avg': 172,\n",
       "  'points_avg': 2.23},\n",
       " {'ranker': 22.0,\n",
       "  'team_id': 'car',\n",
       "  'team_name': 'Carolina Panthers',\n",
       "  'g': 16.0,\n",
       "  'drives': 179.0,\n",
       "  'play_count_tip': 1059.0,\n",
       "  'score_pct': 37.0,\n",
       "  'turnover_pct': 11.0,\n",
       "  'plays_per_drive': 5.9,\n",
       "  'yds_per_drive': 28.8,\n",
       "  'yards_from_endzone_avg': 70.0,\n",
       "  'sec_avg': 173,\n",
       "  'points_avg': 1.97},\n",
       " {'ranker': 23.0,\n",
       "  'team_id': 'rai',\n",
       "  'team_name': 'Oakland Raiders',\n",
       "  'g': 16.0,\n",
       "  'drives': 178.0,\n",
       "  'play_count_tip': 978.0,\n",
       "  'score_pct': 29.0,\n",
       "  'turnover_pct': 15.0,\n",
       "  'plays_per_drive': 5.5,\n",
       "  'yds_per_drive': 29.1,\n",
       "  'yards_from_endzone_avg': 71.7,\n",
       "  'sec_avg': 156,\n",
       "  'points_avg': 1.69},\n",
       " {'ranker': 24.0,\n",
       "  'team_id': 'sdg',\n",
       "  'team_name': 'Los Angeles Chargers',\n",
       "  'g': 16.0,\n",
       "  'drives': 177.0,\n",
       "  'play_count_tip': 1052.0,\n",
       "  'score_pct': 33.0,\n",
       "  'turnover_pct': 8.0,\n",
       "  'plays_per_drive': 5.9,\n",
       "  'yds_per_drive': 34.1,\n",
       "  'yards_from_endzone_avg': 73.9,\n",
       "  'sec_avg': 165,\n",
       "  'points_avg': 1.88},\n",
       " {'ranker': 25.0,\n",
       "  'team_id': 'kan',\n",
       "  'team_name': 'Kansas City Chiefs',\n",
       "  'g': 16.0,\n",
       "  'drives': 176.0,\n",
       "  'play_count_tip': 1032.0,\n",
       "  'score_pct': 44.0,\n",
       "  'turnover_pct': 6.0,\n",
       "  'plays_per_drive': 5.9,\n",
       "  'yds_per_drive': 34.0,\n",
       "  'yards_from_endzone_avg': 70.9,\n",
       "  'sec_avg': 169,\n",
       "  'points_avg': 2.21},\n",
       " {'ranker': 26.0,\n",
       "  'team_id': 'nor',\n",
       "  'team_name': 'New Orleans Saints',\n",
       "  'g': 16.0,\n",
       "  'drives': 175.0,\n",
       "  'play_count_tip': 1044.0,\n",
       "  'score_pct': 44.0,\n",
       "  'turnover_pct': 9.0,\n",
       "  'plays_per_drive': 6.0,\n",
       "  'yds_per_drive': 35.6,\n",
       "  'yards_from_endzone_avg': 70.4,\n",
       "  'sec_avg': 171,\n",
       "  'points_avg': 2.41},\n",
       " {'ranker': 27.0,\n",
       "  'team_id': 'tam',\n",
       "  'team_name': 'Tampa Bay Buccaneers',\n",
       "  'g': 16.0,\n",
       "  'drives': 175.0,\n",
       "  'play_count_tip': 1073.0,\n",
       "  'score_pct': 33.0,\n",
       "  'turnover_pct': 15.0,\n",
       "  'plays_per_drive': 6.1,\n",
       "  'yds_per_drive': 33.1,\n",
       "  'yards_from_endzone_avg': 72.4,\n",
       "  'sec_avg': 163,\n",
       "  'points_avg': 1.79},\n",
       " {'ranker': 28.0,\n",
       "  'team_id': 'chi',\n",
       "  'team_name': 'Chicago Bears',\n",
       "  'g': 16.0,\n",
       "  'drives': 174.0,\n",
       "  'play_count_tip': 961.0,\n",
       "  'score_pct': 24.0,\n",
       "  'turnover_pct': 12.0,\n",
       "  'plays_per_drive': 5.5,\n",
       "  'yds_per_drive': 26.3,\n",
       "  'yards_from_endzone_avg': 72.9,\n",
       "  'sec_avg': 161,\n",
       "  'points_avg': 1.32},\n",
       " {'ranker': 29.0,\n",
       "  'team_id': 'nwe',\n",
       "  'team_name': 'New England Patriots',\n",
       "  'g': 16.0,\n",
       "  'drives': 174.0,\n",
       "  'play_count_tip': 1110.0,\n",
       "  'score_pct': 49.0,\n",
       "  'turnover_pct': 6.0,\n",
       "  'plays_per_drive': 6.4,\n",
       "  'yds_per_drive': 36.1,\n",
       "  'yards_from_endzone_avg': 71.5,\n",
       "  'sec_avg': 169,\n",
       "  'points_avg': 2.61},\n",
       " {'ranker': 30.0,\n",
       "  'team_id': 'gnb',\n",
       "  'team_name': 'Green Bay Packers',\n",
       "  'g': 16.0,\n",
       "  'drives': 174.0,\n",
       "  'play_count_tip': 1024.0,\n",
       "  'score_pct': 30.0,\n",
       "  'turnover_pct': 13.0,\n",
       "  'plays_per_drive': 5.9,\n",
       "  'yds_per_drive': 28.1,\n",
       "  'yards_from_endzone_avg': 73.5,\n",
       "  'sec_avg': 161,\n",
       "  'points_avg': 1.79},\n",
       " {'ranker': 31.0,\n",
       "  'team_id': 'dal',\n",
       "  'team_name': 'Dallas Cowboys',\n",
       "  'g': 16.0,\n",
       "  'drives': 171.0,\n",
       "  'play_count_tip': 1041.0,\n",
       "  'score_pct': 36.0,\n",
       "  'turnover_pct': 11.0,\n",
       "  'plays_per_drive': 6.1,\n",
       "  'yds_per_drive': 31.1,\n",
       "  'yards_from_endzone_avg': 70.1,\n",
       "  'sec_avg': 170,\n",
       "  'points_avg': 2.02},\n",
       " {'ranker': 32.0,\n",
       "  'team_id': 'atl',\n",
       "  'team_name': 'Atlanta Falcons',\n",
       "  'g': 16.0,\n",
       "  'drives': 165.0,\n",
       "  'play_count_tip': 1027.0,\n",
       "  'score_pct': 41.0,\n",
       "  'turnover_pct': 10.0,\n",
       "  'plays_per_drive': 6.2,\n",
       "  'yds_per_drive': 35.3,\n",
       "  'yards_from_endzone_avg': 74.1,\n",
       "  'sec_avg': 174,\n",
       "  'points_avg': 2.06}]"
      ]
     },
     "execution_count": 347,
     "metadata": {},
     "output_type": "execute_result"
    }
   ],
   "source": [
    "stat_list"
   ]
  },
  {
   "cell_type": "code",
   "execution_count": 250,
   "metadata": {
    "ExecuteTime": {
     "end_time": "2018-10-02T01:38:51.137106Z",
     "start_time": "2018-10-02T01:38:51.129896Z"
    }
   },
   "outputs": [],
   "source": [
    "stat_list = []\n",
    "for row in div_dict['all_nfc_playoff_standings'][1:]:\n",
    "    cells = row.contents\n",
    "    if cells[0].a is not None:\n",
    "        stat_dict = {}\n",
    "        for cell in cells:\n",
    "            lbl = cell['data-stat']\n",
    "            cell_str = cell.string\n",
    "            if lbl in ['team']:\n",
    "                stat_dict = id_name_add(cell.a.next, stat_dict, lbl)\n",
    "            else:\n",
    "                stat_dict[cell['data-stat']] = cell_str\n",
    "        stat_list.append(stat_dict)\n",
    "        break\n",
    "# 'all_afc_playoff_standings', 'all_nfc_playoff_standings"
   ]
  },
  {
   "cell_type": "code",
   "execution_count": 253,
   "metadata": {
    "ExecuteTime": {
     "end_time": "2018-10-02T01:38:59.540801Z",
     "start_time": "2018-10-02T01:38:59.534061Z"
    }
   },
   "outputs": [
    {
     "data": {
      "text/plain": [
       "'th'"
      ]
     },
     "execution_count": 253,
     "metadata": {},
     "output_type": "execute_result"
    }
   ],
   "source": [
    "cells[0].name"
   ]
  },
  {
   "cell_type": "code",
   "execution_count": 242,
   "metadata": {
    "ExecuteTime": {
     "end_time": "2018-10-02T01:31:56.124839Z",
     "start_time": "2018-10-02T01:31:56.117590Z"
    }
   },
   "outputs": [
    {
     "data": {
      "text/plain": [
       "[]"
      ]
     },
     "execution_count": 242,
     "metadata": {},
     "output_type": "execute_result"
    }
   ],
   "source": [
    "stat_list"
   ]
  },
  {
   "cell_type": "code",
   "execution_count": 360,
   "metadata": {
    "ExecuteTime": {
     "end_time": "2018-10-02T12:58:52.886704Z",
     "start_time": "2018-10-02T12:58:52.845589Z"
    },
    "scrolled": true
   },
   "outputs": [],
   "source": [
    "stat_list = []\n",
    "for row in div_dict['all_playoff_results'][1:]:\n",
    "    cells = row.contents\n",
    "    stat_dict = {}\n",
    "    for cell in cells:\n",
    "        if cells[0].name is not None:\n",
    "            lbl = cell['data-stat']\n",
    "            cell_str = cell.string\n",
    "            if lbl in ['team', 'loser', 'winner']:\n",
    "                stat_dict = id_name_add(cell.a, stat_dict, lbl)\n",
    "            elif lbl in ['game_location']:\n",
    "                if cell_str is None:\n",
    "                    stat_dict[cell['data-stat']] = 'winner'\n",
    "                else:\n",
    "                    stat_dict[cell['data-stat']] = 'loser'\n",
    "            elif lbl in ['boxscore_word']:\n",
    "                stat_dict['boxscore'] = cell.a['href']\n",
    "            else:\n",
    "                stat_dict[cell['data-stat']] = cell_str\n",
    "    stat_list.append(stat_dict)\n",
    "#     break\n",
    "            \n",
    "            \n",
    "# 'all_playoff_results'"
   ]
  },
  {
   "cell_type": "code",
   "execution_count": 361,
   "metadata": {
    "ExecuteTime": {
     "end_time": "2018-10-02T12:58:55.750064Z",
     "start_time": "2018-10-02T12:58:55.737563Z"
    }
   },
   "outputs": [
    {
     "data": {
      "text/plain": [
       "[{'week_num': 'WildCard',\n",
       "  'game_day_of_week': 'Sat',\n",
       "  'game_date': 'January 6',\n",
       "  'winner_id': 'atl',\n",
       "  'winner_name': 'Atlanta Falcons',\n",
       "  'game_location': 'loser',\n",
       "  'loser_id': 'ram',\n",
       "  'loser_name': 'Los Angeles Rams',\n",
       "  'boxscore': '/boxscores/201801060ram.htm',\n",
       "  'pts_win': '26',\n",
       "  'pts_lose': '13'},\n",
       " {'week_num': 'WildCard',\n",
       "  'game_day_of_week': 'Sat',\n",
       "  'game_date': 'January 6',\n",
       "  'winner_id': 'oti',\n",
       "  'winner_name': 'Tennessee Titans',\n",
       "  'game_location': 'loser',\n",
       "  'loser_id': 'kan',\n",
       "  'loser_name': 'Kansas City Chiefs',\n",
       "  'boxscore': '/boxscores/201801060kan.htm',\n",
       "  'pts_win': '22',\n",
       "  'pts_lose': '21'},\n",
       " {'week_num': 'WildCard',\n",
       "  'game_day_of_week': 'Sun',\n",
       "  'game_date': 'January 7',\n",
       "  'winner_id': 'jax',\n",
       "  'winner_name': 'Jacksonville Jaguars',\n",
       "  'game_location': 'winner',\n",
       "  'loser_id': 'buf',\n",
       "  'loser_name': 'Buffalo Bills',\n",
       "  'boxscore': '/boxscores/201801070jax.htm',\n",
       "  'pts_win': '10',\n",
       "  'pts_lose': '3'},\n",
       " {'week_num': 'WildCard',\n",
       "  'game_day_of_week': 'Sun',\n",
       "  'game_date': 'January 7',\n",
       "  'winner_id': 'nor',\n",
       "  'winner_name': 'New Orleans Saints',\n",
       "  'game_location': 'winner',\n",
       "  'loser_id': 'car',\n",
       "  'loser_name': 'Carolina Panthers',\n",
       "  'boxscore': '/boxscores/201801070nor.htm',\n",
       "  'pts_win': '31',\n",
       "  'pts_lose': '26'},\n",
       " {'week_num': 'Division',\n",
       "  'game_day_of_week': 'Sat',\n",
       "  'game_date': 'January 13',\n",
       "  'winner_id': 'phi',\n",
       "  'winner_name': 'Philadelphia Eagles',\n",
       "  'game_location': 'winner',\n",
       "  'loser_id': 'atl',\n",
       "  'loser_name': 'Atlanta Falcons',\n",
       "  'boxscore': '/boxscores/201801130phi.htm',\n",
       "  'pts_win': '15',\n",
       "  'pts_lose': '10'},\n",
       " {'week_num': 'Division',\n",
       "  'game_day_of_week': 'Sat',\n",
       "  'game_date': 'January 13',\n",
       "  'winner_id': 'nwe',\n",
       "  'winner_name': 'New England Patriots',\n",
       "  'game_location': 'winner',\n",
       "  'loser_id': 'oti',\n",
       "  'loser_name': 'Tennessee Titans',\n",
       "  'boxscore': '/boxscores/201801130nwe.htm',\n",
       "  'pts_win': '35',\n",
       "  'pts_lose': '14'},\n",
       " {'week_num': 'Division',\n",
       "  'game_day_of_week': 'Sun',\n",
       "  'game_date': 'January 14',\n",
       "  'winner_id': 'min',\n",
       "  'winner_name': 'Minnesota Vikings',\n",
       "  'game_location': 'winner',\n",
       "  'loser_id': 'nor',\n",
       "  'loser_name': 'New Orleans Saints',\n",
       "  'boxscore': '/boxscores/201801140min.htm',\n",
       "  'pts_win': '29',\n",
       "  'pts_lose': '24'},\n",
       " {'week_num': 'Division',\n",
       "  'game_day_of_week': 'Sun',\n",
       "  'game_date': 'January 14',\n",
       "  'winner_id': 'jax',\n",
       "  'winner_name': 'Jacksonville Jaguars',\n",
       "  'game_location': 'loser',\n",
       "  'loser_id': 'pit',\n",
       "  'loser_name': 'Pittsburgh Steelers',\n",
       "  'boxscore': '/boxscores/201801140pit.htm',\n",
       "  'pts_win': '45',\n",
       "  'pts_lose': '42'},\n",
       " {'week_num': 'ConfChamp',\n",
       "  'game_day_of_week': 'Sun',\n",
       "  'game_date': 'January 21',\n",
       "  'winner_id': 'nwe',\n",
       "  'winner_name': 'New England Patriots',\n",
       "  'game_location': 'winner',\n",
       "  'loser_id': 'jax',\n",
       "  'loser_name': 'Jacksonville Jaguars',\n",
       "  'boxscore': '/boxscores/201801210nwe.htm',\n",
       "  'pts_win': '24',\n",
       "  'pts_lose': '20'},\n",
       " {'week_num': 'ConfChamp',\n",
       "  'game_day_of_week': 'Sun',\n",
       "  'game_date': 'January 21',\n",
       "  'winner_id': 'phi',\n",
       "  'winner_name': 'Philadelphia Eagles',\n",
       "  'game_location': 'winner',\n",
       "  'loser_id': 'min',\n",
       "  'loser_name': 'Minnesota Vikings',\n",
       "  'boxscore': '/boxscores/201801210phi.htm',\n",
       "  'pts_win': '38',\n",
       "  'pts_lose': '7'},\n",
       " {'week_num': 'SuperBowl',\n",
       "  'game_day_of_week': 'Sun',\n",
       "  'game_date': 'February 4',\n",
       "  'winner_id': 'phi',\n",
       "  'winner_name': 'Philadelphia Eagles',\n",
       "  'game_location': 'loser',\n",
       "  'loser_id': 'nwe',\n",
       "  'loser_name': 'New England Patriots',\n",
       "  'boxscore': '/boxscores/201802040nwe.htm',\n",
       "  'pts_win': '41',\n",
       "  'pts_lose': '33'}]"
      ]
     },
     "execution_count": 361,
     "metadata": {},
     "output_type": "execute_result"
    }
   ],
   "source": [
    "stat_list"
   ]
  },
  {
   "cell_type": "code",
   "execution_count": 162,
   "metadata": {
    "ExecuteTime": {
     "end_time": "2018-10-02T01:00:09.029173Z",
     "start_time": "2018-10-02T01:00:09.021101Z"
    }
   },
   "outputs": [
    {
     "data": {
      "text/plain": [
       "'den'"
      ]
     },
     "execution_count": 162,
     "metadata": {},
     "output_type": "execute_result"
    }
   ],
   "source": [
    "aa = cells[0].a['href']\n",
    "re.findall('[^a-z]([a-z]{3})[^a-z]',aa)[0]"
   ]
  },
  {
   "cell_type": "code",
   "execution_count": 170,
   "metadata": {
    "ExecuteTime": {
     "end_time": "2018-10-02T01:01:34.313999Z",
     "start_time": "2018-10-02T01:01:34.299967Z"
    }
   },
   "outputs": [
    {
     "data": {
      "text/html": [
       "<div>\n",
       "<style scoped>\n",
       "    .dataframe tbody tr th:only-of-type {\n",
       "        vertical-align: middle;\n",
       "    }\n",
       "\n",
       "    .dataframe tbody tr th {\n",
       "        vertical-align: top;\n",
       "    }\n",
       "\n",
       "    .dataframe thead th {\n",
       "        text-align: right;\n",
       "    }\n",
       "</style>\n",
       "<table border=\"1\" class=\"dataframe\">\n",
       "  <thead>\n",
       "    <tr style=\"text-align: right;\">\n",
       "      <th></th>\n",
       "    </tr>\n",
       "  </thead>\n",
       "  <tbody>\n",
       "  </tbody>\n",
       "</table>\n",
       "</div>"
      ],
      "text/plain": [
       "Empty DataFrame\n",
       "Columns: []\n",
       "Index: []"
      ]
     },
     "execution_count": 170,
     "metadata": {},
     "output_type": "execute_result"
    }
   ],
   "source": [
    "pd.DataFrame(stat_list)"
   ]
  },
  {
   "cell_type": "code",
   "execution_count": 120,
   "metadata": {
    "ExecuteTime": {
     "end_time": "2018-10-02T00:33:28.443170Z",
     "start_time": "2018-10-02T00:33:28.435175Z"
    }
   },
   "outputs": [
    {
     "data": {
      "text/plain": [
       "'New England Patriots'"
      ]
     },
     "execution_count": 120,
     "metadata": {},
     "output_type": "execute_result"
    }
   ],
   "source": [
    "cells[0].a.string"
   ]
  },
  {
   "cell_type": "code",
   "execution_count": 121,
   "metadata": {
    "ExecuteTime": {
     "end_time": "2018-10-02T00:33:32.836712Z",
     "start_time": "2018-10-02T00:33:32.826628Z"
    }
   },
   "outputs": [
    {
     "data": {
      "text/plain": [
       "True"
      ]
     },
     "execution_count": 121,
     "metadata": {},
     "output_type": "execute_result"
    }
   ],
   "source": [
    "div_dict['all_AFC'][6].contents[0].a is None"
   ]
  },
  {
   "cell_type": "code",
   "execution_count": 92,
   "metadata": {
    "ExecuteTime": {
     "end_time": "2018-10-01T20:49:50.101480Z",
     "start_time": "2018-10-01T20:49:50.065724Z"
    }
   },
   "outputs": [],
   "source": [
    "tst = soup.find('div', {'id':'all_awards'})\n",
    "comments = tst.find_all(string=lambda text: isinstance(text, Comment))\n",
    "table = BeautifulSoup(str(comments), 'lxml')\n",
    "vals = table.find_all('a')\n",
    "val_dict = {}\n",
    "for i in range(0,len(vals),2):\n",
    "    val_dict[vals[i].string] = {'award_id': vals[i]['href'].split('/')[-1].split('.')[0], 'player_name': vals[i+1].string, 'player_id': vals[i+1]['href'].split('/')[-1].split('.')[0]}"
   ]
  },
  {
   "cell_type": "code",
   "execution_count": 93,
   "metadata": {
    "ExecuteTime": {
     "end_time": "2018-10-01T20:49:50.856247Z",
     "start_time": "2018-10-01T20:49:50.846874Z"
    }
   },
   "outputs": [
    {
     "data": {
      "text/plain": [
       "{'AP MVP': {'award_id': 'award_apmvp',\n",
       "  'player_name': 'Tom Brady',\n",
       "  'player_id': 'BradTo00'},\n",
       " 'PFWA MVP': {'award_id': 'award_pfwamvp',\n",
       "  'player_name': 'Tom Brady',\n",
       "  'player_id': 'BradTo00'},\n",
       " 'Bert Bell Award (Player of the Year)': {'award_id': 'award_bba',\n",
       "  'player_name': 'Carson Wentz',\n",
       "  'player_id': 'WentCa00'},\n",
       " 'AP Offensive Player of the Year': {'award_id': 'award_apopoy',\n",
       "  'player_name': 'Todd Gurley',\n",
       "  'player_id': 'GurlTo01'},\n",
       " 'AP Defensive Player of the Year': {'award_id': 'award_apdpoy',\n",
       "  'player_name': 'Aaron Donald',\n",
       "  'player_id': 'DonaAa00'},\n",
       " 'Super Bowl MVP': {'award_id': 'award_sbmvp',\n",
       "  'player_name': 'Nick Foles',\n",
       "  'player_id': 'FoleNi00'},\n",
       " 'AP Offensive Rookie of the Year': {'award_id': 'award_aporoy',\n",
       "  'player_name': 'Alvin Kamara',\n",
       "  'player_id': 'KamaAl00'},\n",
       " 'AP Defensive Rookie of the Year': {'award_id': 'award_apdroy',\n",
       "  'player_name': 'Marshon Lattimore',\n",
       "  'player_id': 'LattMa01'},\n",
       " 'Walter Payton Man of the Year': {'award_id': 'award_wpmoy',\n",
       "  'player_name': 'J.J. Watt',\n",
       "  'player_id': 'WattJ'},\n",
       " 'AP Comeback Player of the Year': {'award_id': 'award_apcpoy',\n",
       "  'player_name': 'Keenan Allen',\n",
       "  'player_id': 'AlleKe00'}}"
      ]
     },
     "execution_count": 93,
     "metadata": {},
     "output_type": "execute_result"
    }
   ],
   "source": [
    "val_dict"
   ]
  },
  {
   "cell_type": "code",
   "execution_count": 30,
   "metadata": {
    "ExecuteTime": {
     "end_time": "2018-10-01T20:34:40.553841Z",
     "start_time": "2018-10-01T20:34:40.510589Z"
    }
   },
   "outputs": [],
   "source": [
    "tr = soup.find('div', {'id':'all_playoff_results'})\n",
    "comments = tr.find_all(string=lambda text: isinstance(text, Comment))\n",
    "table = BeautifulSoup(str(comments), 'lxml')\n",
    "rows = table.find_all('tr')"
   ]
  },
  {
   "cell_type": "code",
   "execution_count": 61,
   "metadata": {
    "ExecuteTime": {
     "end_time": "2018-10-01T20:38:28.368777Z",
     "start_time": "2018-10-01T20:38:28.359237Z"
    },
    "scrolled": true
   },
   "outputs": [
    {
     "data": {
      "text/plain": [
       "<tr class=\"over_header\">\\n         <th aria-label=\"\" class=\" over_header center\" colspan=\"2\" data-stat=\"\"></th><th></th>\\n         <th aria-label=\"\" class=\" over_header center\" colspan=\"4\" data-stat=\"\"></th>\\n         <th aria-label=\"\" class=\" over_header center\" colspan=\"5\" data-stat=\"averages\">Average Drive</th>\\n      </tr>"
      ]
     },
     "execution_count": 61,
     "metadata": {},
     "output_type": "execute_result"
    }
   ],
   "source": [
    "div_dict['all_drives'][0]"
   ]
  },
  {
   "cell_type": "code",
   "execution_count": null,
   "metadata": {},
   "outputs": [],
   "source": []
  },
  {
   "cell_type": "code",
   "execution_count": 52,
   "metadata": {
    "ExecuteTime": {
     "end_time": "2018-10-01T20:37:46.241790Z",
     "start_time": "2018-10-01T20:37:46.234657Z"
    },
    "scrolled": true
   },
   "outputs": [
    {
     "data": {
      "text/plain": [
       "[]"
      ]
     },
     "execution_count": 52,
     "metadata": {},
     "output_type": "execute_result"
    }
   ],
   "source": [
    "div_dict['all_team_stats']"
   ]
  },
  {
   "cell_type": "code",
   "execution_count": 11,
   "metadata": {
    "ExecuteTime": {
     "end_time": "2018-10-01T20:19:07.392461Z",
     "start_time": "2018-10-01T20:19:07.362749Z"
    }
   },
   "outputs": [
    {
     "data": {
      "text/plain": [
       "<div class=\"table_wrapper setup_commented commented\" id=\"all_playoff_results\">\n",
       "<div class=\"section_heading\">\n",
       "<span class=\"section_anchor\" data-label=\"Playoff Results\" id=\"playoff_results_link\"></span><h2>Playoff Results</h2> <div class=\"section_heading_text\">\n",
       "<ul>\n",
       "</ul>\n",
       "</div>\n",
       "</div>\n",
       "<div class=\"placeholder\"></div>\n",
       "<!--\n",
       "   <div class=\"table_outer_container\">\n",
       "      <div class=\"overthrow table_container\" id=\"div_playoff_results\">\n",
       "  <table class=\"sortable stats_table\" id=\"playoff_results\" data-cols-to-freeze=1><caption>Playoff Results Table</caption>\n",
       "   <colgroup><col><col><col><col><col><col><col><col><col></colgroup>\n",
       "   <thead>      \n",
       "      <tr>\n",
       "         <th aria-label=\"Week number in season\" data-stat=\"week_num\" scope=\"col\" class=\" poptip sort_default_asc sorttable_nosort center\" data-tip=\"Week number in season\" >Week</th>\n",
       "         <th aria-label=\"Day\" data-stat=\"game_day_of_week\" scope=\"col\" class=\" poptip sort_default_asc left\" >Day</th>\n",
       "         <th aria-label=\"Date\" data-stat=\"game_date\" scope=\"col\" class=\" poptip sort_default_asc center\" >Date</th>\n",
       "         <th aria-label=\"Winner/tie\" data-stat=\"winner\" scope=\"col\" class=\" poptip sort_default_asc center\" >Winner/tie</th>\n",
       "         <th aria-label=\"game_location\" data-stat=\"game_location\" scope=\"col\" class=\" poptip sort_default_asc center\" ></th>\n",
       "         <th aria-label=\"Loser/tie\" data-stat=\"loser\" scope=\"col\" class=\" poptip sort_default_asc center\" >Loser/tie</th>\n",
       "         <th aria-label=\"boxscore_word\" data-stat=\"boxscore_word\" scope=\"col\" class=\" poptip sort_default_asc center\" ></th>\n",
       "         <th aria-label=\"Points Scored by the winning team (first one listed)\" data-stat=\"pts_win\" scope=\"col\" class=\" poptip center\" data-tip=\"Points Scored by the winning team (first one listed)\" >PtsW</th>\n",
       "         <th aria-label=\"Points Scored by the losing team (second one listed)\" data-stat=\"pts_lose\" scope=\"col\" class=\" poptip center\" data-tip=\"Points Scored by the losing team (second one listed)\" >PtsL</th>\n",
       "      </tr>\n",
       "      \n",
       "   </thead>\n",
       "   <tbody>\n",
       "<tr ><th scope=\"row\" class=\"right \" data-stat=\"week_num\" csk=\"31\" >WildCard</th><td class=\"left \" data-stat=\"game_day_of_week\" >Sat</td><td class=\"left \" data-stat=\"game_date\" csk=\"zz1\" >January 6</td><td class=\"left \" data-stat=\"winner\" ><strong><a href=\"/teams/atl/2017.htm\">Atlanta Falcons</a></strong></td><td class=\"right \" data-stat=\"game_location\" >@</td><td class=\"left \" data-stat=\"loser\" ><a href=\"/teams/ram/2017.htm\">Los Angeles Rams</a></td><td class=\"center \" data-stat=\"boxscore_word\" ><a href=\"/boxscores/201801060ram.htm\">boxscore</a></td><td class=\"right \" data-stat=\"pts_win\" ><strong>26</strong></td><td class=\"right \" data-stat=\"pts_lose\" >13</td></tr>\n",
       "<tr ><th scope=\"row\" class=\"right \" data-stat=\"week_num\" csk=\"31\" >WildCard</th><td class=\"left \" data-stat=\"game_day_of_week\" >Sat</td><td class=\"left \" data-stat=\"game_date\" csk=\"zz1\" >January 6</td><td class=\"left \" data-stat=\"winner\" ><strong><a href=\"/teams/oti/2017.htm\">Tennessee Titans</a></strong></td><td class=\"right \" data-stat=\"game_location\" >@</td><td class=\"left \" data-stat=\"loser\" ><a href=\"/teams/kan/2017.htm\">Kansas City Chiefs</a></td><td class=\"center \" data-stat=\"boxscore_word\" ><a href=\"/boxscores/201801060kan.htm\">boxscore</a></td><td class=\"right \" data-stat=\"pts_win\" ><strong>22</strong></td><td class=\"right \" data-stat=\"pts_lose\" >21</td></tr>\n",
       "<tr ><th scope=\"row\" class=\"right \" data-stat=\"week_num\" csk=\"31\" >WildCard</th><td class=\"left \" data-stat=\"game_day_of_week\" >Sun</td><td class=\"left \" data-stat=\"game_date\" csk=\"zz1\" >January 7</td><td class=\"left \" data-stat=\"winner\" ><strong><a href=\"/teams/jax/2017.htm\">Jacksonville Jaguars</a></strong></td><td class=\"right \" data-stat=\"game_location\" ></td><td class=\"left \" data-stat=\"loser\" ><a href=\"/teams/buf/2017.htm\">Buffalo Bills</a></td><td class=\"center \" data-stat=\"boxscore_word\" ><a href=\"/boxscores/201801070jax.htm\">boxscore</a></td><td class=\"right \" data-stat=\"pts_win\" ><strong>10</strong></td><td class=\"right \" data-stat=\"pts_lose\" >3</td></tr>\n",
       "<tr ><th scope=\"row\" class=\"right \" data-stat=\"week_num\" csk=\"31\" >WildCard</th><td class=\"left \" data-stat=\"game_day_of_week\" >Sun</td><td class=\"left \" data-stat=\"game_date\" csk=\"zz1\" >January 7</td><td class=\"left \" data-stat=\"winner\" ><strong><a href=\"/teams/nor/2017.htm\">New Orleans Saints</a></strong></td><td class=\"right \" data-stat=\"game_location\" ></td><td class=\"left \" data-stat=\"loser\" ><a href=\"/teams/car/2017.htm\">Carolina Panthers</a></td><td class=\"center \" data-stat=\"boxscore_word\" ><a href=\"/boxscores/201801070nor.htm\">boxscore</a></td><td class=\"right \" data-stat=\"pts_win\" ><strong>31</strong></td><td class=\"right \" data-stat=\"pts_lose\" >26</td></tr>\n",
       "<tr ><th scope=\"row\" class=\"right \" data-stat=\"week_num\" csk=\"32\" >Division</th><td class=\"left \" data-stat=\"game_day_of_week\" >Sat</td><td class=\"left \" data-stat=\"game_date\" csk=\"zz3\" >January 13</td><td class=\"left \" data-stat=\"winner\" ><strong><a href=\"/teams/phi/2017.htm\">Philadelphia Eagles</a></strong></td><td class=\"right \" data-stat=\"game_location\" ></td><td class=\"left \" data-stat=\"loser\" ><a href=\"/teams/atl/2017.htm\">Atlanta Falcons</a></td><td class=\"center \" data-stat=\"boxscore_word\" ><a href=\"/boxscores/201801130phi.htm\">boxscore</a></td><td class=\"right \" data-stat=\"pts_win\" ><strong>15</strong></td><td class=\"right \" data-stat=\"pts_lose\" >10</td></tr>\n",
       "<tr ><th scope=\"row\" class=\"right \" data-stat=\"week_num\" csk=\"32\" >Division</th><td class=\"left \" data-stat=\"game_day_of_week\" >Sat</td><td class=\"left \" data-stat=\"game_date\" csk=\"zz3\" >January 13</td><td class=\"left \" data-stat=\"winner\" ><strong><a href=\"/teams/nwe/2017.htm\">New England Patriots</a></strong></td><td class=\"right \" data-stat=\"game_location\" ></td><td class=\"left \" data-stat=\"loser\" ><a href=\"/teams/oti/2017.htm\">Tennessee Titans</a></td><td class=\"center \" data-stat=\"boxscore_word\" ><a href=\"/boxscores/201801130nwe.htm\">boxscore</a></td><td class=\"right \" data-stat=\"pts_win\" ><strong>35</strong></td><td class=\"right \" data-stat=\"pts_lose\" >14</td></tr>\n",
       "<tr ><th scope=\"row\" class=\"right \" data-stat=\"week_num\" csk=\"32\" >Division</th><td class=\"left \" data-stat=\"game_day_of_week\" >Sun</td><td class=\"left \" data-stat=\"game_date\" csk=\"zz3\" >January 14</td><td class=\"left \" data-stat=\"winner\" ><strong><a href=\"/teams/min/2017.htm\">Minnesota Vikings</a></strong></td><td class=\"right \" data-stat=\"game_location\" ></td><td class=\"left \" data-stat=\"loser\" ><a href=\"/teams/nor/2017.htm\">New Orleans Saints</a></td><td class=\"center \" data-stat=\"boxscore_word\" ><a href=\"/boxscores/201801140min.htm\">boxscore</a></td><td class=\"right \" data-stat=\"pts_win\" ><strong>29</strong></td><td class=\"right \" data-stat=\"pts_lose\" >24</td></tr>\n",
       "<tr ><th scope=\"row\" class=\"right \" data-stat=\"week_num\" csk=\"32\" >Division</th><td class=\"left \" data-stat=\"game_day_of_week\" >Sun</td><td class=\"left \" data-stat=\"game_date\" csk=\"zz3\" >January 14</td><td class=\"left \" data-stat=\"winner\" ><strong><a href=\"/teams/jax/2017.htm\">Jacksonville Jaguars</a></strong></td><td class=\"right \" data-stat=\"game_location\" >@</td><td class=\"left \" data-stat=\"loser\" ><a href=\"/teams/pit/2017.htm\">Pittsburgh Steelers</a></td><td class=\"center \" data-stat=\"boxscore_word\" ><a href=\"/boxscores/201801140pit.htm\">boxscore</a></td><td class=\"right \" data-stat=\"pts_win\" ><strong>45</strong></td><td class=\"right \" data-stat=\"pts_lose\" >42</td></tr>\n",
       "<tr ><th scope=\"row\" class=\"right \" data-stat=\"week_num\" csk=\"33\" >ConfChamp</th><td class=\"left \" data-stat=\"game_day_of_week\" >Sun</td><td class=\"left \" data-stat=\"game_date\" csk=\"zz5\" >January 21</td><td class=\"left \" data-stat=\"winner\" ><strong><a href=\"/teams/nwe/2017.htm\">New England Patriots</a></strong></td><td class=\"right \" data-stat=\"game_location\" ></td><td class=\"left \" data-stat=\"loser\" ><a href=\"/teams/jax/2017.htm\">Jacksonville Jaguars</a></td><td class=\"center \" data-stat=\"boxscore_word\" ><a href=\"/boxscores/201801210nwe.htm\">boxscore</a></td><td class=\"right \" data-stat=\"pts_win\" ><strong>24</strong></td><td class=\"right \" data-stat=\"pts_lose\" >20</td></tr>\n",
       "<tr ><th scope=\"row\" class=\"right \" data-stat=\"week_num\" csk=\"33\" >ConfChamp</th><td class=\"left \" data-stat=\"game_day_of_week\" >Sun</td><td class=\"left \" data-stat=\"game_date\" csk=\"zz5\" >January 21</td><td class=\"left \" data-stat=\"winner\" ><strong><a href=\"/teams/phi/2017.htm\">Philadelphia Eagles</a></strong></td><td class=\"right \" data-stat=\"game_location\" ></td><td class=\"left \" data-stat=\"loser\" ><a href=\"/teams/min/2017.htm\">Minnesota Vikings</a></td><td class=\"center \" data-stat=\"boxscore_word\" ><a href=\"/boxscores/201801210phi.htm\">boxscore</a></td><td class=\"right \" data-stat=\"pts_win\" ><strong>38</strong></td><td class=\"right \" data-stat=\"pts_lose\" >7</td></tr>\n",
       "<tr ><th scope=\"row\" class=\"right \" data-stat=\"week_num\" csk=\"34\" >SuperBowl</th><td class=\"left \" data-stat=\"game_day_of_week\" >Sun</td><td class=\"left \" data-stat=\"game_date\" csk=\"zz8\" >February 4</td><td class=\"left \" data-stat=\"winner\" ><strong><a href=\"/teams/phi/2017.htm\">Philadelphia Eagles</a></strong></td><td class=\"right \" data-stat=\"game_location\" >N</td><td class=\"left \" data-stat=\"loser\" ><a href=\"/teams/nwe/2017.htm\">New England Patriots</a></td><td class=\"center \" data-stat=\"boxscore_word\" ><a href=\"/boxscores/201802040nwe.htm\">boxscore</a></td><td class=\"right \" data-stat=\"pts_win\" ><strong>41</strong></td><td class=\"right \" data-stat=\"pts_lose\" >33</td></tr>\n",
       "\n",
       "</tbody></table>\n",
       "\n",
       "      </div>\n",
       "   </div>\n",
       "-->\n",
       "</div>"
      ]
     },
     "execution_count": 11,
     "metadata": {},
     "output_type": "execute_result"
    }
   ],
   "source": [
    "# afc_div = soup.find('div', {'id':'all_AFC'})\n",
    "# nfc_div = soup.find('div', {'id':'all_NFC'})\n",
    "# playoff_div = soup.find('div', {'id':'all_playoff_results'})\n",
    "# all_AFC\n",
    "# all_NFC\n",
    "# all_playoff_results\n",
    "# all_afc_playoff_standings\n",
    "# all_nfc_playoff_standings\n",
    "# all_week_games\n",
    "# all_awards\n",
    "# all_team_stats\n",
    "# all_passing\n",
    "# all_rushing\n",
    "# all_returns\n",
    "# all_kicking\n",
    "# all_team_scoring\n",
    "# all_team_conversions\n",
    "# all_drives\n",
    "playoff_div    "
   ]
  },
  {
   "cell_type": "code",
   "execution_count": 8,
   "metadata": {
    "ExecuteTime": {
     "end_time": "2018-10-01T20:14:41.187332Z",
     "start_time": "2018-10-01T20:14:41.072709Z"
    }
   },
   "outputs": [
    {
     "data": {
      "text/plain": [
       "<div class=\"table_wrapper floated columns\" id=\"all_AFC\">\n",
       "<div class=\"section_heading\">\n",
       "<span class=\"section_anchor\" data-label=\"AFC Standings\" id=\"AFC_link\"></span><h2>AFC Standings</h2> <div class=\"section_heading_text\">\n",
       "<ul> <li>* - division winner, + - wild card</li>\n",
       "</ul>\n",
       "</div>\n",
       "</div> <div class=\"table_outer_container\">\n",
       "<div class=\"overthrow table_container\" id=\"div_AFC\">\n",
       "<table class=\"sortable stats_table\" data-cols-to-freeze=\"1\" id=\"AFC\"><caption>AFC Standings Table</caption>\n",
       "<colgroup><col/><col/><col/><col/><col/><col/><col/><col/><col/><col/><col/><col/></colgroup>\n",
       "<thead>\n",
       "<tr>\n",
       "<th aria-label=\"Tm\" class=\" poptip sort_default_asc show_partial_when_sorting left\" data-stat=\"team\" scope=\"col\">Tm</th>\n",
       "<th aria-label=\"Wins\" class=\" poptip center\" data-stat=\"wins\" data-tip=\"Games Won\" scope=\"col\">W</th>\n",
       "<th aria-label=\"Losses\" class=\" poptip center\" data-stat=\"losses\" data-tip=\"Games Lost\" scope=\"col\">L</th>\n",
       "<th aria-label=\"Win-Loss Percentage of teamFor coaches, minimum to qualify for leading is 50 games.After 1972, ties are counted as half-wins and half-losses.Prior, the league didn\\'t count them as games in W-L% calculations.\" class=\" poptip hide_non_quals center\" data-stat=\"win_loss_perc\" data-tip=\"&lt;b&gt;Win-Loss Percentage of team&lt;/b&gt;&lt;br&gt;For coaches, minimum to qualify for leading is 50 games.&lt;br&gt;After 1972, ties are counted as half-wins and half-losses.&lt;br&gt;Prior, the league didn\\'t count them as games in W-L% calculations.\" scope=\"col\">W-L%</th>\n",
       "<th aria-label=\"Points For\" class=\" poptip center\" data-stat=\"points\" data-tip=\"Points Scored by team\" scope=\"col\">PF</th>\n",
       "<th aria-label=\"Points Allowed\" class=\" poptip center\" data-stat=\"points_opp\" data-tip=\"Points Scored by opposition\" scope=\"col\">PA</th>\n",
       "<th aria-label=\"Points Differential\" class=\" poptip center\" data-stat=\"points_diff\" data-tip=\"&lt;b&gt;Points Differential&lt;/b&gt;&lt;br&gt;Points Scored - Points Allowed\" scope=\"col\">PD</th>\n",
       "<th aria-label=\"Margin of Victory(Points Scored - Points Allowed)/ Games Played\" class=\" poptip center\" data-stat=\"mov\" data-tip=\"&lt;b&gt;Margin of Victory&lt;/b&gt;&lt;br&gt;(Points Scored - Points Allowed)/ Games Played\" scope=\"col\">MoV</th>\n",
       "<th aria-label=\"Strength of ScheduleAverage quality of opponent as measured by SRS (Simple Rating System)\" class=\" poptip center\" data-stat=\"sos_total\" data-tip=\"&lt;b&gt;Strength of Schedule&lt;/b&gt;&lt;br&gt;Average quality of opponent as measured by SRS (Simple Rating System)\" scope=\"col\">SoS</th>\n",
       "<th aria-label=\"Simple Rating SystemTeam quality relative to average (0.0) as measured by SRS (Simple Rating System)SRS = MoV + SoS = OSRS + DSRSThe difference in SRS can be considered a point spread (add about 2 pt for HFA)\" class=\" poptip center\" data-stat=\"srs_total\" data-tip=\"&lt;b&gt;Simple Rating System&lt;/b&gt;&lt;br&gt;Team quality relative to average (0.0) as measured by SRS (Simple Rating System)&lt;br&gt;SRS = MoV + SoS = OSRS + DSRS&lt;br&gt;The difference in SRS can be considered a point spread (add about 2 pt for HFA)\" scope=\"col\">SRS</th>\n",
       "<th aria-label=\"Offensive SRSTeam offense quality relative to average (0.0) as measured by SRS (Simple Rating System)\" class=\" poptip center\" data-stat=\"srs_offense\" data-tip=\"&lt;b&gt;Offensive SRS&lt;/b&gt;&lt;br&gt;Team offense quality relative to average (0.0) as measured by SRS (Simple Rating System)\" scope=\"col\">OSRS</th>\n",
       "<th aria-label=\"Defensive SRSTeam defense quality relative to average (0.0) as measured by SRS (Simple Rating System)\" class=\" poptip center\" data-stat=\"srs_defense\" data-tip=\"&lt;b&gt;Defensive SRS&lt;/b&gt;&lt;br&gt;Team defense quality relative to average (0.0) as measured by SRS (Simple Rating System)\" scope=\"col\">DSRS</th>\n",
       "</tr>\n",
       "</thead>\n",
       "<tbody>\n",
       "<tr class=\"thead onecell\"><td class=\"right left\" colspan=\"12\" data-stat=\"onecell\"> AFC East</td></tr>\n",
       "<tr><th class=\"left \" csk=\"1\" data-stat=\"team\" scope=\"row\"><a href=\"/teams/nwe/2017.htm\">New England Patriots</a>*</th><td class=\"right \" data-stat=\"wins\">13</td><td class=\"right \" data-stat=\"losses\">3</td><td class=\"right \" data-stat=\"win_loss_perc\">.813</td><td class=\"right \" data-stat=\"points\">458</td><td class=\"right \" data-stat=\"points_opp\">296</td><td class=\"right \" data-stat=\"points_diff\">162</td><td class=\"right \" data-stat=\"mov\">10.1</td><td class=\"right \" data-stat=\"sos_total\">-1.2</td><td class=\"right \" data-stat=\"srs_total\">8.9</td><td class=\"right \" data-stat=\"srs_offense\">6.3</td><td class=\"right \" data-stat=\"srs_defense\">2.6</td></tr>\n",
       "<tr><th class=\"left \" csk=\"2\" data-stat=\"team\" scope=\"row\"><a href=\"/teams/buf/2017.htm\">Buffalo Bills</a>+</th><td class=\"right \" data-stat=\"wins\">9</td><td class=\"right \" data-stat=\"losses\">7</td><td class=\"right \" data-stat=\"win_loss_perc\">.563</td><td class=\"right \" data-stat=\"points\">302</td><td class=\"right \" data-stat=\"points_opp\">359</td><td class=\"right \" data-stat=\"points_diff\">-57</td><td class=\"right \" data-stat=\"mov\">-3.6</td><td class=\"right \" data-stat=\"sos_total\">-0.5</td><td class=\"right \" data-stat=\"srs_total\">-4.0</td><td class=\"right \" data-stat=\"srs_offense\">-3.0</td><td class=\"right \" data-stat=\"srs_defense\">-1.0</td></tr>\n",
       "<tr><th class=\"left \" csk=\"3\" data-stat=\"team\" scope=\"row\"><a href=\"/teams/mia/2017.htm\">Miami Dolphins</a></th><td class=\"right \" data-stat=\"wins\">6</td><td class=\"right \" data-stat=\"losses\">10</td><td class=\"right \" data-stat=\"win_loss_perc\">.375</td><td class=\"right \" data-stat=\"points\">281</td><td class=\"right \" data-stat=\"points_opp\">393</td><td class=\"right \" data-stat=\"points_diff\">-112</td><td class=\"right \" data-stat=\"mov\">-7.0</td><td class=\"right \" data-stat=\"sos_total\">0.7</td><td class=\"right \" data-stat=\"srs_total\">-6.3</td><td class=\"right \" data-stat=\"srs_offense\">-3.9</td><td class=\"right \" data-stat=\"srs_defense\">-2.4</td></tr>\n",
       "<tr><th class=\"left \" csk=\"4\" data-stat=\"team\" scope=\"row\"><a href=\"/teams/nyj/2017.htm\">New York Jets</a></th><td class=\"right \" data-stat=\"wins\">5</td><td class=\"right \" data-stat=\"losses\">11</td><td class=\"right \" data-stat=\"win_loss_perc\">.313</td><td class=\"right \" data-stat=\"points\">298</td><td class=\"right \" data-stat=\"points_opp\">382</td><td class=\"right \" data-stat=\"points_diff\">-84</td><td class=\"right \" data-stat=\"mov\">-5.3</td><td class=\"right \" data-stat=\"sos_total\">0.3</td><td class=\"right \" data-stat=\"srs_total\">-4.9</td><td class=\"right \" data-stat=\"srs_offense\">-2.9</td><td class=\"right \" data-stat=\"srs_defense\">-2.1</td></tr>\n",
       "<tr class=\"thead onecell\"><td class=\"right left\" colspan=\"12\" data-stat=\"onecell\"> AFC North</td></tr>\n",
       "<tr><th class=\"left \" csk=\"6\" data-stat=\"team\" scope=\"row\"><a href=\"/teams/pit/2017.htm\">Pittsburgh Steelers</a>*</th><td class=\"right \" data-stat=\"wins\">13</td><td class=\"right \" data-stat=\"losses\">3</td><td class=\"right \" data-stat=\"win_loss_perc\">.813</td><td class=\"right \" data-stat=\"points\">406</td><td class=\"right \" data-stat=\"points_opp\">308</td><td class=\"right \" data-stat=\"points_diff\">98</td><td class=\"right \" data-stat=\"mov\">6.1</td><td class=\"right \" data-stat=\"sos_total\">-1.1</td><td class=\"right \" data-stat=\"srs_total\">5.0</td><td class=\"right \" data-stat=\"srs_offense\">3.2</td><td class=\"right \" data-stat=\"srs_defense\">1.8</td></tr>\n",
       "<tr><th class=\"left \" csk=\"7\" data-stat=\"team\" scope=\"row\"><a href=\"/teams/rav/2017.htm\">Baltimore Ravens</a></th><td class=\"right \" data-stat=\"wins\">9</td><td class=\"right \" data-stat=\"losses\">7</td><td class=\"right \" data-stat=\"win_loss_perc\">.563</td><td class=\"right \" data-stat=\"points\">395</td><td class=\"right \" data-stat=\"points_opp\">303</td><td class=\"right \" data-stat=\"points_diff\">92</td><td class=\"right \" data-stat=\"mov\">5.8</td><td class=\"right \" data-stat=\"sos_total\">-2.4</td><td class=\"right \" data-stat=\"srs_total\">3.4</td><td class=\"right \" data-stat=\"srs_offense\">2.2</td><td class=\"right \" data-stat=\"srs_defense\">1.2</td></tr>\n",
       "<tr><th class=\"left \" csk=\"8\" data-stat=\"team\" scope=\"row\"><a href=\"/teams/cin/2017.htm\">Cincinnati Bengals</a></th><td class=\"right \" data-stat=\"wins\">7</td><td class=\"right \" data-stat=\"losses\">9</td><td class=\"right \" data-stat=\"win_loss_perc\">.438</td><td class=\"right \" data-stat=\"points\">290</td><td class=\"right \" data-stat=\"points_opp\">349</td><td class=\"right \" data-stat=\"points_diff\">-59</td><td class=\"right \" data-stat=\"mov\">-3.7</td><td class=\"right \" data-stat=\"sos_total\">-1.3</td><td class=\"right \" data-stat=\"srs_total\">-5.0</td><td class=\"right \" data-stat=\"srs_offense\">-4.1</td><td class=\"right \" data-stat=\"srs_defense\">-0.9</td></tr>\n",
       "<tr><th class=\"left \" csk=\"9\" data-stat=\"team\" scope=\"row\"><a href=\"/teams/cle/2017.htm\">Cleveland Browns</a></th><td class=\"right \" data-stat=\"wins\">0</td><td class=\"right \" data-stat=\"losses\">16</td><td class=\"right \" data-stat=\"win_loss_perc\">.000</td><td class=\"right \" data-stat=\"points\">234</td><td class=\"right \" data-stat=\"points_opp\">410</td><td class=\"right \" data-stat=\"points_diff\">-176</td><td class=\"right \" data-stat=\"mov\">-11.0</td><td class=\"right \" data-stat=\"sos_total\">0.0</td><td class=\"right \" data-stat=\"srs_total\">-11.0</td><td class=\"right \" data-stat=\"srs_offense\">-6.8</td><td class=\"right \" data-stat=\"srs_defense\">-4.1</td></tr>\n",
       "<tr class=\"thead onecell\"><td class=\"right left\" colspan=\"12\" data-stat=\"onecell\"> AFC South</td></tr>\n",
       "<tr><th class=\"left \" csk=\"11\" data-stat=\"team\" scope=\"row\"><a href=\"/teams/jax/2017.htm\">Jacksonville Jaguars</a>*</th><td class=\"right \" data-stat=\"wins\">10</td><td class=\"right \" data-stat=\"losses\">6</td><td class=\"right \" data-stat=\"win_loss_perc\">.625</td><td class=\"right \" data-stat=\"points\">417</td><td class=\"right \" data-stat=\"points_opp\">268</td><td class=\"right \" data-stat=\"points_diff\">149</td><td class=\"right \" data-stat=\"mov\">9.3</td><td class=\"right \" data-stat=\"sos_total\">-2.8</td><td class=\"right \" data-stat=\"srs_total\">6.5</td><td class=\"right \" data-stat=\"srs_offense\">3.0</td><td class=\"right \" data-stat=\"srs_defense\">3.6</td></tr>\n",
       "<tr><th class=\"left \" csk=\"12\" data-stat=\"team\" scope=\"row\"><a href=\"/teams/oti/2017.htm\">Tennessee Titans</a>+</th><td class=\"right \" data-stat=\"wins\">9</td><td class=\"right \" data-stat=\"losses\">7</td><td class=\"right \" data-stat=\"win_loss_perc\">.563</td><td class=\"right \" data-stat=\"points\">334</td><td class=\"right \" data-stat=\"points_opp\">356</td><td class=\"right \" data-stat=\"points_diff\">-22</td><td class=\"right \" data-stat=\"mov\">-1.4</td><td class=\"right \" data-stat=\"sos_total\">-2.1</td><td class=\"right \" data-stat=\"srs_total\">-3.5</td><td class=\"right \" data-stat=\"srs_offense\">-2.0</td><td class=\"right \" data-stat=\"srs_defense\">-1.5</td></tr>\n",
       "<tr><th class=\"left \" csk=\"13\" data-stat=\"team\" scope=\"row\"><a href=\"/teams/htx/2017.htm\">Houston Texans</a></th><td class=\"right \" data-stat=\"wins\">4</td><td class=\"right \" data-stat=\"losses\">12</td><td class=\"right \" data-stat=\"win_loss_perc\">.250</td><td class=\"right \" data-stat=\"points\">338</td><td class=\"right \" data-stat=\"points_opp\">436</td><td class=\"right \" data-stat=\"points_diff\">-98</td><td class=\"right \" data-stat=\"mov\">-6.1</td><td class=\"right \" data-stat=\"sos_total\">-0.3</td><td class=\"right \" data-stat=\"srs_total\">-6.4</td><td class=\"right \" data-stat=\"srs_offense\">-0.8</td><td class=\"right \" data-stat=\"srs_defense\">-5.6</td></tr>\n",
       "<tr><th class=\"left \" csk=\"14\" data-stat=\"team\" scope=\"row\"><a href=\"/teams/clt/2017.htm\">Indianapolis Colts</a></th><td class=\"right \" data-stat=\"wins\">4</td><td class=\"right \" data-stat=\"losses\">12</td><td class=\"right \" data-stat=\"win_loss_perc\">.250</td><td class=\"right \" data-stat=\"points\">263</td><td class=\"right \" data-stat=\"points_opp\">404</td><td class=\"right \" data-stat=\"points_diff\">-141</td><td class=\"right \" data-stat=\"mov\">-8.8</td><td class=\"right \" data-stat=\"sos_total\">-1.3</td><td class=\"right \" data-stat=\"srs_total\">-10.1</td><td class=\"right \" data-stat=\"srs_offense\">-6.1</td><td class=\"right \" data-stat=\"srs_defense\">-4.0</td></tr>\n",
       "<tr class=\"thead onecell\"><td class=\"right left\" colspan=\"12\" data-stat=\"onecell\"> AFC West</td></tr>\n",
       "<tr><th class=\"left \" csk=\"16\" data-stat=\"team\" scope=\"row\"><a href=\"/teams/kan/2017.htm\">Kansas City Chiefs</a>*</th><td class=\"right \" data-stat=\"wins\">10</td><td class=\"right \" data-stat=\"losses\">6</td><td class=\"right \" data-stat=\"win_loss_perc\">.625</td><td class=\"right \" data-stat=\"points\">415</td><td class=\"right \" data-stat=\"points_opp\">339</td><td class=\"right \" data-stat=\"points_diff\">76</td><td class=\"right \" data-stat=\"mov\">4.8</td><td class=\"right \" data-stat=\"sos_total\">-1.3</td><td class=\"right \" data-stat=\"srs_total\">3.4</td><td class=\"right \" data-stat=\"srs_offense\">3.8</td><td class=\"right \" data-stat=\"srs_defense\">-0.3</td></tr>\n",
       "<tr><th class=\"left \" csk=\"17\" data-stat=\"team\" scope=\"row\"><a href=\"/teams/sdg/2017.htm\">Los Angeles Chargers</a></th><td class=\"right \" data-stat=\"wins\">9</td><td class=\"right \" data-stat=\"losses\">7</td><td class=\"right \" data-stat=\"win_loss_perc\">.563</td><td class=\"right \" data-stat=\"points\">355</td><td class=\"right \" data-stat=\"points_opp\">272</td><td class=\"right \" data-stat=\"points_diff\">83</td><td class=\"right \" data-stat=\"mov\">5.2</td><td class=\"right \" data-stat=\"sos_total\">-1.5</td><td class=\"right \" data-stat=\"srs_total\">3.6</td><td class=\"right \" data-stat=\"srs_offense\">-0.3</td><td class=\"right \" data-stat=\"srs_defense\">4.0</td></tr>\n",
       "<tr><th class=\"left \" csk=\"18\" data-stat=\"team\" scope=\"row\"><a href=\"/teams/rai/2017.htm\">Oakland Raiders</a></th><td class=\"right \" data-stat=\"wins\">6</td><td class=\"right \" data-stat=\"losses\">10</td><td class=\"right \" data-stat=\"win_loss_perc\">.375</td><td class=\"right \" data-stat=\"points\">301</td><td class=\"right \" data-stat=\"points_opp\">373</td><td class=\"right \" data-stat=\"points_diff\">-72</td><td class=\"right \" data-stat=\"mov\">-4.5</td><td class=\"right \" data-stat=\"sos_total\">-0.2</td><td class=\"right \" data-stat=\"srs_total\">-4.7</td><td class=\"right \" data-stat=\"srs_offense\">-3.0</td><td class=\"right \" data-stat=\"srs_defense\">-1.8</td></tr>\n",
       "<tr><th class=\"left \" csk=\"19\" data-stat=\"team\" scope=\"row\"><a href=\"/teams/den/2017.htm\">Denver Broncos</a></th><td class=\"right \" data-stat=\"wins\">5</td><td class=\"right \" data-stat=\"losses\">11</td><td class=\"right \" data-stat=\"win_loss_perc\">.313</td><td class=\"right \" data-stat=\"points\">289</td><td class=\"right \" data-stat=\"points_opp\">382</td><td class=\"right \" data-stat=\"points_diff\">-93</td><td class=\"right \" data-stat=\"mov\">-5.8</td><td class=\"right \" data-stat=\"sos_total\">-0.9</td><td class=\"right \" data-stat=\"srs_total\">-6.7</td><td class=\"right \" data-stat=\"srs_offense\">-3.9</td><td class=\"right \" data-stat=\"srs_defense\">-2.9</td></tr>\n",
       "</tbody></table>\n",
       "</div>\n",
       "</div>\n",
       "</div>"
      ]
     },
     "execution_count": 8,
     "metadata": {},
     "output_type": "execute_result"
    }
   ],
   "source": [
    "afc_div"
   ]
  },
  {
   "cell_type": "code",
   "execution_count": null,
   "metadata": {},
   "outputs": [],
   "source": []
  }
 ],
 "metadata": {
  "kernelspec": {
   "display_name": "Python 3",
   "language": "python",
   "name": "python3"
  },
  "language_info": {
   "codemirror_mode": {
    "name": "ipython",
    "version": 3
   },
   "file_extension": ".py",
   "mimetype": "text/x-python",
   "name": "python",
   "nbconvert_exporter": "python",
   "pygments_lexer": "ipython3",
   "version": "3.6.4"
  }
 },
 "nbformat": 4,
 "nbformat_minor": 2
}
